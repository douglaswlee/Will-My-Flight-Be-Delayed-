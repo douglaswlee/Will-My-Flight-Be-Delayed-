{
 "cells": [
  {
   "cell_type": "markdown",
   "metadata": {},
   "source": [
    "This notebook performs all the modeling steps on the combined Airline On-Time Performance, Origin & Destination Survey, and NOAA GHCND data. I first set up the data for modeling and then evaluate four models:\n",
    "\n",
    "* `LRFlight`, a logistic regression model with only flight schedule features\n",
    "* `LRWX`, a logistic regression model with only weather features\n",
    "* `LRAll`, a logistic regression model with flight schedule and weather features\n",
    "* `RFFlight`, a random forest model with only flight schedule features\n",
    "* `RFWX`, a random forest model with only weather features\n",
    "* `RFAll`, a random forest model with flight schedule and weather features\n",
    "\n",
    "I use these models because for this stage of the project, I am emphasizing interpretability and want to be able to have some sense of which features are contributing to incidence of flight delays.\n",
    "\n",
    "Baseline, as well as models with mild-to-exhaustive parameter tuning, are evaluated for each of these with respect to recall."
   ]
  },
  {
   "cell_type": "code",
   "execution_count": 1,
   "metadata": {},
   "outputs": [],
   "source": [
    "import pandas as pd\n",
    "import numpy as np\n",
    "import pickle\n",
    "\n",
    "from sklearn import linear_model as lm\n",
    "from sklearn.linear_model import LogisticRegression\n",
    "from sklearn import model_selection\n",
    "from sklearn import metrics\n",
    "from sklearn.metrics import confusion_matrix\n",
    "from sklearn import preprocessing\n",
    "\n",
    "import math\n",
    "import matplotlib.pyplot as plt\n",
    "\n",
    "from sklearn.ensemble import RandomForestClassifier\n",
    "\n",
    "plt.style.use('fivethirtyeight')"
   ]
  },
  {
   "cell_type": "markdown",
   "metadata": {},
   "source": [
    "Use the 2015-16 data for training/validation and (later on) the 2017 data as the testing/holdout."
   ]
  },
  {
   "cell_type": "code",
   "execution_count": 2,
   "metadata": {},
   "outputs": [],
   "source": [
    "with open('aotp_nyc_data_all1516.pkl', 'rb') as picklefile1:\n",
    "    all_data1516 = pickle.load(picklefile1)"
   ]
  },
  {
   "cell_type": "markdown",
   "metadata": {},
   "source": [
    "Define functions below to:\n",
    "\n",
    "* Set up data for modeling\n",
    "* Split the training set (2015-16 data) into further train/validation sets\n",
    "* Evaluate the given candidate model (as specified above) and collect training and testing scores"
   ]
  },
  {
   "cell_type": "code",
   "execution_count": 3,
   "metadata": {},
   "outputs": [],
   "source": [
    "def org_data(df, idx_cols, num_cols, cat_cols, response):\n",
    "    '''\n",
    "    This function organizes a dataframe into a smaller dataframe that includes only the response\n",
    "    variable and features to be evaluated in modeling.\n",
    "    \n",
    "    Given:\n",
    "    df, dataframe \n",
    "    idx_cols, index variable columns in df (not to be considered in any model)\n",
    "    num_cols, numerical variable columns in df\n",
    "    cat_cols, categorical variable columns in df\n",
    "    response, response variable column in df\n",
    "    \n",
    "    Return:\n",
    "    all_data, a dataframe including only the response and features incorporated in a given model\n",
    "    '''\n",
    "    \n",
    "    all_cols = response + idx_cols + num_cols + cat_cols\n",
    "    all_data = df[all_cols]\n",
    "    all_data = pd.get_dummies(all_data, columns=cat_cols, drop_first=True)\n",
    "    return all_data"
   ]
  },
  {
   "cell_type": "code",
   "execution_count": 4,
   "metadata": {},
   "outputs": [],
   "source": [
    "def way_specific_train_test_split(dmat, split, response, to_drop):\n",
    "    '''\n",
    "    This function performs a train/validation split on the main \"training\" set -- this is specific\n",
    "    to this particular project. The split is conducted on quarters of Year 2017:\n",
    "    -Train: all of 2015, Validation: all of 2016\n",
    "    -Train: 2016 + Q1 2015, Valdiation: Q2-4 2016\n",
    "    -Train: 2016 + Q1-2 2015, Validation: Q3-4 2016\n",
    "    -Train: 2016 + Q1-3 2015, Validation: Q4 2016\n",
    "    \n",
    "    Given:\n",
    "    df, dataframe\n",
    "    split, defining the quarter of 2016 to split on\n",
    "    response, the response variable column in df\n",
    "    to_drop, columns to drop from df\n",
    "    \n",
    "    Return:\n",
    "    Xtrain, ytrain, Xtest, ytest, the data matrix and response vector for the train and validation sets\n",
    "    '''\n",
    "    train_set = dmat[(dmat['Year'] == 2015) | ((dmat['Year'] == 2016) & (dmat['Quarter'] < split))]\n",
    "    ytrain = train_set[response]\n",
    "    Xtrain = train_set.drop(to_drop, axis=1)\n",
    "\n",
    "    test_set = dmat[(dmat['Year'] == 2016) & (dmat['Quarter'] >= split)]\n",
    "    ytest = test_set[response]\n",
    "    Xtest = test_set.drop(to_drop, axis=1)\n",
    "    \n",
    "    return Xtrain, ytrain, Xtest, ytest"
   ]
  },
  {
   "cell_type": "code",
   "execution_count": 5,
   "metadata": {},
   "outputs": [],
   "source": [
    "def fit_eval(model, df, idx_cols, num_cols, cat_cols, response):\n",
    "    '''\n",
    "    This function sets up data for modeling, splits into train and validation sets iteratively,\n",
    "    and fits/scores a model (logistic regression or random forest) across those splits. The \n",
    "    scoring metric is a modification of F1 score replacing precision with accuracy.\n",
    "    \n",
    "    Given:\n",
    "    model, the model to be evaluated\n",
    "    df, dataframe \n",
    "    idx_cols, index variable columns in df (not to be considered in any model)\n",
    "    num_cols, numerical variable columns in df\n",
    "    cat_cols, categorical variable columns in df\n",
    "    response, response variable column in df\n",
    "    \n",
    "    Return:\n",
    "    best_coefs, the coefficients (or feature importance ratings) of the model in its best split\n",
    "    train_scores, the training scores for each split\n",
    "    test_scores, the validation scores for each split\n",
    "    '''\n",
    "    datadf = org_data(df, idx_cols, num_cols, cat_cols, response)\n",
    "    train_scores = []\n",
    "    test_scores = []\n",
    "    coefs = []\n",
    "    for q in range(1,5):\n",
    "        \n",
    "        Xtrain, ytrain, Xtest, ytest = way_specific_train_test_split(datadf, q, response, response+idx_cols)\n",
    "        \n",
    "        sc = preprocessing.StandardScaler()\n",
    "        Xtrain[num_cols] = sc.fit_transform(Xtrain[num_cols])        \n",
    "        \n",
    "        clf = model.fit(Xtrain, np.ravel(ytrain))      \n",
    "        ypred = clf.predict(Xtrain)\n",
    "        \n",
    "        Xtest[num_cols] = sc.transform(Xtest[num_cols])\n",
    "        ypred2 = clf.predict(Xtest)\n",
    "        \n",
    "        rec_test = metrics.recall_score(ytest, ypred2)\n",
    "        test_scores.append(rec_test)\n",
    "        \n",
    "        del(Xtrain)\n",
    "        del(ytrain)\n",
    "        del(Xtest)\n",
    "        del(ytest)\n",
    "    \n",
    "    del(datadf)\n",
    "    \n",
    "    return train_scores, test_scores"
   ]
  },
  {
   "cell_type": "markdown",
   "metadata": {},
   "source": [
    "Define the parts of the main dataframe with all flight schedule and weather data to be used in the model as inputs for the above functions."
   ]
  },
  {
   "cell_type": "code",
   "execution_count": 6,
   "metadata": {},
   "outputs": [],
   "source": [
    "response = ['ArrDel15']\n",
    "idx_cols = ['Year', 'Quarter']\n",
    "num_cols = ['AirTime', 'BusPassRatio', 'OrigPerf', 'DestPerf']\n",
    "num_cols_wx = ['ATemp', 'Precip', 'AWind', 'ATempDest', 'PrecipDest', 'AWindDest']\n",
    "num_cols_all = ['AirTime', 'ATemp', 'Precip', 'AWind', 'ATempDest', 'PrecipDest', 'AWindDest', 'BusPassRatio', 'OrigPerf', 'DestPerf']\n",
    "cat_cols = ['Month', 'DayOfWeek', 'Origin', 'UniqueCarrier', 'DepTimeBlk', 'ArrTimeBlk']"
   ]
  },
  {
   "cell_type": "markdown",
   "metadata": {},
   "source": [
    "Run logistic regression for the case with no weather features and the case with weather features. Specify `balanced` for `class_weight` argument because of imbalanced classes. \n",
    "\n",
    "Do the same for a random forest classifier. Some manual tuning led to using the specified parameters (max_depth for all generated trees, n_estimators for the number of trees to generate and sample) to fit for all cases."
   ]
  },
  {
   "cell_type": "code",
   "execution_count": 49,
   "metadata": {},
   "outputs": [],
   "source": [
    "# Baseline Logistic Regression\n",
    "lr = LogisticRegression(class_weight='balanced')\n",
    "lrtrain_fl, lrtest_fl = fit_eval(lr, all_data1516, idx_cols, num_cols, cat_cols, response)\n",
    "lrtrain_wx, lrtest_wx = fit_eval(lr, all_data1516, idx_cols, num_cols_wx, cat_cols, response)\n",
    "lrtrain_all, lrtest_all = fit_eval(lr, all_data1516, idx_cols, num_cols_all, cat_cols, response)"
   ]
  },
  {
   "cell_type": "code",
   "execution_count": 9,
   "metadata": {},
   "outputs": [],
   "source": [
    "# Baseline Random Forest with 100 trees and maximum depth of 3\n",
    "rf = RandomForestClassifier(n_jobs=-1, max_features='sqrt', max_depth=5, n_estimators=300, class_weight='balanced')\n",
    "rftrain_fl, rftest_fl = fit_eval(rf, all_data1516, idx_cols, num_cols, cat_cols, response)\n",
    "rftrain_wx, rftest_wx = fit_eval(rf, all_data1516, idx_cols, num_cols_wx, cat_cols, response)\n",
    "rftrain_all, rftest_all = fit_eval(rf, all_data1516, idx_cols, num_cols_all, cat_cols, response)"
   ]
  },
  {
   "cell_type": "markdown",
   "metadata": {},
   "source": [
    "Collect the scores above for each model across all splits into a dataframe to visualize results and do a preliminary model selection."
   ]
  },
  {
   "cell_type": "code",
   "execution_count": 10,
   "metadata": {},
   "outputs": [],
   "source": [
    "scores_df = pd.DataFrame(np.array([lrtest_fl, rftest_fl, lrtest_wx, rftest_wx, lrtest_all, rftest_all])).T\n",
    "scores_df.columns = ['LRFlight', 'RFFlight', 'LRWX', 'RFWX', 'LRFlightWX', 'RFFlightWX']"
   ]
  },
  {
   "cell_type": "code",
   "execution_count": 11,
   "metadata": {},
   "outputs": [
    {
     "data": {
      "text/html": [
       "<div>\n",
       "<style scoped>\n",
       "    .dataframe tbody tr th:only-of-type {\n",
       "        vertical-align: middle;\n",
       "    }\n",
       "\n",
       "    .dataframe tbody tr th {\n",
       "        vertical-align: top;\n",
       "    }\n",
       "\n",
       "    .dataframe thead th {\n",
       "        text-align: right;\n",
       "    }\n",
       "</style>\n",
       "<table border=\"1\" class=\"dataframe\">\n",
       "  <thead>\n",
       "    <tr style=\"text-align: right;\">\n",
       "      <th></th>\n",
       "      <th>LRFlight</th>\n",
       "      <th>RFFlight</th>\n",
       "      <th>LRWX</th>\n",
       "      <th>RFWX</th>\n",
       "      <th>LRFlightWX</th>\n",
       "      <th>RFFlightWX</th>\n",
       "    </tr>\n",
       "  </thead>\n",
       "  <tbody>\n",
       "    <tr>\n",
       "      <th>0</th>\n",
       "      <td>0.632578</td>\n",
       "      <td>0.684912</td>\n",
       "      <td>0.639568</td>\n",
       "      <td>0.570340</td>\n",
       "      <td>0.643486</td>\n",
       "      <td>0.577704</td>\n",
       "    </tr>\n",
       "    <tr>\n",
       "      <th>1</th>\n",
       "      <td>0.584093</td>\n",
       "      <td>0.690382</td>\n",
       "      <td>0.608113</td>\n",
       "      <td>0.500608</td>\n",
       "      <td>0.617158</td>\n",
       "      <td>0.561468</td>\n",
       "    </tr>\n",
       "    <tr>\n",
       "      <th>2</th>\n",
       "      <td>0.587957</td>\n",
       "      <td>0.705678</td>\n",
       "      <td>0.615371</td>\n",
       "      <td>0.558083</td>\n",
       "      <td>0.631103</td>\n",
       "      <td>0.579819</td>\n",
       "    </tr>\n",
       "    <tr>\n",
       "      <th>3</th>\n",
       "      <td>0.503463</td>\n",
       "      <td>0.697661</td>\n",
       "      <td>0.571755</td>\n",
       "      <td>0.535409</td>\n",
       "      <td>0.588950</td>\n",
       "      <td>0.579007</td>\n",
       "    </tr>\n",
       "  </tbody>\n",
       "</table>\n",
       "</div>"
      ],
      "text/plain": [
       "   LRFlight  RFFlight      LRWX      RFWX  LRFlightWX  RFFlightWX\n",
       "0  0.632578  0.684912  0.639568  0.570340    0.643486    0.577704\n",
       "1  0.584093  0.690382  0.608113  0.500608    0.617158    0.561468\n",
       "2  0.587957  0.705678  0.615371  0.558083    0.631103    0.579819\n",
       "3  0.503463  0.697661  0.571755  0.535409    0.588950    0.579007"
      ]
     },
     "execution_count": 11,
     "metadata": {},
     "output_type": "execute_result"
    }
   ],
   "source": [
    "scores_df"
   ]
  },
  {
   "cell_type": "code",
   "execution_count": 12,
   "metadata": {},
   "outputs": [
    {
     "data": {
      "text/plain": [
       "<matplotlib.axes._subplots.AxesSubplot at 0x7f945e284550>"
      ]
     },
     "execution_count": 12,
     "metadata": {},
     "output_type": "execute_result"
    },
    {
     "data": {
      "image/png": "[encoded data removed]",
      "text/plain": [
       "<Figure size 432x288 with 1 Axes>"
      ]
     },
     "metadata": {},
     "output_type": "display_data"
    }
   ],
   "source": [
    "# Comparison of baseline models\n",
    "scores_df.boxplot()"
   ]
  },
  {
   "cell_type": "markdown",
   "metadata": {},
   "source": [
    "Here I create a preliminary \"grid\" and function for a \"grid search\" to evaluate the different random forest models."
   ]
  },
  {
   "cell_type": "code",
   "execution_count": 13,
   "metadata": {},
   "outputs": [],
   "source": [
    "# \"Grid\" for RF models\n",
    "estimators = [100, 300, 500, 1000]\n",
    "depth = [3, 5, 10]"
   ]
  },
  {
   "cell_type": "code",
   "execution_count": 16,
   "metadata": {},
   "outputs": [],
   "source": [
    "def rf_grid(estimators, depth, df, idx_cols, num_cols, cat_cols, response):\n",
    "    \n",
    "    best_test = 0\n",
    "    best_depth = None\n",
    "    best_est = None\n",
    "    best_test_scores = []\n",
    "    \n",
    "    for x in estimators:\n",
    "        for y in depth:\n",
    "            rf = RandomForestClassifier(n_jobs=-1, max_features='sqrt', max_depth=y, n_estimators=x, random_state=1, class_weight='balanced')\n",
    "            train_scores, test_scores = fit_eval(rf, df, idx_cols, num_cols, cat_cols, response)\n",
    "            mean_test = np.mean(test_scores)\n",
    "            if mean_test > best_test:\n",
    "                best_test = mean_test\n",
    "                best_est = x\n",
    "                best_depth = y\n",
    "                best_test_scores = test_scores\n",
    "            print(x,y)\n",
    "    return best_est, best_depth, best_test_scores"
   ]
  },
  {
   "cell_type": "markdown",
   "metadata": {},
   "source": [
    "Best parameters for RF with only flight features (prelim)"
   ]
  },
  {
   "cell_type": "code",
   "execution_count": 17,
   "metadata": {},
   "outputs": [
    {
     "name": "stdout",
     "output_type": "stream",
     "text": [
      "100 3\n",
      "100 5\n",
      "100 10\n",
      "300 3\n",
      "300 5\n",
      "300 10\n",
      "500 3\n",
      "500 5\n",
      "500 10\n",
      "1000 3\n",
      "1000 5\n",
      "1000 10\n"
     ]
    }
   ],
   "source": [
    "best_est_fl, best_depth_fl, best_test_scores_fl = rf_grid(estimators, depth, all_data1516, idx_cols, num_cols, cat_cols, response)"
   ]
  },
  {
   "cell_type": "code",
   "execution_count": 18,
   "metadata": {},
   "outputs": [
    {
     "name": "stdout",
     "output_type": "stream",
     "text": [
      "100\n",
      "3\n",
      "[0.7136978479592038, 0.7266139657444005, 0.7669439421338156, 0.7089886724798304]\n"
     ]
    }
   ],
   "source": [
    "print(best_est_fl)\n",
    "print(best_depth_fl)\n",
    "print(best_test_scores_fl)"
   ]
  },
  {
   "cell_type": "markdown",
   "metadata": {},
   "source": [
    "Best parameters for RF with only weather features"
   ]
  },
  {
   "cell_type": "code",
   "execution_count": 19,
   "metadata": {},
   "outputs": [
    {
     "name": "stdout",
     "output_type": "stream",
     "text": [
      "100 3\n",
      "100 5\n",
      "100 10\n",
      "300 3\n",
      "300 5\n",
      "300 10\n",
      "500 3\n",
      "500 5\n",
      "500 10\n",
      "1000 3\n",
      "1000 5\n",
      "1000 10\n"
     ]
    }
   ],
   "source": [
    "best_est_wx, best_depth_wx, best_test_scores_wx = rf_grid(estimators, depth, all_data1516, idx_cols, num_cols_wx, cat_cols, response)"
   ]
  },
  {
   "cell_type": "code",
   "execution_count": 20,
   "metadata": {},
   "outputs": [
    {
     "name": "stdout",
     "output_type": "stream",
     "text": [
      "300\n",
      "3\n",
      "[0.5471066569532773, 0.5323553258335867, 0.5502350813743219, 0.5579822345367126]\n"
     ]
    }
   ],
   "source": [
    "print(best_est_wx)\n",
    "print(best_depth_wx)\n",
    "print(best_test_scores_wx)"
   ]
  },
  {
   "cell_type": "markdown",
   "metadata": {},
   "source": [
    "Best parameters for RF with all features"
   ]
  },
  {
   "cell_type": "code",
   "execution_count": 21,
   "metadata": {},
   "outputs": [
    {
     "name": "stdout",
     "output_type": "stream",
     "text": [
      "100 3\n",
      "100 5\n",
      "100 10\n",
      "300 3\n",
      "300 5\n",
      "300 10\n",
      "500 3\n",
      "500 5\n",
      "500 10\n",
      "1000 3\n",
      "1000 5\n",
      "1000 10\n"
     ]
    }
   ],
   "source": [
    "best_est_all, best_depth_all, best_test_scores_all = rf_grid(estimators, depth, all_data1516, idx_cols, num_cols_all, cat_cols, response)"
   ]
  },
  {
   "cell_type": "code",
   "execution_count": 22,
   "metadata": {},
   "outputs": [
    {
     "name": "stdout",
     "output_type": "stream",
     "text": [
      "1000\n",
      "5\n",
      "[0.5801256177518754, 0.5659268267963921, 0.5792766726943942, 0.5899274712737348]\n"
     ]
    }
   ],
   "source": [
    "print(best_est_all)\n",
    "print(best_depth_all)\n",
    "print(best_test_scores_all)"
   ]
  },
  {
   "cell_type": "markdown",
   "metadata": {},
   "source": [
    "Now let's create a preliminary \"grid\" and function for a \"grid search\" to evaluate the different logistic regression models."
   ]
  },
  {
   "cell_type": "code",
   "execution_count": 23,
   "metadata": {},
   "outputs": [],
   "source": [
    "# \"Grid\" for LR models\n",
    "pen = ['l1', 'l2']\n",
    "Cs = [.001, .01, .1, .5]"
   ]
  },
  {
   "cell_type": "code",
   "execution_count": 65,
   "metadata": {},
   "outputs": [],
   "source": [
    "def lr_grid(pen, Cs, df, idx_cols, num_cols, cat_cols, response):\n",
    "    \n",
    "    best_test = 0\n",
    "    best_pen = None\n",
    "    best_C = None\n",
    "    best_test_scores = []\n",
    "    \n",
    "    for p in pen:\n",
    "        for c in Cs:\n",
    "            lr = LogisticRegression(class_weight='balanced', penalty=p, C=c, n_jobs=-1, solver='saga')\n",
    "            train_scores, test_scores = fit_eval(lr, df, idx_cols, num_cols, cat_cols, response)\n",
    "            mean_test = np.mean(test_scores)\n",
    "            if mean_test > best_test:\n",
    "                best_test = mean_test\n",
    "                best_pen = p\n",
    "                best_C = c\n",
    "                best_test_scores = test_scores\n",
    "    return best_pen, best_C, best_test_scores"
   ]
  },
  {
   "cell_type": "markdown",
   "metadata": {},
   "source": [
    "Best parameters for logistic regression with only flight features"
   ]
  },
  {
   "cell_type": "code",
   "execution_count": null,
   "metadata": {},
   "outputs": [],
   "source": [
    "best_pen_fl, best_c_fl, best_test_scores_fl_lr = lr_grid(pen, Cs, all_data1516, idx_cols, num_cols, cat_cols, response)"
   ]
  },
  {
   "cell_type": "code",
   "execution_count": 68,
   "metadata": {},
   "outputs": [
    {
     "name": "stdout",
     "output_type": "stream",
     "text": [
      "l1\n",
      "0.001\n",
      "[0.6272027407509501, 0.6128002432350258, 0.618372513562387, 0.5335343492787874]\n"
     ]
    }
   ],
   "source": [
    "print(best_pen_fl)\n",
    "print(best_c_fl)\n",
    "print(best_test_scores_fl_lr)"
   ]
  },
  {
   "cell_type": "markdown",
   "metadata": {},
   "source": [
    "Best paramaters for logistic regression with only weather features"
   ]
  },
  {
   "cell_type": "code",
   "execution_count": 34,
   "metadata": {},
   "outputs": [
    {
     "name": "stderr",
     "output_type": "stream",
     "text": [
      "/home/ubuntu/miniconda3/lib/python3.6/site-packages/sklearn/linear_model/sag.py:326: ConvergenceWarning: The max_iter was reached which means the coef_ did not converge\n",
      "  \"the coef_ did not converge\", ConvergenceWarning)\n"
     ]
    }
   ],
   "source": [
    "best_pen_wx, best_c_wx, best_test_scores_wx_lr = lr_grid(pen, Cs, all_data1516, idx_cols, num_cols_wx, cat_cols, response)"
   ]
  },
  {
   "cell_type": "code",
   "execution_count": 35,
   "metadata": {},
   "outputs": [
    {
     "name": "stdout",
     "output_type": "stream",
     "text": [
      "l2\n",
      "0.5\n",
      "[0.6394888656992656, 0.6080115536637276, 0.6149728752260398, 0.5718360361828702]\n"
     ]
    }
   ],
   "source": [
    "print(best_pen_wx)\n",
    "print(best_c_wx)\n",
    "print(best_test_scores_wx_lr)"
   ]
  },
  {
   "cell_type": "markdown",
   "metadata": {},
   "source": [
    "Best parameters for logisitc regression with all features"
   ]
  },
  {
   "cell_type": "code",
   "execution_count": 39,
   "metadata": {},
   "outputs": [
    {
     "name": "stderr",
     "output_type": "stream",
     "text": [
      "/home/ubuntu/miniconda3/lib/python3.6/site-packages/sklearn/linear_model/sag.py:326: ConvergenceWarning: The max_iter was reached which means the coef_ did not converge\n",
      "  \"the coef_ did not converge\", ConvergenceWarning)\n"
     ]
    }
   ],
   "source": [
    "best_pen_all, best_c_all, best_test_scores_all_lr = lr_grid(pen, Cs, all_data1516, idx_cols, num_cols_all, cat_cols, response)"
   ]
  },
  {
   "cell_type": "code",
   "execution_count": 40,
   "metadata": {},
   "outputs": [
    {
     "name": "stdout",
     "output_type": "stream",
     "text": [
      "l2\n",
      "0.5\n",
      "[0.6434267262596232, 0.6170315192054322, 0.6311392405063291, 0.5889495558634178]\n"
     ]
    }
   ],
   "source": [
    "print(best_pen_all)\n",
    "print(best_c_all)\n",
    "print(best_test_scores_all_lr)"
   ]
  },
  {
   "cell_type": "markdown",
   "metadata": {},
   "source": [
    "For the random forest model with only flight features, which was selected as best performing for recall, do a more \"exhaustive grid search\""
   ]
  },
  {
   "cell_type": "code",
   "execution_count": 43,
   "metadata": {},
   "outputs": [
    {
     "name": "stdout",
     "output_type": "stream",
     "text": [
      "100 3\n",
      "100 4\n",
      "100 5\n",
      "100 6\n",
      "100 7\n",
      "100 8\n",
      "100 9\n",
      "100 10\n",
      "100 11\n",
      "100 12\n",
      "200 3\n",
      "200 4\n",
      "200 5\n",
      "200 6\n",
      "200 7\n",
      "200 8\n",
      "200 9\n",
      "200 10\n",
      "200 11\n",
      "200 12\n",
      "300 3\n",
      "300 4\n",
      "300 5\n",
      "300 6\n",
      "300 7\n",
      "300 8\n",
      "300 9\n",
      "300 10\n",
      "300 11\n",
      "300 12\n",
      "400 3\n",
      "400 4\n",
      "400 5\n",
      "400 6\n",
      "400 7\n",
      "400 8\n",
      "400 9\n",
      "400 10\n",
      "400 11\n",
      "400 12\n",
      "500 3\n",
      "500 4\n",
      "500 5\n",
      "500 6\n",
      "500 7\n",
      "500 8\n",
      "500 9\n",
      "500 10\n",
      "500 11\n",
      "500 12\n",
      "600 3\n",
      "600 4\n",
      "600 5\n",
      "600 6\n",
      "600 7\n",
      "600 8\n",
      "600 9\n",
      "600 10\n",
      "600 11\n",
      "600 12\n",
      "700 3\n",
      "700 4\n",
      "700 5\n",
      "700 6\n",
      "700 7\n",
      "700 8\n",
      "700 9\n",
      "700 10\n",
      "700 11\n",
      "700 12\n",
      "800 3\n",
      "800 4\n",
      "800 5\n",
      "800 6\n",
      "800 7\n",
      "800 8\n",
      "800 9\n",
      "800 10\n",
      "800 11\n",
      "800 12\n",
      "900 3\n",
      "900 4\n",
      "900 5\n",
      "900 6\n",
      "900 7\n",
      "900 8\n",
      "900 9\n",
      "900 10\n",
      "900 11\n",
      "900 12\n",
      "1000 3\n",
      "1000 4\n",
      "1000 5\n",
      "1000 6\n",
      "1000 7\n",
      "1000 8\n",
      "1000 9\n",
      "1000 10\n",
      "1000 11\n",
      "1000 12\n"
     ]
    }
   ],
   "source": [
    "# Another \"grid\" for RF model with only flight schedule features\n",
    "estimators = np.arange(100, 1100, 100)\n",
    "depth = np.arange(3, 13, 1)\n",
    "best_est_fl, best_depth_fl, best_test_scores_fl = rf_grid(estimators, depth, all_data1516, idx_cols, num_cols, cat_cols, response)"
   ]
  },
  {
   "cell_type": "code",
   "execution_count": 44,
   "metadata": {},
   "outputs": [
    {
     "name": "stdout",
     "output_type": "stream",
     "text": [
      "200\n",
      "3\n",
      "[0.7252357794010514, 0.7292490118577075, 0.7640867992766727, 0.7144487001874338]\n"
     ]
    }
   ],
   "source": [
    "print(best_est_fl)\n",
    "print(best_depth_fl)\n",
    "print(best_test_scores_fl)"
   ]
  },
  {
   "cell_type": "markdown",
   "metadata": {},
   "source": [
    "Another model comparison just for kicks"
   ]
  },
  {
   "cell_type": "code",
   "execution_count": 73,
   "metadata": {},
   "outputs": [],
   "source": [
    "scores_df = pd.DataFrame(np.array([lrtest_fl, best_test_scores_fl_lr, \n",
    "                                   rftest_fl, best_test_scores_fl, \n",
    "                                   lrtest_wx, best_test_scores_wx_lr, \n",
    "                                   rftest_wx, best_test_scores_wx, \n",
    "                                   lrtest_all, best_test_scores_all_lr, \n",
    "                                   rftest_all, best_test_scores_all])).T\n",
    "scores_df.columns = ['LRFlight', 'LRFlightOpt', 'RFFlight', 'RFFlightOpt', 'LRWX', 'LRWXOpt', 'RFWX', 'RFWXOpt', \n",
    "                     'LRFlightWX', 'LRFlightWXOpt', 'RFFlightWX', 'RFFlightWXOpt']"
   ]
  },
  {
   "cell_type": "code",
   "execution_count": 74,
   "metadata": {
    "scrolled": true
   },
   "outputs": [
    {
     "data": {
      "text/html": [
       "<div>\n",
       "<style scoped>\n",
       "    .dataframe tbody tr th:only-of-type {\n",
       "        vertical-align: middle;\n",
       "    }\n",
       "\n",
       "    .dataframe tbody tr th {\n",
       "        vertical-align: top;\n",
       "    }\n",
       "\n",
       "    .dataframe thead th {\n",
       "        text-align: right;\n",
       "    }\n",
       "</style>\n",
       "<table border=\"1\" class=\"dataframe\">\n",
       "  <thead>\n",
       "    <tr style=\"text-align: right;\">\n",
       "      <th></th>\n",
       "      <th>LRFlight</th>\n",
       "      <th>LRFlightOpt</th>\n",
       "      <th>RFFlight</th>\n",
       "      <th>RFFlightOpt</th>\n",
       "      <th>LRWX</th>\n",
       "      <th>LRWXOpt</th>\n",
       "      <th>RFWX</th>\n",
       "      <th>RFWXOpt</th>\n",
       "      <th>LRFlightWX</th>\n",
       "      <th>LRFlightWXOpt</th>\n",
       "      <th>RFFlightWX</th>\n",
       "      <th>RFFlightWXOpt</th>\n",
       "    </tr>\n",
       "  </thead>\n",
       "  <tbody>\n",
       "    <tr>\n",
       "      <th>0</th>\n",
       "      <td>0.632578</td>\n",
       "      <td>0.627203</td>\n",
       "      <td>0.684912</td>\n",
       "      <td>0.725236</td>\n",
       "      <td>0.639568</td>\n",
       "      <td>0.639489</td>\n",
       "      <td>0.570340</td>\n",
       "      <td>0.547107</td>\n",
       "      <td>0.643486</td>\n",
       "      <td>0.643427</td>\n",
       "      <td>0.577704</td>\n",
       "      <td>0.580126</td>\n",
       "    </tr>\n",
       "    <tr>\n",
       "      <th>1</th>\n",
       "      <td>0.584093</td>\n",
       "      <td>0.612800</td>\n",
       "      <td>0.690382</td>\n",
       "      <td>0.729249</td>\n",
       "      <td>0.608113</td>\n",
       "      <td>0.608012</td>\n",
       "      <td>0.500608</td>\n",
       "      <td>0.532355</td>\n",
       "      <td>0.617158</td>\n",
       "      <td>0.617032</td>\n",
       "      <td>0.561468</td>\n",
       "      <td>0.565927</td>\n",
       "    </tr>\n",
       "    <tr>\n",
       "      <th>2</th>\n",
       "      <td>0.587957</td>\n",
       "      <td>0.618373</td>\n",
       "      <td>0.705678</td>\n",
       "      <td>0.764087</td>\n",
       "      <td>0.615371</td>\n",
       "      <td>0.614973</td>\n",
       "      <td>0.558083</td>\n",
       "      <td>0.550235</td>\n",
       "      <td>0.631103</td>\n",
       "      <td>0.631139</td>\n",
       "      <td>0.579819</td>\n",
       "      <td>0.579277</td>\n",
       "    </tr>\n",
       "    <tr>\n",
       "      <th>3</th>\n",
       "      <td>0.503463</td>\n",
       "      <td>0.533534</td>\n",
       "      <td>0.697661</td>\n",
       "      <td>0.714449</td>\n",
       "      <td>0.571755</td>\n",
       "      <td>0.571836</td>\n",
       "      <td>0.535409</td>\n",
       "      <td>0.557982</td>\n",
       "      <td>0.588950</td>\n",
       "      <td>0.588950</td>\n",
       "      <td>0.579007</td>\n",
       "      <td>0.589927</td>\n",
       "    </tr>\n",
       "  </tbody>\n",
       "</table>\n",
       "</div>"
      ],
      "text/plain": [
       "   LRFlight  LRFlightOpt  RFFlight  RFFlightOpt      LRWX   LRWXOpt      RFWX  \\\n",
       "0  0.632578     0.627203  0.684912     0.725236  0.639568  0.639489  0.570340   \n",
       "1  0.584093     0.612800  0.690382     0.729249  0.608113  0.608012  0.500608   \n",
       "2  0.587957     0.618373  0.705678     0.764087  0.615371  0.614973  0.558083   \n",
       "3  0.503463     0.533534  0.697661     0.714449  0.571755  0.571836  0.535409   \n",
       "\n",
       "    RFWXOpt  LRFlightWX  LRFlightWXOpt  RFFlightWX  RFFlightWXOpt  \n",
       "0  0.547107    0.643486       0.643427    0.577704       0.580126  \n",
       "1  0.532355    0.617158       0.617032    0.561468       0.565927  \n",
       "2  0.550235    0.631103       0.631139    0.579819       0.579277  \n",
       "3  0.557982    0.588950       0.588950    0.579007       0.589927  "
      ]
     },
     "execution_count": 74,
     "metadata": {},
     "output_type": "execute_result"
    }
   ],
   "source": [
    "scores_df"
   ]
  },
  {
   "cell_type": "code",
   "execution_count": 77,
   "metadata": {},
   "outputs": [
    {
     "data": {
      "text/plain": [
       "(array([ 1,  2,  3,  4,  5,  6,  7,  8,  9, 10, 11, 12]),\n",
       " <a list of 12 Text xticklabel objects>)"
      ]
     },
     "execution_count": 77,
     "metadata": {},
     "output_type": "execute_result"
    },
    {
     "data": {
      "image/png": "[encoded data removed]",
      "text/plain": [
       "<Figure size 432x288 with 1 Axes>"
      ]
     },
     "metadata": {},
     "output_type": "display_data"
    }
   ],
   "source": [
    "scores_df.boxplot()\n",
    "plt.xticks(rotation=90)"
   ]
  },
  {
   "cell_type": "markdown",
   "metadata": {},
   "source": [
    "Now fit the \"optimized\" RFFlightOpt model on all the training data and evaluate on holdout."
   ]
  },
  {
   "cell_type": "code",
   "execution_count": 33,
   "metadata": {},
   "outputs": [],
   "source": [
    "rf2 = RandomForestClassifier(n_jobs=-1, max_features='sqrt', max_depth=best_depth_fl, n_estimators=best_est_fl, class_weight='balanced', random_state=1)"
   ]
  },
  {
   "cell_type": "code",
   "execution_count": 34,
   "metadata": {},
   "outputs": [],
   "source": [
    "data_mod = org_data(all_data1516, idx_cols, num_cols, cat_cols, response)"
   ]
  },
  {
   "cell_type": "code",
   "execution_count": 35,
   "metadata": {},
   "outputs": [],
   "source": [
    "drop_cols = idx_cols + response"
   ]
  },
  {
   "cell_type": "code",
   "execution_count": 36,
   "metadata": {},
   "outputs": [],
   "source": [
    "sc = preprocessing.StandardScaler()\n",
    "X = data_mod.drop(drop_cols, axis=1)\n",
    "Y = data_mod[response]"
   ]
  },
  {
   "cell_type": "code",
   "execution_count": 37,
   "metadata": {},
   "outputs": [],
   "source": [
    "X[num_cols] = sc.fit_transform(X[num_cols])    \n",
    "clf = rf2.fit(X, np.ravel(Y))      \n",
    "ypred = clf.predict(X)"
   ]
  },
  {
   "cell_type": "markdown",
   "metadata": {},
   "source": [
    "Evaluating on holdout for recall"
   ]
  },
  {
   "cell_type": "code",
   "execution_count": 38,
   "metadata": {},
   "outputs": [],
   "source": [
    "with open('aotp_nyc_data_all17.pkl', 'rb') as picklefile2:\n",
    "    all_data17 = pickle.load(picklefile2)"
   ]
  },
  {
   "cell_type": "code",
   "execution_count": 39,
   "metadata": {},
   "outputs": [],
   "source": [
    "data_mod_holdout = org_data(all_data17, idx_cols, num_cols, cat_cols, response)\n",
    "Xholdout = data_mod_holdout.drop(drop_cols, axis=1)\n",
    "Yholdout = data_mod_holdout[response]"
   ]
  },
  {
   "cell_type": "code",
   "execution_count": 40,
   "metadata": {},
   "outputs": [],
   "source": [
    "Xholdout[num_cols] = sc.transform(Xholdout[num_cols])\n",
    "ypred2 = clf.predict(Xholdout)"
   ]
  },
  {
   "cell_type": "code",
   "execution_count": 41,
   "metadata": {},
   "outputs": [
    {
     "data": {
      "text/plain": [
       "0.7397824715097071"
      ]
     },
     "execution_count": 41,
     "metadata": {},
     "output_type": "execute_result"
    }
   ],
   "source": [
    "metrics.recall_score(Yholdout, ypred2)"
   ]
  },
  {
   "cell_type": "markdown",
   "metadata": {},
   "source": [
    "Performance appears to do slightly better on the holdout set, but not by a large amount, at least relative to what was observed in the train/validation step. There may be some overfitting here but nothing substantial. Let's now construct and look at the confusion matrix from applying this classifier to the 2015-16 flight data."
   ]
  },
  {
   "cell_type": "code",
   "execution_count": 42,
   "metadata": {},
   "outputs": [],
   "source": [
    "def plot_confusion_matrix(cm,title='Confusion matrix', cmap=plt.cm.Reds):\n",
    "    plt.imshow(cm, interpolation='nearest',cmap=cmap)\n",
    "    plt.title(title)\n",
    "    plt.colorbar()\n",
    "    plt.tight_layout()\n",
    "    plt.ylabel('True label')\n",
    "    plt.xlabel('Predicted label')\n",
    "cm=confusion_matrix(Yholdout, ypred2, labels=None)"
   ]
  },
  {
   "cell_type": "code",
   "execution_count": 43,
   "metadata": {},
   "outputs": [],
   "source": [
    "import itertools\n",
    "def plot_confusion_matrix(cm,title='Confusion matrix', cmap=plt.cm.Blues):\n",
    "    thresh = cm.max() / 2.\n",
    "    for i, j in itertools.product(range(cm.shape[0]), range(cm.shape[1])):\n",
    "        \n",
    "        plt.text(j, i, cm[i, j],\n",
    "                 horizontalalignment=\"center\",\n",
    "                 color=\"white\" if cm[i,j] > thresh else \"black\")\n",
    "    \n",
    "    plt.imshow(cm, interpolation='nearest',cmap=cmap)\n",
    "    #plt.title(title)\n",
    "    plt.colorbar()\n",
    "    plt.tight_layout()\n",
    "    plt.xticks(range(0,2), ['Not Delayed', 'Delayed'])\n",
    "    plt.yticks(range(0,2), ['Not Delayed', 'Delayed'])\n",
    "    plt.title('RFFlight Confusion Matrix')\n",
    "    plt.ylabel('True label')\n",
    "    plt.xlabel('Predicted label')"
   ]
  },
  {
   "cell_type": "code",
   "execution_count": 44,
   "metadata": {},
   "outputs": [
    {
     "data": {
      "image/png": "[encoded data removed]",
      "text/plain": [
       "<matplotlib.figure.Figure at 0x1b13dc2c50>"
      ]
     },
     "metadata": {},
     "output_type": "display_data"
    }
   ],
   "source": [
    "plot_confusion_matrix(cm)"
   ]
  },
  {
   "cell_type": "markdown",
   "metadata": {},
   "source": [
    "The model performs well in correctly identifying flights that are delayed, compared to the same task for not delayed flights. About half of the flights which were not actually delayed are misclassified, and there is a rather large number of false positives (so precision is not quite what it needs to be)."
   ]
  },
  {
   "cell_type": "code",
   "execution_count": 45,
   "metadata": {},
   "outputs": [],
   "source": [
    "feat_imp = np.ravel(rf2.feature_importances_)\n",
    "features = Xholdout.columns.values\n",
    "zipped = zip(features, feat_imp)\n",
    "feat_imp_sort = sorted(list(zipped), key=lambda tup: abs(tup[1]), reverse=True)[:10]"
   ]
  },
  {
   "cell_type": "code",
   "execution_count": 46,
   "metadata": {},
   "outputs": [
    {
     "data": {
      "text/plain": [
       "([<matplotlib.axis.YTick at 0x1aac2b2f98>,\n",
       "  <matplotlib.axis.YTick at 0x1b13db24a8>,\n",
       "  <matplotlib.axis.YTick at 0x1aac2cdc88>,\n",
       "  <matplotlib.axis.YTick at 0x1abaff1c50>,\n",
       "  <matplotlib.axis.YTick at 0x1abaffc400>,\n",
       "  <matplotlib.axis.YTick at 0x1abaffcb70>,\n",
       "  <matplotlib.axis.YTick at 0x1abb001320>,\n",
       "  <matplotlib.axis.YTick at 0x1aac2d6320>,\n",
       "  <matplotlib.axis.YTick at 0x1abb001cc0>,\n",
       "  <matplotlib.axis.YTick at 0x1aac2d0c50>],\n",
       " <a list of 10 Text yticklabel objects>)"
      ]
     },
     "execution_count": 46,
     "metadata": {},
     "output_type": "execute_result"
    },
    {
     "data": {
      "image/png": "[encoded data removed]",
      "text/plain": [
       "<matplotlib.figure.Figure at 0x1b13db2f28>"
      ]
     },
     "metadata": {},
     "output_type": "display_data"
    }
   ],
   "source": [
    "feat_imp_df = pd.DataFrame.from_records(feat_imp_sort)\n",
    "feat_imp_df.plot.barh()\n",
    "plt.legend([])\n",
    "plt.yticks(range(0, len(feat_imp_df)), feat_imp_df[0])"
   ]
  },
  {
   "cell_type": "code",
   "execution_count": 47,
   "metadata": {},
   "outputs": [
    {
     "data": {
      "text/plain": [
       "[('DepTimeBlk_0700-0759', 0.1572301431240016),\n",
       " ('OrigPerf', 0.14035572206718627),\n",
       " ('ArrTimeBlk_1000-1059', 0.09831751628112677),\n",
       " ('ArrTimeBlk_0900-0959', 0.09829700646151966),\n",
       " ('DepTimeBlk_1900-1959', 0.07156296443663702),\n",
       " ('AirTime', 0.0699639068048941),\n",
       " ('DepTimeBlk_2000-2059', 0.06319853155284627),\n",
       " ('ArrTimeBlk_2200-2259', 0.04382100513168686),\n",
       " ('ArrTimeBlk_2100-2159', 0.03634388186106931),\n",
       " ('DepTimeBlk_0800-0859', 0.03482302699231555)]"
      ]
     },
     "execution_count": 47,
     "metadata": {},
     "output_type": "execute_result"
    }
   ],
   "source": [
    "feat_imp_sort[:10]"
   ]
  },
  {
   "cell_type": "markdown",
   "metadata": {},
   "source": [
    "Of the 10 most important features identified, 8 are \"time of day\" variables, particularly include early morning and evening scheduled departure times and late morning and late night arrival times. This seems sensible given that these time periods will generally have lots of volume being associated with travel for business. \n",
    "\n",
    "Notably `OrigPerf`, the percentage of capacity of scheduled hourly volume at origin airports, is the second most important feature. This latter point indicate that scheduled volume at the three NYC airports, especially during times of the day when many passengers are flying (aligned with business hours) can impact the incidence of large arrival delays. "
   ]
  },
  {
   "cell_type": "code",
   "execution_count": null,
   "metadata": {},
   "outputs": [],
   "source": []
  }
 ],
 "metadata": {
  "kernelspec": {
   "display_name": "Python 3",
   "language": "python",
   "name": "python3"
  },
  "language_info": {
   "codemirror_mode": {
    "name": "ipython",
    "version": 3
   },
   "file_extension": ".py",
   "mimetype": "text/x-python",
   "name": "python",
   "nbconvert_exporter": "python",
   "pygments_lexer": "ipython3",
   "version": "3.6.4"
  }
 },
 "nbformat": 4,
 "nbformat_minor": 2
}
