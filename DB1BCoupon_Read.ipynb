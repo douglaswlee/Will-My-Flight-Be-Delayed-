{
 "cells": [
  {
   "cell_type": "markdown",
   "metadata": {},
   "source": [
    "This notebook reads in the 2016, 2017, and 2018 Q1 [Origin and Destination Survey DB1BCoupon data](https://www.transtats.bts.gov/Fields.asp) which provides quarterly 10% samples of all passenger tickets -- this particular set of data gives each enplanement (or leg) on a given itinerary and will provide fare class of given passengers (business/first/economy). I am using this data to engineer a feature for the typical business/first class passenger ratio on a given origin-destination pair (on a single flight) for a given quarter -- the thinking being that more passengers in this fare class indicate more air travel in congested time periods."
   ]
  },
  {
   "cell_type": "code",
   "execution_count": 1,
   "metadata": {},
   "outputs": [],
   "source": [
    "import pandas as pd\n",
    "import numpy as np\n",
    "\n",
    "import pickle"
   ]
  },
  {
   "cell_type": "markdown",
   "metadata": {},
   "source": [
    "Read in the data for 2016 and 2017."
   ]
  },
  {
   "cell_type": "code",
   "execution_count": 2,
   "metadata": {},
   "outputs": [
    {
     "name": "stdout",
     "output_type": "stream",
     "text": [
      "1\n",
      "2\n",
      "3\n",
      "4\n"
     ]
    }
   ],
   "source": [
    "db1b_coup_tr = pd.DataFrame()\n",
    "for qtr in [1,2,3,4]:\n",
    "    tmp = pd.read_csv('DB1BCoupon/Origin_and_Destination_Survey_DB1BCoupon_2016_' + str(qtr) + '.csv')\n",
    "    db1b_coup_tr = pd.concat([db1b_coup_tr, tmp], axis=0)\n",
    "    print(qtr)"
   ]
  },
  {
   "cell_type": "code",
   "execution_count": 3,
   "metadata": {},
   "outputs": [
    {
     "name": "stdout",
     "output_type": "stream",
     "text": [
      "1\n",
      "2\n",
      "3\n",
      "4\n"
     ]
    }
   ],
   "source": [
    "for qtr in [1,2,3,4]:\n",
    "    tmp = pd.read_csv('DB1BCoupon/Origin_and_Destination_Survey_DB1BCoupon_2017_' + str(qtr) + '.csv')\n",
    "    db1b_coup_tr = pd.concat([db1b_coup_tr, tmp], axis=0)\n",
    "    print(qtr)"
   ]
  },
  {
   "cell_type": "markdown",
   "metadata": {},
   "source": [
    "Now for 2018"
   ]
  },
  {
   "cell_type": "code",
   "execution_count": 4,
   "metadata": {},
   "outputs": [],
   "source": [
    "tmp = pd.read_csv('DB1BCoupon/Origin_and_Destination_Survey_DB1BCoupon_2018_1.csv')\n",
    "db1b_coup_tr = pd.concat([db1b_coup_tr, tmp], axis=0)"
   ]
  },
  {
   "cell_type": "markdown",
   "metadata": {},
   "source": [
    "Keep only flights with the origin airports we are evaluating."
   ]
  },
  {
   "cell_type": "code",
   "execution_count": 5,
   "metadata": {},
   "outputs": [],
   "source": [
    "nyc_airports = ['EWR', 'JFK', 'LGA']"
   ]
  },
  {
   "cell_type": "code",
   "execution_count": 6,
   "metadata": {},
   "outputs": [],
   "source": [
    "db1b_coup_tr = db1b_coup_tr[db1b_coup_tr['Origin'].isin(nyc_airports)]"
   ]
  },
  {
   "cell_type": "code",
   "execution_count": 7,
   "metadata": {},
   "outputs": [
    {
     "data": {
      "text/plain": [
       "(4115954, 37)"
      ]
     },
     "execution_count": 7,
     "metadata": {},
     "output_type": "execute_result"
    }
   ],
   "source": [
    "db1b_coup_tr.shape"
   ]
  },
  {
   "cell_type": "markdown",
   "metadata": {},
   "source": [
    "Now load in the AOTP data we have saved to get the destination airports we are evaluating, and then keep only flights in the DB1B Coupon data for these destination airports."
   ]
  },
  {
   "cell_type": "code",
   "execution_count": 8,
   "metadata": {},
   "outputs": [],
   "source": [
    "with open('aotp_nyc_new.pkl', 'rb') as file1:\n",
    "    aotp_data = pickle.load(file1)"
   ]
  },
  {
   "cell_type": "code",
   "execution_count": 9,
   "metadata": {},
   "outputs": [],
   "source": [
    "dests = list(aotp_data['Dest'].unique())"
   ]
  },
  {
   "cell_type": "code",
   "execution_count": 10,
   "metadata": {},
   "outputs": [
    {
     "data": {
      "text/plain": [
       "57"
      ]
     },
     "execution_count": 10,
     "metadata": {},
     "output_type": "execute_result"
    }
   ],
   "source": [
    "len(dests)"
   ]
  },
  {
   "cell_type": "code",
   "execution_count": 11,
   "metadata": {},
   "outputs": [],
   "source": [
    "del(aotp_data)"
   ]
  },
  {
   "cell_type": "code",
   "execution_count": 12,
   "metadata": {},
   "outputs": [],
   "source": [
    "db1b_coup_tr = db1b_coup_tr[db1b_coup_tr['Dest'].isin(dests)]"
   ]
  },
  {
   "cell_type": "code",
   "execution_count": 13,
   "metadata": {},
   "outputs": [
    {
     "data": {
      "text/plain": [
       "(3634831, 37)"
      ]
     },
     "execution_count": 13,
     "metadata": {},
     "output_type": "execute_result"
    }
   ],
   "source": [
    "db1b_coup_tr.shape"
   ]
  },
  {
   "cell_type": "code",
   "execution_count": 14,
   "metadata": {},
   "outputs": [
    {
     "data": {
      "text/plain": [
       "array(['ItinID', 'MktID', 'SeqNum', 'Coupons', 'Year', 'OriginAirportID',\n",
       "       'OriginAirportSeqID', 'OriginCityMarketID', 'Quarter', 'Origin',\n",
       "       'OriginCountry', 'OriginStateFips', 'OriginState',\n",
       "       'OriginStateName', 'OriginWac', 'DestAirportID',\n",
       "       'DestAirportSeqID', 'DestCityMarketID', 'Dest', 'DestCountry',\n",
       "       'DestStateFips', 'DestState', 'DestStateName', 'DestWac', 'Break',\n",
       "       'CouponType', 'TkCarrier', 'OpCarrier', 'RPCarrier', 'Passengers',\n",
       "       'FareClass', 'Distance', 'DistanceGroup', 'Gateway', 'ItinGeoType',\n",
       "       'CouponGeoType', 'Unnamed: 36'], dtype=object)"
      ]
     },
     "execution_count": 14,
     "metadata": {},
     "output_type": "execute_result"
    }
   ],
   "source": [
    "db1b_coup_tr.columns.values"
   ]
  },
  {
   "cell_type": "markdown",
   "metadata": {},
   "source": [
    "Keep only selected columns in the DB1B Coupon data and save."
   ]
  },
  {
   "cell_type": "code",
   "execution_count": 15,
   "metadata": {},
   "outputs": [],
   "source": [
    "db1b_coup_tr = db1b_coup_tr[['ItinID', 'MktID', 'Year', 'Quarter', 'Origin', 'Dest', 'RPCarrier', 'Passengers', 'FareClass']]"
   ]
  },
  {
   "cell_type": "code",
   "execution_count": 16,
   "metadata": {},
   "outputs": [
    {
     "data": {
      "text/plain": [
       "(3634831, 9)"
      ]
     },
     "execution_count": 16,
     "metadata": {},
     "output_type": "execute_result"
    }
   ],
   "source": [
    "db1b_coup_tr.shape"
   ]
  },
  {
   "cell_type": "code",
   "execution_count": 17,
   "metadata": {},
   "outputs": [],
   "source": [
    "with open('db1b_coup.pkl', 'wb') as file:\n",
    "    pickle.dump(db1b_coup_tr, file)"
   ]
  },
  {
   "cell_type": "code",
   "execution_count": null,
   "metadata": {},
   "outputs": [],
   "source": []
  },
  {
   "cell_type": "code",
   "execution_count": null,
   "metadata": {},
   "outputs": [],
   "source": []
  }
 ],
 "metadata": {
  "kernelspec": {
   "display_name": "Python 3",
   "language": "python",
   "name": "python3"
  },
  "language_info": {
   "codemirror_mode": {
    "name": "ipython",
    "version": 3
   },
   "file_extension": ".py",
   "mimetype": "text/x-python",
   "name": "python",
   "nbconvert_exporter": "python",
   "pygments_lexer": "ipython3",
   "version": "3.6.4"
  }
 },
 "nbformat": 4,
 "nbformat_minor": 2
}
