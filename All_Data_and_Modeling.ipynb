{
 "cells": [
  {
   "cell_type": "markdown",
   "metadata": {},
   "source": [
    "This notebook performs all the modeling steps on the combined Airline On-Time Performance, Origin & Destination Survey, and NOAA GHCND data. I first set up the data for modeling and then evaluate four models:\n",
    "\n",
    "* `LRFlight`, a logistic regression model with only flight schedule features\n",
    "* `LRFlightWX`, a logistic regression model with flight schedule and weather features\n",
    "* `RFFlight`, a random forest model with only flight schedule features\n",
    "* `RFFlightWX`, a random forest model with flight schedule and weather features\n",
    "\n",
    "I use these models because for this stage of the project, I am emphasizing interpretability and want to be able to have some sense of which features are contributing to incidence of flight delays.\n",
    "\n",
    "The analysis in this notebook is preliminary in nature as the random forest models, in particular, are not tuned exhaustively in evaluating each model."
   ]
  },
  {
   "cell_type": "code",
   "execution_count": 1,
   "metadata": {},
   "outputs": [],
   "source": [
    "import pandas as pd\n",
    "import numpy as np\n",
    "import pickle\n",
    "\n",
    "from sklearn import linear_model as lm\n",
    "from sklearn.linear_model import LogisticRegression\n",
    "from sklearn import model_selection\n",
    "from sklearn import metrics\n",
    "from sklearn.metrics import confusion_matrix\n",
    "from sklearn import preprocessing\n",
    "\n",
    "import math\n",
    "import matplotlib.pyplot as plt\n",
    "\n",
    "from sklearn.ensemble import RandomForestClassifier\n",
    "\n",
    "plt.style.use('fivethirtyeight')"
   ]
  },
  {
   "cell_type": "markdown",
   "metadata": {},
   "source": [
    "Get all the flight schedule/weather data, then the business passenger ratios for given origin-destination pairs (flight routes), then the hourly scheduled volume data for each airport for each year. "
   ]
  },
  {
   "cell_type": "code",
   "execution_count": 2,
   "metadata": {},
   "outputs": [],
   "source": [
    "with open('aotp_all_data.pkl', 'rb') as picks:\n",
    "    aotp_nyc_data = pickle.load(picks)"
   ]
  },
  {
   "cell_type": "code",
   "execution_count": 3,
   "metadata": {},
   "outputs": [],
   "source": [
    "aotp_nyc_data = aotp_nyc_data.reset_index()"
   ]
  },
  {
   "cell_type": "code",
   "execution_count": 4,
   "metadata": {},
   "outputs": [],
   "source": [
    "with open('bus_pass_ratio.pkl', 'rb') as picks2:\n",
    "    bus_pass_ratio = pickle.load(picks2)"
   ]
  },
  {
   "cell_type": "code",
   "execution_count": 5,
   "metadata": {},
   "outputs": [],
   "source": [
    "bus_pass_ratio1617 = bus_pass_ratio[bus_pass_ratio['Year'] < 2018]\n",
    "bus_pass_ratio18 = bus_pass_ratio[bus_pass_ratio['Year'] == 2018]"
   ]
  },
  {
   "cell_type": "code",
   "execution_count": 6,
   "metadata": {},
   "outputs": [],
   "source": [
    "with open('volhr_16.pkl', 'rb') as picks3:\n",
    "    volhr_16 = pickle.load(picks3)\n",
    "\n",
    "with open('volhr_17.pkl', 'rb') as picks4:\n",
    "    volhr_17 = pickle.load(picks4)\n",
    "    \n",
    "with open('volhr_18.pkl', 'rb') as picks5:\n",
    "    volhr_18 = pickle.load(picks5)"
   ]
  },
  {
   "cell_type": "markdown",
   "metadata": {},
   "source": [
    "Merge all the combined flight schedule/weather data with the business passenger ratios for a given year, quarter, O/D pair."
   ]
  },
  {
   "cell_type": "code",
   "execution_count": 7,
   "metadata": {},
   "outputs": [],
   "source": [
    "aotp_nyc_data = aotp_nyc_data.merge(bus_pass_ratio, on=['Year', 'Quarter', 'Origin', 'Dest'])"
   ]
  },
  {
   "cell_type": "code",
   "execution_count": 8,
   "metadata": {},
   "outputs": [],
   "source": [
    "aotp_nyc_data['ArrDel15'] = aotp_nyc_data['ArrDel15'].astype('float')"
   ]
  },
  {
   "cell_type": "markdown",
   "metadata": {},
   "source": [
    "Convert some of the weather data measurements. Original units given [here](https://www1.ncdc.noaa.gov/pub/data/ghcn/daily/readme.txt) in Section III."
   ]
  },
  {
   "cell_type": "code",
   "execution_count": 9,
   "metadata": {},
   "outputs": [],
   "source": [
    "aotp_nyc_data['ATemp'] = (9/5)*(aotp_nyc_data['ATemp'] / 10) + 32\n",
    "aotp_nyc_data['ATempDest'] = (9/5)*(aotp_nyc_data['ATempDest'] / 10) + 32"
   ]
  },
  {
   "cell_type": "code",
   "execution_count": 10,
   "metadata": {},
   "outputs": [],
   "source": [
    "aotp_nyc_data['Precip'] = (aotp_nyc_data['Precip'] / 10) / 25.4\n",
    "aotp_nyc_data['PrecipDest'] = (aotp_nyc_data['PrecipDest'] / 10) / 25.4"
   ]
  },
  {
   "cell_type": "code",
   "execution_count": 11,
   "metadata": {},
   "outputs": [],
   "source": [
    "aotp_nyc_data['AWind'] = (aotp_nyc_data['AWind'] / 10) * 2.23694\n",
    "aotp_nyc_data['AWindDest'] = (aotp_nyc_data['AWindDest'] / 10) * 2.23694"
   ]
  },
  {
   "cell_type": "markdown",
   "metadata": {},
   "source": [
    "Here we get, for each airport and each hour, the percentage at capacity for scheduled hourly volume. We create a column `AirportPerf` in the main dataframe for this metric."
   ]
  },
  {
   "cell_type": "code",
   "execution_count": 12,
   "metadata": {},
   "outputs": [],
   "source": [
    "volhr = pd.concat([volhr_16, volhr_17], axis=0)\n",
    "volhr = pd.concat([volhr, volhr_18], axis=0)"
   ]
  },
  {
   "cell_type": "code",
   "execution_count": 13,
   "metadata": {},
   "outputs": [],
   "source": [
    "volhr['AirportPerf'] = volhr['VolHr'] / volhr['MaxVolHr']"
   ]
  },
  {
   "cell_type": "code",
   "execution_count": 14,
   "metadata": {},
   "outputs": [],
   "source": [
    "volhr = volhr[['FlightDate', 'TimeBlk', 'Airport', 'AirportPerf']]"
   ]
  },
  {
   "cell_type": "markdown",
   "metadata": {},
   "source": [
    "For each hour and airport, put the percentage at capacity (for scheduled volume) `AirportPerf` into a dicitonary. Then use two specifically constructed functions (for the given data we are evaluating) to be applied on the main dataframe using the dictionary we've put together to get the `AirportPerf` value for the origin and destination for each flight, to be stored respectively as `OrigPerf` and `DestPerf` in the dataframe. "
   ]
  },
  {
   "cell_type": "code",
   "execution_count": 15,
   "metadata": {},
   "outputs": [],
   "source": [
    "volhrdict = volhr.set_index(['FlightDate', 'TimeBlk', 'Airport']).to_dict()"
   ]
  },
  {
   "cell_type": "code",
   "execution_count": 16,
   "metadata": {},
   "outputs": [],
   "source": [
    "def get_orig_perf(row):\n",
    "    tup = (row['FlightDate'], row['DepTimeBlk'], row['Origin'])\n",
    "    return volhrdict['AirportPerf'][tup]    "
   ]
  },
  {
   "cell_type": "code",
   "execution_count": 17,
   "metadata": {},
   "outputs": [],
   "source": [
    "aotp_nyc_data['OrigPerf'] = aotp_nyc_data.apply(get_orig_perf, axis=1)"
   ]
  },
  {
   "cell_type": "code",
   "execution_count": 18,
   "metadata": {},
   "outputs": [],
   "source": [
    "def get_dest_perf(row):\n",
    "    tup = (row['FlightDate'], row['ArrTimeBlk'], row['Dest'])\n",
    "    return volhrdict['AirportPerf'][tup]"
   ]
  },
  {
   "cell_type": "code",
   "execution_count": 19,
   "metadata": {},
   "outputs": [],
   "source": [
    "aotp_nyc_data['DestPerf'] = aotp_nyc_data.apply(get_dest_perf, axis=1)"
   ]
  },
  {
   "cell_type": "code",
   "execution_count": 20,
   "metadata": {},
   "outputs": [
    {
     "data": {
      "text/html": [
       "<div>\n",
       "<style scoped>\n",
       "    .dataframe tbody tr th:only-of-type {\n",
       "        vertical-align: middle;\n",
       "    }\n",
       "\n",
       "    .dataframe tbody tr th {\n",
       "        vertical-align: top;\n",
       "    }\n",
       "\n",
       "    .dataframe thead th {\n",
       "        text-align: right;\n",
       "    }\n",
       "</style>\n",
       "<table border=\"1\" class=\"dataframe\">\n",
       "  <thead>\n",
       "    <tr style=\"text-align: right;\">\n",
       "      <th></th>\n",
       "      <th>level_0</th>\n",
       "      <th>index</th>\n",
       "      <th>Year</th>\n",
       "      <th>Quarter</th>\n",
       "      <th>Month</th>\n",
       "      <th>DayofMonth</th>\n",
       "      <th>DayOfWeek</th>\n",
       "      <th>FlightDate</th>\n",
       "      <th>UniqueCarrier</th>\n",
       "      <th>AirlineID</th>\n",
       "      <th>...</th>\n",
       "      <th>Unnamed: 109</th>\n",
       "      <th>ATemp</th>\n",
       "      <th>Precip</th>\n",
       "      <th>AWind</th>\n",
       "      <th>ATempDest</th>\n",
       "      <th>PrecipDest</th>\n",
       "      <th>AWindDest</th>\n",
       "      <th>BusPassRatio</th>\n",
       "      <th>OrigPerf</th>\n",
       "      <th>DestPerf</th>\n",
       "    </tr>\n",
       "  </thead>\n",
       "  <tbody>\n",
       "    <tr>\n",
       "      <th>0</th>\n",
       "      <td>0</td>\n",
       "      <td>88</td>\n",
       "      <td>2016</td>\n",
       "      <td>1</td>\n",
       "      <td>1</td>\n",
       "      <td>1</td>\n",
       "      <td>5</td>\n",
       "      <td>2016-01-01</td>\n",
       "      <td>AA</td>\n",
       "      <td>19805</td>\n",
       "      <td>...</td>\n",
       "      <td>NaN</td>\n",
       "      <td>42.44</td>\n",
       "      <td>0</td>\n",
       "      <td>14.5401</td>\n",
       "      <td>35.78</td>\n",
       "      <td>0</td>\n",
       "      <td>4.92127</td>\n",
       "      <td>0.006813</td>\n",
       "      <td>0.562500</td>\n",
       "      <td>0.808824</td>\n",
       "    </tr>\n",
       "    <tr>\n",
       "      <th>1</th>\n",
       "      <td>1</td>\n",
       "      <td>89</td>\n",
       "      <td>2016</td>\n",
       "      <td>1</td>\n",
       "      <td>1</td>\n",
       "      <td>2</td>\n",
       "      <td>6</td>\n",
       "      <td>2016-01-02</td>\n",
       "      <td>AA</td>\n",
       "      <td>19805</td>\n",
       "      <td>...</td>\n",
       "      <td>NaN</td>\n",
       "      <td>37.58</td>\n",
       "      <td>0</td>\n",
       "      <td>12.9743</td>\n",
       "      <td>33.44</td>\n",
       "      <td>0</td>\n",
       "      <td>5.59235</td>\n",
       "      <td>0.006813</td>\n",
       "      <td>0.479167</td>\n",
       "      <td>0.882353</td>\n",
       "    </tr>\n",
       "    <tr>\n",
       "      <th>2</th>\n",
       "      <td>2</td>\n",
       "      <td>90</td>\n",
       "      <td>2016</td>\n",
       "      <td>1</td>\n",
       "      <td>1</td>\n",
       "      <td>3</td>\n",
       "      <td>7</td>\n",
       "      <td>2016-01-03</td>\n",
       "      <td>AA</td>\n",
       "      <td>19805</td>\n",
       "      <td>...</td>\n",
       "      <td>NaN</td>\n",
       "      <td>40.28</td>\n",
       "      <td>0</td>\n",
       "      <td>14.0927</td>\n",
       "      <td>37.04</td>\n",
       "      <td>0.019685</td>\n",
       "      <td>9.17145</td>\n",
       "      <td>0.006813</td>\n",
       "      <td>0.500000</td>\n",
       "      <td>0.911765</td>\n",
       "    </tr>\n",
       "    <tr>\n",
       "      <th>3</th>\n",
       "      <td>3</td>\n",
       "      <td>91</td>\n",
       "      <td>2016</td>\n",
       "      <td>1</td>\n",
       "      <td>1</td>\n",
       "      <td>4</td>\n",
       "      <td>1</td>\n",
       "      <td>2016-01-04</td>\n",
       "      <td>AA</td>\n",
       "      <td>19805</td>\n",
       "      <td>...</td>\n",
       "      <td>NaN</td>\n",
       "      <td>33.8</td>\n",
       "      <td>0</td>\n",
       "      <td>19.9088</td>\n",
       "      <td>35.96</td>\n",
       "      <td>0.149606</td>\n",
       "      <td>7.6056</td>\n",
       "      <td>0.006813</td>\n",
       "      <td>0.520833</td>\n",
       "      <td>0.882353</td>\n",
       "    </tr>\n",
       "    <tr>\n",
       "      <th>4</th>\n",
       "      <td>4</td>\n",
       "      <td>92</td>\n",
       "      <td>2016</td>\n",
       "      <td>1</td>\n",
       "      <td>1</td>\n",
       "      <td>5</td>\n",
       "      <td>2</td>\n",
       "      <td>2016-01-05</td>\n",
       "      <td>AA</td>\n",
       "      <td>19805</td>\n",
       "      <td>...</td>\n",
       "      <td>NaN</td>\n",
       "      <td>19.04</td>\n",
       "      <td>0</td>\n",
       "      <td>12.3032</td>\n",
       "      <td>38.12</td>\n",
       "      <td>0.110236</td>\n",
       "      <td>5.36866</td>\n",
       "      <td>0.006813</td>\n",
       "      <td>0.520833</td>\n",
       "      <td>0.705882</td>\n",
       "    </tr>\n",
       "  </tbody>\n",
       "</table>\n",
       "<p>5 rows × 121 columns</p>\n",
       "</div>"
      ],
      "text/plain": [
       "   level_0 index  Year Quarter Month DayofMonth DayOfWeek  FlightDate  \\\n",
       "0        0    88  2016       1     1          1         5  2016-01-01   \n",
       "1        1    89  2016       1     1          2         6  2016-01-02   \n",
       "2        2    90  2016       1     1          3         7  2016-01-03   \n",
       "3        3    91  2016       1     1          4         1  2016-01-04   \n",
       "4        4    92  2016       1     1          5         2  2016-01-05   \n",
       "\n",
       "  UniqueCarrier AirlineID    ...    Unnamed: 109  ATemp Precip    AWind  \\\n",
       "0            AA     19805    ...             NaN  42.44      0  14.5401   \n",
       "1            AA     19805    ...             NaN  37.58      0  12.9743   \n",
       "2            AA     19805    ...             NaN  40.28      0  14.0927   \n",
       "3            AA     19805    ...             NaN   33.8      0  19.9088   \n",
       "4            AA     19805    ...             NaN  19.04      0  12.3032   \n",
       "\n",
       "  ATempDest PrecipDest AWindDest BusPassRatio  OrigPerf  DestPerf  \n",
       "0     35.78          0   4.92127     0.006813  0.562500  0.808824  \n",
       "1     33.44          0   5.59235     0.006813  0.479167  0.882353  \n",
       "2     37.04   0.019685   9.17145     0.006813  0.500000  0.911765  \n",
       "3     35.96   0.149606    7.6056     0.006813  0.520833  0.882353  \n",
       "4     38.12   0.110236   5.36866     0.006813  0.520833  0.705882  \n",
       "\n",
       "[5 rows x 121 columns]"
      ]
     },
     "execution_count": 20,
     "metadata": {},
     "output_type": "execute_result"
    }
   ],
   "source": [
    "aotp_nyc_data.head()"
   ]
  },
  {
   "cell_type": "markdown",
   "metadata": {},
   "source": [
    "Use the 2016-17 data for training/validation and the 2018 Q1 data as the testing/holdout."
   ]
  },
  {
   "cell_type": "code",
   "execution_count": 21,
   "metadata": {},
   "outputs": [],
   "source": [
    "aotp_nyc_data1617 = aotp_nyc_data[aotp_nyc_data['Year'] < 2018]\n",
    "aotp_nyc_data18 = aotp_nyc_data[aotp_nyc_data['Year'] == 2018]"
   ]
  },
  {
   "cell_type": "code",
   "execution_count": 22,
   "metadata": {},
   "outputs": [],
   "source": [
    "del(aotp_nyc_data)"
   ]
  },
  {
   "cell_type": "markdown",
   "metadata": {},
   "source": [
    "Define functions below to:\n",
    "\n",
    "* Set up data for modeling\n",
    "* Split the training set (2016-17 data) into further train/validation sets\n",
    "* Evaluate the given candidate model (as specified above) and collect training and testing scores"
   ]
  },
  {
   "cell_type": "code",
   "execution_count": 23,
   "metadata": {},
   "outputs": [],
   "source": [
    "def org_data(df, idx_cols, num_cols, cat_cols, response):\n",
    "    '''\n",
    "    This function organizes a dataframe into a smaller dataframe that includes only the response\n",
    "    variable and features to be evaluated in modeling.\n",
    "    \n",
    "    Given:\n",
    "    df, dataframe \n",
    "    idx_cols, index variable columns in df (not to be considered in any model)\n",
    "    num_cols, numerical variable columns in df\n",
    "    cat_cols, categorical variable columns in df\n",
    "    response, response variable column in df\n",
    "    \n",
    "    Return:\n",
    "    all_data, a dataframe including only the response and features incorporated in a given model\n",
    "    '''\n",
    "    \n",
    "    all_cols = response + idx_cols + num_cols + cat_cols\n",
    "    all_data = df[all_cols]\n",
    "    all_data = pd.get_dummies(all_data, columns=cat_cols, drop_first=True)\n",
    "    return all_data"
   ]
  },
  {
   "cell_type": "code",
   "execution_count": 24,
   "metadata": {},
   "outputs": [],
   "source": [
    "def way_specific_train_test_split(dmat, split, response, to_drop):\n",
    "    '''\n",
    "    This function performs a train/validation split on the main \"training\" set -- this is specific\n",
    "    to this particular project. The split is conducted on quarters of Year 2017:\n",
    "    -Train: all of 2016, Validation: all of 2017\n",
    "    -Train: 2016 + Q1 2017, Valdiation: Q2-4 2017\n",
    "    -Train: 2016 + Q1-2 2017, Validation: Q3-4 2017\n",
    "    -Train: 2016 + Q1-3 2017, Validation: Q4 2017\n",
    "    \n",
    "    Given:\n",
    "    df, dataframe\n",
    "    split, defining the quarter of 2017 to split on\n",
    "    response, the response variable column in df\n",
    "    to_drop, columns to drop from df\n",
    "    \n",
    "    Return:\n",
    "    Xtrain, ytrain, Xtest, ytest, the data matrix and response vector for the train and validation sets\n",
    "    '''\n",
    "    train_set = dmat[(dmat['Year'] == 2016) | ((dmat['Year'] == 2017) & (dmat['Quarter'] < split))]\n",
    "    ytrain = train_set[response]\n",
    "    Xtrain = train_set.drop(to_drop, axis=1)\n",
    "\n",
    "    test_set = dmat[(dmat['Year'] == 2017) & (dmat['Quarter'] >= split)]\n",
    "    ytest = test_set[response]\n",
    "    Xtest = test_set.drop(to_drop, axis=1)\n",
    "    \n",
    "    return Xtrain, ytrain, Xtest, ytest"
   ]
  },
  {
   "cell_type": "code",
   "execution_count": 25,
   "metadata": {},
   "outputs": [],
   "source": [
    "def fit_eval(model, df, idx_cols, num_cols, cat_cols, response):\n",
    "    '''\n",
    "    This function sets up data for modeling, splits into train and validation sets iteratively,\n",
    "    and fits/scores a model (logistic regression or random forest) across those splits. The \n",
    "    scoring metric is a modification of F1 score replacing precision with accuracy.\n",
    "    \n",
    "    Given:\n",
    "    model, the model to be evaluated\n",
    "    df, dataframe \n",
    "    idx_cols, index variable columns in df (not to be considered in any model)\n",
    "    num_cols, numerical variable columns in df\n",
    "    cat_cols, categorical variable columns in df\n",
    "    response, response variable column in df\n",
    "    \n",
    "    Return:\n",
    "    best_coefs, the coefficients (or feature importance ratings) of the model in its best split\n",
    "    train_scores, the training scores for each split\n",
    "    test_scores, the validation scores for each split\n",
    "    '''\n",
    "    datadf = org_data(df, idx_cols, num_cols, cat_cols, response)\n",
    "    #print(datadf.columns.values)\n",
    "    rec_train = []\n",
    "    rec_test = []\n",
    "    acc_train = []\n",
    "    acc_test = []\n",
    "    train_scores = []\n",
    "    test_scores = []\n",
    "    coefs = []\n",
    "    for q in range(1,5):\n",
    "        \n",
    "        Xtrain, ytrain, Xtest, ytest = way_specific_train_test_split(datadf, q, response, response+idx_cols)\n",
    "        \n",
    "        sc = preprocessing.StandardScaler()\n",
    "        Xtrain[num_cols] = sc.fit_transform(Xtrain[num_cols])        \n",
    "        \n",
    "        clf = model.fit(Xtrain, np.ravel(ytrain))      \n",
    "        ypred = clf.predict(Xtrain)\n",
    "        \n",
    "        acc_train  = clf.score(Xtrain, ytrain)\n",
    "        rec_train = metrics.recall_score(ytrain, ypred)        \n",
    "        score_tr = 2 * ((acc_train * rec_train)/(acc_train + rec_train))\n",
    "        train_scores.append(score_tr)\n",
    "        \n",
    "        Xtest[num_cols] = sc.transform(Xtest[num_cols])\n",
    "        ypred2 = clf.predict(Xtest)\n",
    "        \n",
    "        rec_test = metrics.recall_score(ytest, ypred2)\n",
    "        acc_test = clf.score(Xtest,ytest)\n",
    "        score_test = 2 * ((acc_test * rec_test)/(acc_test + rec_test))\n",
    "        test_scores.append(score_test)\n",
    "        \n",
    "        if model == lr:\n",
    "            coefs.append(model.coef_)\n",
    "        elif model == rf:\n",
    "            coefs.append(np.ravel(model.feature_importances_))\n",
    "        else:\n",
    "            pass\n",
    "            \n",
    "        features = Xtest.columns.values\n",
    "        zipped = zip(features, np.ravel(coefs[np.argmax(test_scores)]))\n",
    "        best_coefs = sorted(list(zipped), key=lambda tup: abs(tup[1]), reverse=True)\n",
    "    \n",
    "#     p,r,t = metrics.precision_recall_curve(best_ytest, best_ysc)\n",
    "\n",
    "#     t=np.vstack([t.reshape([-1,1]),1])\n",
    "\n",
    "#     plt.plot(t,p)\n",
    "#     plt.plot(t,r);\n",
    "#     plt.title('Precision Recall Curve')\n",
    "#     plt.legend(['Precision', 'Recall'])\n",
    "#     plt.xlabel('Threshold')\n",
    "    \n",
    "    return best_coefs, train_scores, test_scores"
   ]
  },
  {
   "cell_type": "markdown",
   "metadata": {},
   "source": [
    "Define the parts of the main dataframe with all flight schedule and weather data to be used in the model as inputs for the above functions."
   ]
  },
  {
   "cell_type": "code",
   "execution_count": 26,
   "metadata": {},
   "outputs": [],
   "source": [
    "response = ['ArrDel15']\n",
    "idx_cols = ['Year', 'Quarter']\n",
    "num_cols = ['AirTime', 'BusPassRatio', 'OrigPerf', 'DestPerf']\n",
    "num_cols_wx = ['AirTime', 'ATemp', 'Precip', 'AWind', 'ATempDest', 'PrecipDest', 'AWindDest', 'BusPassRatio', 'OrigPerf', 'DestPerf']\n",
    "cat_cols = ['Month', 'DayOfWeek', 'Origin', 'UniqueCarrier', 'DepTimeBlk', 'ArrTimeBlk']"
   ]
  },
  {
   "cell_type": "markdown",
   "metadata": {},
   "source": [
    "Run logistic regression for the case with no weather features and the case with weather features. Specify `balanced` for `class_weight` argument because of imbalanced classes."
   ]
  },
  {
   "cell_type": "code",
   "execution_count": 28,
   "metadata": {
    "scrolled": true
   },
   "outputs": [],
   "source": [
    "lr = LogisticRegression(class_weight='balanced')\n",
    "lrcoefs_no_wx, lrtrain_no_wx, lrtest_no_wx = fit_eval(lr, aotp_nyc_data1617, idx_cols, num_cols, cat_cols, response)\n",
    "lrcoefs_wx, lrtrain_wx, lrtest_wx = fit_eval(lr, aotp_nyc_data1617, idx_cols, num_cols_wx, cat_cols, response)"
   ]
  },
  {
   "cell_type": "markdown",
   "metadata": {},
   "source": [
    "Do the same for a random forest classifier. Some manual tuning (a more exhaustive grid search is included in another notebook as further exploration) led to using the specified parameters (max_depth for all generated trees, max_features for number of features to include in each generated tree, n_estimators for the number of trees to generate and sample) to fit for both the no-weather/weather cases."
   ]
  },
  {
   "cell_type": "code",
   "execution_count": 30,
   "metadata": {},
   "outputs": [],
   "source": [
    "rf = RandomForestClassifier(n_jobs=-1, max_features='sqrt', max_depth=5, n_estimators=300, class_weight='balanced')\n",
    "rfcoefs_no_wx, rftrain_no_wx, rftest_no_wx = fit_eval(rf, aotp_nyc_data1617, idx_cols, num_cols, cat_cols, response)\n",
    "rfcoefs_wx, rftrain_wx, rftest_wx = fit_eval(rf, aotp_nyc_data1617, idx_cols, num_cols_wx, cat_cols, response)"
   ]
  },
  {
   "cell_type": "code",
   "execution_count": 32,
   "metadata": {},
   "outputs": [
    {
     "name": "stdout",
     "output_type": "stream",
     "text": [
      "[0.6145666329044107, 0.6200484955410364, 0.630586159544362, 0.588021908678698]\n",
      "[0.643395299707981, 0.6472902171100534, 0.6513328917869591, 0.6074669247881543]\n",
      "[0.6300333071893711, 0.6335832396689689, 0.6276820078012679, 0.6097936628341014]\n",
      "[0.6433099537935427, 0.6441245934389527, 0.6480400374311654, 0.6339752020878067]\n"
     ]
    }
   ],
   "source": [
    "print(lrtest_no_wx)\n",
    "print(lrtest_wx)\n",
    "print(rftest_no_wx)\n",
    "print(rftest_wx)"
   ]
  },
  {
   "cell_type": "markdown",
   "metadata": {},
   "source": [
    "Collect the scores above for each model across all splits into a dataframe to visualize results and do a preliminary model selection."
   ]
  },
  {
   "cell_type": "code",
   "execution_count": 45,
   "metadata": {},
   "outputs": [],
   "source": [
    "scores_df = pd.DataFrame(np.array([lrtest_no_wx, rftest_no_wx, lrtest_wx, rftest_wx])).T\n",
    "scores_df.columns = ['LRFlight', 'RFFlight', 'LRFlightWX', 'RFFlightWX']"
   ]
  },
  {
   "cell_type": "code",
   "execution_count": 46,
   "metadata": {},
   "outputs": [
    {
     "data": {
      "text/html": [
       "<div>\n",
       "<style scoped>\n",
       "    .dataframe tbody tr th:only-of-type {\n",
       "        vertical-align: middle;\n",
       "    }\n",
       "\n",
       "    .dataframe tbody tr th {\n",
       "        vertical-align: top;\n",
       "    }\n",
       "\n",
       "    .dataframe thead th {\n",
       "        text-align: right;\n",
       "    }\n",
       "</style>\n",
       "<table border=\"1\" class=\"dataframe\">\n",
       "  <thead>\n",
       "    <tr style=\"text-align: right;\">\n",
       "      <th></th>\n",
       "      <th>LRFlight</th>\n",
       "      <th>RFFlight</th>\n",
       "      <th>LRFlightWX</th>\n",
       "      <th>RFFlightWX</th>\n",
       "    </tr>\n",
       "  </thead>\n",
       "  <tbody>\n",
       "    <tr>\n",
       "      <th>0</th>\n",
       "      <td>0.614567</td>\n",
       "      <td>0.630033</td>\n",
       "      <td>0.643395</td>\n",
       "      <td>0.643310</td>\n",
       "    </tr>\n",
       "    <tr>\n",
       "      <th>1</th>\n",
       "      <td>0.620048</td>\n",
       "      <td>0.633583</td>\n",
       "      <td>0.647290</td>\n",
       "      <td>0.644125</td>\n",
       "    </tr>\n",
       "    <tr>\n",
       "      <th>2</th>\n",
       "      <td>0.630586</td>\n",
       "      <td>0.627682</td>\n",
       "      <td>0.651333</td>\n",
       "      <td>0.648040</td>\n",
       "    </tr>\n",
       "    <tr>\n",
       "      <th>3</th>\n",
       "      <td>0.588022</td>\n",
       "      <td>0.609794</td>\n",
       "      <td>0.607467</td>\n",
       "      <td>0.633975</td>\n",
       "    </tr>\n",
       "  </tbody>\n",
       "</table>\n",
       "</div>"
      ],
      "text/plain": [
       "   LRFlight  RFFlight  LRFlightWX  RFFlightWX\n",
       "0  0.614567  0.630033    0.643395    0.643310\n",
       "1  0.620048  0.633583    0.647290    0.644125\n",
       "2  0.630586  0.627682    0.651333    0.648040\n",
       "3  0.588022  0.609794    0.607467    0.633975"
      ]
     },
     "execution_count": 46,
     "metadata": {},
     "output_type": "execute_result"
    }
   ],
   "source": [
    "scores_df"
   ]
  },
  {
   "cell_type": "code",
   "execution_count": 47,
   "metadata": {},
   "outputs": [
    {
     "data": {
      "text/plain": [
       "<matplotlib.axes._subplots.AxesSubplot at 0x1a8bb642b0>"
      ]
     },
     "execution_count": 47,
     "metadata": {},
     "output_type": "execute_result"
    },
    {
     "data": {
      "image/png": "[encoded data removed]",
      "text/plain": [
       "<matplotlib.figure.Figure at 0x1a8bb6a128>"
      ]
     },
     "metadata": {},
     "output_type": "display_data"
    }
   ],
   "source": [
    "scores_df.boxplot()"
   ]
  },
  {
   "cell_type": "markdown",
   "metadata": {},
   "source": [
    "The random forest model including both flight schedule and weather features performs better in terms of average value and the lower variance across the splits. Now let's fit this model back on the entire training set, see how it performs on the holdout set (2018 Q1 data), and get the feature importances."
   ]
  },
  {
   "cell_type": "code",
   "execution_count": 178,
   "metadata": {},
   "outputs": [],
   "source": [
    "rf2 = RandomForestClassifier(n_jobs=-1, max_features='sqrt', max_depth=5, n_estimators=300, class_weight='balanced')"
   ]
  },
  {
   "cell_type": "code",
   "execution_count": 179,
   "metadata": {},
   "outputs": [],
   "source": [
    "data_mod = org_data(aotp_nyc_data1617, idx_cols, num_cols_wx, cat_cols, response)"
   ]
  },
  {
   "cell_type": "code",
   "execution_count": 180,
   "metadata": {},
   "outputs": [],
   "source": [
    "drop_cols = idx_cols + response"
   ]
  },
  {
   "cell_type": "code",
   "execution_count": 181,
   "metadata": {},
   "outputs": [],
   "source": [
    "sc = preprocessing.StandardScaler()\n",
    "X = data_mod.drop(drop_cols, axis=1)\n",
    "Y = data_mod[response]"
   ]
  },
  {
   "cell_type": "code",
   "execution_count": 182,
   "metadata": {},
   "outputs": [],
   "source": [
    "X[num_cols] = sc.fit_transform(X[num_cols])    \n",
    "clf = rf2.fit(X, np.ravel(Y))      \n",
    "ypred = clf.predict(X)"
   ]
  },
  {
   "cell_type": "code",
   "execution_count": 183,
   "metadata": {},
   "outputs": [],
   "source": [
    "data_mod_holdout = org_data(aotp_nyc_data18, idx_cols, num_cols_wx, cat_cols, response)"
   ]
  },
  {
   "cell_type": "code",
   "execution_count": 184,
   "metadata": {},
   "outputs": [],
   "source": [
    "Xholdout = data_mod_holdout.drop(drop_cols, axis=1)\n",
    "Yholdout = data_mod_holdout[response]"
   ]
  },
  {
   "cell_type": "code",
   "execution_count": 185,
   "metadata": {},
   "outputs": [],
   "source": [
    "# Hack that is needed b/c the holdout set does not have columns for months 4-12\n",
    "for z in range(4,13):\n",
    "    col_str = 'Month_' + str(z)\n",
    "    Xholdout[col_str] = pd.Series(np.zeros(len(Xholdout)))"
   ]
  },
  {
   "cell_type": "code",
   "execution_count": 186,
   "metadata": {},
   "outputs": [],
   "source": [
    "Xholdout.fillna(0, inplace=True)"
   ]
  },
  {
   "cell_type": "code",
   "execution_count": 187,
   "metadata": {},
   "outputs": [],
   "source": [
    "Xholdout[num_cols] = sc.transform(Xholdout[num_cols])\n",
    "ypred2 = clf.predict(Xholdout)"
   ]
  },
  {
   "cell_type": "code",
   "execution_count": 188,
   "metadata": {},
   "outputs": [
    {
     "data": {
      "text/plain": [
       "0.5676220217834075"
      ]
     },
     "execution_count": 188,
     "metadata": {},
     "output_type": "execute_result"
    }
   ],
   "source": [
    "rec_test = metrics.recall_score(Yholdout, ypred2)\n",
    "acc_test = clf.score(Xholdout,Yholdout)\n",
    "score_test = 2 * ((acc_test * rec_test)/(acc_test + rec_test))\n",
    "score_test"
   ]
  },
  {
   "cell_type": "code",
   "execution_count": 189,
   "metadata": {},
   "outputs": [
    {
     "data": {
      "text/plain": [
       "(0.5272988505747126, 0.6146229726234899)"
      ]
     },
     "execution_count": 189,
     "metadata": {},
     "output_type": "execute_result"
    }
   ],
   "source": [
    "rec_test, acc_test"
   ]
  },
  {
   "cell_type": "markdown",
   "metadata": {},
   "source": [
    "Performance appears to be fairly poor on the holdout set, at least relative to what was observed in the train/validation step. From the recall above, this model only correctly identifies delayed flights as delayed slightly more than half the time. Let's now construct and look at the confusion matrix from applying this classifier to the 2016-17 flight data."
   ]
  },
  {
   "cell_type": "code",
   "execution_count": 198,
   "metadata": {},
   "outputs": [],
   "source": [
    "# Generate a confusion matrix plot: \n",
    "\n",
    "def plot_confusion_matrix(cm,title='Confusion matrix', cmap=plt.cm.Reds):\n",
    "    plt.imshow(cm, interpolation='nearest',cmap=cmap)\n",
    "    plt.title(title)\n",
    "    plt.colorbar()\n",
    "    plt.tight_layout()\n",
    "    plt.ylabel('True label')\n",
    "    plt.xlabel('Predicted label')"
   ]
  },
  {
   "cell_type": "code",
   "execution_count": 199,
   "metadata": {},
   "outputs": [],
   "source": [
    "cm=confusion_matrix(Yholdout, ypred2, labels=None)"
   ]
  },
  {
   "cell_type": "code",
   "execution_count": 202,
   "metadata": {},
   "outputs": [],
   "source": [
    "import itertools\n",
    "def plot_confusion_matrix(cm,title='Confusion matrix', cmap=plt.cm.Blues):\n",
    "    thresh = cm.max() / 2.\n",
    "    for i, j in itertools.product(range(cm.shape[0]), range(cm.shape[1])):\n",
    "        \n",
    "        plt.text(j, i, cm[i, j],\n",
    "                 horizontalalignment=\"center\",\n",
    "                 color=\"white\" if cm[i,j] > thresh else \"black\")\n",
    "    \n",
    "    plt.imshow(cm, interpolation='nearest',cmap=cmap)\n",
    "    #plt.title(title)\n",
    "    plt.colorbar()\n",
    "    plt.tight_layout()\n",
    "    plt.xticks(range(0,2), ['Not Delayed', 'Delayed'])\n",
    "    plt.yticks(range(0,2), ['Not Delayed', 'Delayed'])\n",
    "    plt.title('RFFlightWX Confusion Matrix')\n",
    "    plt.ylabel('True label')\n",
    "    plt.xlabel('Predicted label')"
   ]
  },
  {
   "cell_type": "code",
   "execution_count": 203,
   "metadata": {},
   "outputs": [
    {
     "data": {
      "image/png": "[encoded data removed]",
      "text/plain": [
       "<matplotlib.figure.Figure at 0x1a5eefc908>"
      ]
     },
     "metadata": {},
     "output_type": "display_data"
    }
   ],
   "source": [
    "plot_confusion_matrix(cm)"
   ]
  },
  {
   "cell_type": "markdown",
   "metadata": {},
   "source": [
    "The model appears to perform better in correctly identifying flights that are not delayed, compared to the same task for delayed flights. An enormous number of false positives are produced, and as previously stated, nearly half of actual delayed flights are misclassified."
   ]
  },
  {
   "cell_type": "code",
   "execution_count": 194,
   "metadata": {},
   "outputs": [],
   "source": [
    "feat_imp = np.ravel(rf.feature_importances_)\n",
    "features = Xholdout.columns.values\n",
    "zipped = zip(features, feat_imp)\n",
    "feat_imp_sort = sorted(list(zipped), key=lambda tup: abs(tup[1]), reverse=True)[:10]"
   ]
  },
  {
   "cell_type": "code",
   "execution_count": 195,
   "metadata": {},
   "outputs": [
    {
     "data": {
      "text/plain": [
       "[('Precip', 0.23692137074883385),\n",
       " ('OrigPerf', 0.13103670145820392),\n",
       " ('ATemp', 0.09613132668626703),\n",
       " ('PrecipDest', 0.07719323517510668),\n",
       " ('AirTime', 0.07468767893279721),\n",
       " ('DepTimeBlk_1600-1659', 0.06705357892696384),\n",
       " ('AWind', 0.06063432018479393),\n",
       " ('DepTimeBlk_1700-1759', 0.04142970352104272),\n",
       " ('ArrTimeBlk_1600-1659', 0.03275296589078022),\n",
       " ('ArrTimeBlk_1900-1959', 0.018956457910477103)]"
      ]
     },
     "execution_count": 195,
     "metadata": {},
     "output_type": "execute_result"
    }
   ],
   "source": [
    "feat_imp_sort[:10]"
   ]
  },
  {
   "cell_type": "code",
   "execution_count": 197,
   "metadata": {},
   "outputs": [
    {
     "data": {
      "text/plain": [
       "([<matplotlib.axis.YTick at 0x1a5ee328d0>,\n",
       "  <matplotlib.axis.YTick at 0x1a5ee4add8>,\n",
       "  <matplotlib.axis.YTick at 0x1aba110208>,\n",
       "  <matplotlib.axis.YTick at 0x1aba119358>,\n",
       "  <matplotlib.axis.YTick at 0x1aba112cc0>,\n",
       "  <matplotlib.axis.YTick at 0x1aba11f128>,\n",
       "  <matplotlib.axis.YTick at 0x1aba11f898>,\n",
       "  <matplotlib.axis.YTick at 0x1a5ee32400>,\n",
       "  <matplotlib.axis.YTick at 0x1a5ee56470>,\n",
       "  <matplotlib.axis.YTick at 0x1aba12d550>],\n",
       " <a list of 10 Text yticklabel objects>)"
      ]
     },
     "execution_count": 197,
     "metadata": {},
     "output_type": "execute_result"
    },
    {
     "data": {
      "image/png": "[encoded data removed]",
      "text/plain": [
       "<matplotlib.figure.Figure at 0x1a5ece8e48>"
      ]
     },
     "metadata": {},
     "output_type": "display_data"
    }
   ],
   "source": [
    "feat_imp_df = pd.DataFrame.from_records(feat_imp_sort)\n",
    "feat_imp_df.plot.barh()\n",
    "plt.legend([])\n",
    "plt.yticks(range(0, len(feat_imp_df)), feat_imp_df[0])"
   ]
  },
  {
   "cell_type": "markdown",
   "metadata": {},
   "source": [
    "Of the 10 most important features identified, 3 of the top 4 and 4 of the top 7 are weather features, particularly those at the origin airport. Only total daily precipitation appears to have an impact at destination airports. Weather at the origin airport and precipitation at the destination contribute substantially to differentiating between flights that are delayed and not delayed.\n",
    "\n",
    "Flight schedule features that are important (in this same sense) include late afternoon/evening scheduled departure times and scheduled arrival times. This seems sensible given that these time periods will generally have lots of volume being associated with travel for business. Notably `OrigPerf`, the percentage of capacity of scheduled hourly volume at origin airports.\n",
    "\n",
    "This latter point and all origin weather features coming up as most important features indicate that scheduled volume at the three NYC airports and anything that may impact operation of that volume (like inclement weather in the region) may have downstream impacts such as large arrival delays.    "
   ]
  },
  {
   "cell_type": "markdown",
   "metadata": {},
   "source": [
    "Now save the training and holdout dataframes for future use in hyperparameter tuning."
   ]
  },
  {
   "cell_type": "code",
   "execution_count": null,
   "metadata": {},
   "outputs": [],
   "source": [
    "with open('aotp_nyc_data_all1617.pkl', 'wb') as pickle_main1:\n",
    "    pickle.dump(aotp_nyc_data1617, pickle_main1)"
   ]
  },
  {
   "cell_type": "code",
   "execution_count": null,
   "metadata": {},
   "outputs": [],
   "source": [
    "with open('aotp_nyc_data_all18.pkl', 'wb') as pickle_main2:\n",
    "    pickle.dump(aotp_nyc_data18, pickle_main2)"
   ]
  },
  {
   "cell_type": "code",
   "execution_count": null,
   "metadata": {},
   "outputs": [],
   "source": []
  },
  {
   "cell_type": "code",
   "execution_count": 77,
   "metadata": {},
   "outputs": [],
   "source": [
    "estimators = np.arange(100, 1010, 100)\n",
    "depth = np.arange(3, 10, 1)\n",
    "feature_pct = np.arange(.1, .55, .05)"
   ]
  },
  {
   "cell_type": "code",
   "execution_count": null,
   "metadata": {},
   "outputs": [],
   "source": [
    "best_test = 0\n",
    "for x in estimators:\n",
    "    for y in feature_pct:\n",
    "        for z in depth:\n",
    "            rf = RandomForestClassifier(n_jobs=-1, max_features=y, max_depth=z, n_estimators=x, random_state=1, class_weight='balanced')\n",
    "            rfcoefs_no_wx, rftrain_no_wx, rftest_no_wx = fit_eval(rf, aotp_nyc_data1617, idx_cols, num_cols, cat_cols, response)\n",
    "            mean_test_no_wx = np.mean(rftest_no_wx)\n",
    "            if mean_test_no_wx > best_test:\n",
    "                best_test = mean_test_no_wx\n",
    "                best_est = x\n",
    "                best_feat = y\n",
    "                best_depth = z"
   ]
  },
  {
   "cell_type": "code",
   "execution_count": null,
   "metadata": {},
   "outputs": [],
   "source": [
    "print(best_est)\n",
    "print(best_feat)\n",
    "print(best_depth)"
   ]
  },
  {
   "cell_type": "code",
   "execution_count": null,
   "metadata": {},
   "outputs": [],
   "source": []
  }
 ],
 "metadata": {
  "kernelspec": {
   "display_name": "Python 3",
   "language": "python",
   "name": "python3"
  },
  "language_info": {
   "codemirror_mode": {
    "name": "ipython",
    "version": 3
   },
   "file_extension": ".py",
   "mimetype": "text/x-python",
   "name": "python",
   "nbconvert_exporter": "python",
   "pygments_lexer": "ipython3",
   "version": "3.6.4"
  }
 },
 "nbformat": 4,
 "nbformat_minor": 2
}
