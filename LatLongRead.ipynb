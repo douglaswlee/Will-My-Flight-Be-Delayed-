{
 "cells": [
  {
   "cell_type": "code",
   "execution_count": 11,
   "metadata": {},
   "outputs": [],
   "source": [
    "import pandas as pd\n",
    "import numpy as np\n",
    "import pickle\n",
    "import requests"
   ]
  },
  {
   "cell_type": "markdown",
   "metadata": {},
   "source": [
    "The code in this notebook will get the latitude and longitude associated with each airport in the dataset I am using. Latitude and longitude are found by querying the [Airports API](https://github.com/ryanburnette/airports-api)."
   ]
  },
  {
   "cell_type": "code",
   "execution_count": 12,
   "metadata": {},
   "outputs": [],
   "source": [
    "# Given a string of a given airport code, query Airports API and return the lat/long pair\n",
    "def get_lat_long(code_str):\n",
    "    path = 'https://airports-api.s3-us-west-2.amazonaws.com/icao/k' + code_str.lower() + '.json'\n",
    "    airport_data = requests.get(path)\n",
    "    try:\n",
    "        return airport_data.json()['latitude'], airport_data.json()['longitude']\n",
    "    except:\n",
    "        return ''"
   ]
  },
  {
   "cell_type": "markdown",
   "metadata": {},
   "source": [
    "Read in the data and then make the list of airports (the three origin airports and all the unique destinations. Then save the airports (to be used later with weather data)."
   ]
  },
  {
   "cell_type": "code",
   "execution_count": 13,
   "metadata": {},
   "outputs": [],
   "source": [
    "with open('aotp_nyc_new.pkl', 'rb') as pckl:\n",
    "    aotp_nyc_new = pickle.load(pckl)"
   ]
  },
  {
   "cell_type": "code",
   "execution_count": 14,
   "metadata": {},
   "outputs": [],
   "source": [
    "airports = ['EWR', 'JFK', 'LGA']\n",
    "dests = list(aotp_nyc_new['Dest'].unique())"
   ]
  },
  {
   "cell_type": "code",
   "execution_count": 15,
   "metadata": {},
   "outputs": [],
   "source": [
    "airports.extend(dests)"
   ]
  },
  {
   "cell_type": "code",
   "execution_count": 16,
   "metadata": {},
   "outputs": [],
   "source": [
    "with open('airports_for_model.pkl', 'wb') as pckl2:\n",
    "    pickle.dump(airports, pckl2)"
   ]
  },
  {
   "cell_type": "code",
   "execution_count": 17,
   "metadata": {},
   "outputs": [
    {
     "data": {
      "text/plain": [
       "60"
      ]
     },
     "execution_count": 17,
     "metadata": {},
     "output_type": "execute_result"
    }
   ],
   "source": [
    "len(airports)"
   ]
  },
  {
   "cell_type": "markdown",
   "metadata": {},
   "source": [
    "Collect all airports and their latitude/longitude into a dictionary and save for later use (to integrate weather data)"
   ]
  },
  {
   "cell_type": "code",
   "execution_count": 18,
   "metadata": {},
   "outputs": [],
   "source": [
    "lat_longs = {}\n",
    "for j in airports:\n",
    "    lat_longs[j] = get_lat_long(j)"
   ]
  },
  {
   "cell_type": "code",
   "execution_count": 19,
   "metadata": {},
   "outputs": [
    {
     "data": {
      "text/plain": [
       "{'ATL': (33.636719, -84.428067),\n",
       " 'AUS': (30.194528, -97.669889),\n",
       " 'BNA': (36.124472, -86.678194),\n",
       " 'BOS': (42.364347, -71.005181),\n",
       " 'BTV': (44.471861, -73.153278),\n",
       " 'BUF': (42.940525, -78.732167),\n",
       " 'CHS': (32.898647, -80.040528),\n",
       " 'CLE': (41.411689, -81.849794),\n",
       " 'CLT': (35.214, -80.943139),\n",
       " 'CMH': (39.997972, -82.891889),\n",
       " 'CVG': (39.048836, -84.667822),\n",
       " 'DAL': (32.847111, -96.851778),\n",
       " 'DCA': (38.852083, -77.037722),\n",
       " 'DEN': (39.861656, -104.673178),\n",
       " 'DFW': (32.896828, -97.037997),\n",
       " 'DTW': (42.212444, -83.353389),\n",
       " 'EWR': (40.6925, -74.168667),\n",
       " 'FLL': (26.072583, -80.15275),\n",
       " 'GRR': (42.880833, -85.522806),\n",
       " 'GSO': (36.09775, -79.937306),\n",
       " 'GSP': (34.895556, -82.218889),\n",
       " 'HOU': (29.645419, -95.278889),\n",
       " 'IAD': (38.944533, -77.455811),\n",
       " 'IAH': (29.984433, -95.341442),\n",
       " 'IND': (39.717331, -86.294383),\n",
       " 'JAX': (30.494056, -81.687861),\n",
       " 'JFK': (40.639751, -73.778925),\n",
       " 'LAS': (36.080056, -115.15225),\n",
       " 'LAX': (33.942536, -118.408075),\n",
       " 'LGA': (40.777245, -73.872608),\n",
       " 'MCO': (28.429394, -81.308994),\n",
       " 'MDW': (41.785972, -87.752417),\n",
       " 'MEM': (35.042417, -89.976667),\n",
       " 'MIA': (25.79325, -80.290556),\n",
       " 'MKE': (42.947222, -87.896583),\n",
       " 'MSP': (44.881956, -93.221767),\n",
       " 'MSY': (29.993389, -90.258028),\n",
       " 'MYR': (33.67975, -78.928333),\n",
       " 'ORD': (41.978603, -87.904842),\n",
       " 'ORF': (36.894611, -76.201222),\n",
       " 'PBI': (26.683161, -80.095589),\n",
       " 'PDX': (45.588722, -122.5975),\n",
       " 'PHL': (39.871944, -75.241139),\n",
       " 'PHX': (33.434278, -112.011583),\n",
       " 'PIT': (40.491467, -80.232872),\n",
       " 'PWM': (43.646161, -70.309281),\n",
       " 'RDU': (35.877639, -78.787472),\n",
       " 'RIC': (37.505167, -77.319667),\n",
       " 'ROC': (43.118866, -77.672389),\n",
       " 'RSW': (26.536167, -81.755167),\n",
       " 'SAN': (32.733556, -117.189667),\n",
       " 'SAV': (32.127583, -81.202139),\n",
       " 'SDF': (38.1740858, -85.7364989),\n",
       " 'SEA': (47.449, -122.309306),\n",
       " 'SFO': (37.618972, -122.374889),\n",
       " 'SLC': (40.788389, -111.977772),\n",
       " 'SNA': (33.675667, -117.868222),\n",
       " 'STL': (38.748697, -90.370028),\n",
       " 'SYR': (43.111187, -76.106311),\n",
       " 'TPA': (27.975472, -82.53325)}"
      ]
     },
     "execution_count": 19,
     "metadata": {},
     "output_type": "execute_result"
    }
   ],
   "source": [
    "lat_longs"
   ]
  },
  {
   "cell_type": "code",
   "execution_count": 20,
   "metadata": {},
   "outputs": [],
   "source": [
    "with open('lat_longs.pkl', 'wb') as pickel:\n",
    "    pickle.dump(lat_longs, pickel)"
   ]
  },
  {
   "cell_type": "code",
   "execution_count": null,
   "metadata": {},
   "outputs": [],
   "source": []
  }
 ],
 "metadata": {
  "kernelspec": {
   "display_name": "Python 3",
   "language": "python",
   "name": "python3"
  },
  "language_info": {
   "codemirror_mode": {
    "name": "ipython",
    "version": 3
   },
   "file_extension": ".py",
   "mimetype": "text/x-python",
   "name": "python",
   "nbconvert_exporter": "python",
   "pygments_lexer": "ipython3",
   "version": "3.6.4"
  }
 },
 "nbformat": 4,
 "nbformat_minor": 2
}
