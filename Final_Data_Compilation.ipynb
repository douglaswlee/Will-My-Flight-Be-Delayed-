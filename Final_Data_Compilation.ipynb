{
 "cells": [
  {
   "cell_type": "markdown",
   "metadata": {},
   "source": [
    "This notebook performs the last operations to put together all the data."
   ]
  },
  {
   "cell_type": "code",
   "execution_count": 148,
   "metadata": {},
   "outputs": [],
   "source": [
    "import pandas as pd\n",
    "import numpy as np\n",
    "import pickle\n",
    "\n",
    "from sklearn import linear_model as lm\n",
    "from sklearn.linear_model import LogisticRegression\n",
    "from sklearn import model_selection\n",
    "from sklearn import metrics\n",
    "from sklearn.metrics import confusion_matrix\n",
    "from sklearn import preprocessing\n",
    "\n",
    "import math\n",
    "import matplotlib.pyplot as plt\n",
    "\n",
    "from sklearn.ensemble import RandomForestClassifier\n",
    "\n",
    "plt.style.use('fivethirtyeight')"
   ]
  },
  {
   "cell_type": "markdown",
   "metadata": {},
   "source": [
    "Get all the flight schedule/weather data, then the business passenger ratios for given origin-destination pairs (flight routes), then the hourly scheduled volume data for each airport for each year. "
   ]
  },
  {
   "cell_type": "code",
   "execution_count": 149,
   "metadata": {},
   "outputs": [],
   "source": [
    "with open('aotp_all_data.pkl', 'rb') as picks:\n",
    "    aotp_nyc_data = pickle.load(picks)"
   ]
  },
  {
   "cell_type": "code",
   "execution_count": 150,
   "metadata": {},
   "outputs": [],
   "source": [
    "aotp_nyc_data = aotp_nyc_data.reset_index()"
   ]
  },
  {
   "cell_type": "code",
   "execution_count": 151,
   "metadata": {},
   "outputs": [],
   "source": [
    "with open('bus_pass_ratio.pkl', 'rb') as picks2:\n",
    "    bus_pass_ratio = pickle.load(picks2)"
   ]
  },
  {
   "cell_type": "code",
   "execution_count": 152,
   "metadata": {},
   "outputs": [],
   "source": [
    "bus_pass_ratio1516 = bus_pass_ratio[bus_pass_ratio['Year'] < 2017]\n",
    "bus_pass_ratio17 = bus_pass_ratio[bus_pass_ratio['Year'] == 2017]"
   ]
  },
  {
   "cell_type": "code",
   "execution_count": 153,
   "metadata": {},
   "outputs": [],
   "source": [
    "with open('volhr_15.pkl', 'rb') as picks3:\n",
    "    volhr_15 = pickle.load(picks3)\n",
    "\n",
    "with open('volhr_16.pkl', 'rb') as picks4:\n",
    "    volhr_16 = pickle.load(picks4)\n",
    "    \n",
    "with open('volhr_17.pkl', 'rb') as picks5:\n",
    "    volhr_17 = pickle.load(picks5)"
   ]
  },
  {
   "cell_type": "markdown",
   "metadata": {},
   "source": [
    "Merge all the combined flight schedule/weather data with the business passenger ratios for a given year, quarter, O/D pair."
   ]
  },
  {
   "cell_type": "code",
   "execution_count": 154,
   "metadata": {},
   "outputs": [],
   "source": [
    "aotp_nyc_data = aotp_nyc_data.merge(bus_pass_ratio, on=['Year', 'Quarter', 'Origin', 'Dest'])"
   ]
  },
  {
   "cell_type": "code",
   "execution_count": 155,
   "metadata": {},
   "outputs": [],
   "source": [
    "aotp_nyc_data['ArrDel15'] = aotp_nyc_data['ArrDel15'].astype('float')"
   ]
  },
  {
   "cell_type": "markdown",
   "metadata": {},
   "source": [
    "Convert some of the weather data measurements. Original units given [here](https://www1.ncdc.noaa.gov/pub/data/ghcn/daily/readme.txt) in Section III."
   ]
  },
  {
   "cell_type": "code",
   "execution_count": 156,
   "metadata": {},
   "outputs": [],
   "source": [
    "aotp_nyc_data['ATemp'] = (9/5)*(aotp_nyc_data['ATemp'] / 10) + 32\n",
    "aotp_nyc_data['ATempDest'] = (9/5)*(aotp_nyc_data['ATempDest'] / 10) + 32"
   ]
  },
  {
   "cell_type": "code",
   "execution_count": 157,
   "metadata": {},
   "outputs": [],
   "source": [
    "aotp_nyc_data['Precip'] = (aotp_nyc_data['Precip'] / 10) / 25.4\n",
    "aotp_nyc_data['PrecipDest'] = (aotp_nyc_data['PrecipDest'] / 10) / 25.4"
   ]
  },
  {
   "cell_type": "code",
   "execution_count": 158,
   "metadata": {},
   "outputs": [],
   "source": [
    "aotp_nyc_data['AWind'] = (aotp_nyc_data['AWind'] / 10) * 2.23694\n",
    "aotp_nyc_data['AWindDest'] = (aotp_nyc_data['AWindDest'] / 10) * 2.23694"
   ]
  },
  {
   "cell_type": "markdown",
   "metadata": {},
   "source": [
    "Here we get, for each airport and each hour, the percentage at capacity for scheduled hourly volume. We create a column `AirportPerf` in the main dataframe for this metric."
   ]
  },
  {
   "cell_type": "code",
   "execution_count": 159,
   "metadata": {},
   "outputs": [],
   "source": [
    "volhr = pd.concat([volhr_15, volhr_16], axis=0)\n",
    "volhr = pd.concat([volhr, volhr_17], axis=0)"
   ]
  },
  {
   "cell_type": "code",
   "execution_count": 160,
   "metadata": {},
   "outputs": [],
   "source": [
    "volhr['AirportPerf'] = volhr['VolHr'] / volhr['MaxVolHr']"
   ]
  },
  {
   "cell_type": "code",
   "execution_count": 161,
   "metadata": {},
   "outputs": [],
   "source": [
    "volhr = volhr[['FlightDate', 'TimeBlk', 'Airport', 'AirportPerf']]"
   ]
  },
  {
   "cell_type": "markdown",
   "metadata": {},
   "source": [
    "For each hour and airport, put the percentage at capacity (for scheduled volume) `AirportPerf` into a dicitonary. Then use two specifically constructed functions (for the given data we are evaluating) to be applied on the main dataframe using the dictionary we've put together to get the `AirportPerf` value for the origin and destination for each flight, to be stored respectively as `OrigPerf` and `DestPerf` in the dataframe. "
   ]
  },
  {
   "cell_type": "code",
   "execution_count": 162,
   "metadata": {},
   "outputs": [],
   "source": [
    "volhrdict = volhr.set_index(['FlightDate', 'TimeBlk', 'Airport']).to_dict()"
   ]
  },
  {
   "cell_type": "code",
   "execution_count": 163,
   "metadata": {},
   "outputs": [],
   "source": [
    "def get_orig_perf(row):\n",
    "    tup = (row['FlightDate'], row['DepTimeBlk'], row['Origin'])\n",
    "    return volhrdict['AirportPerf'][tup]    "
   ]
  },
  {
   "cell_type": "code",
   "execution_count": 164,
   "metadata": {},
   "outputs": [],
   "source": [
    "aotp_nyc_data['OrigPerf'] = aotp_nyc_data.apply(get_orig_perf, axis=1)"
   ]
  },
  {
   "cell_type": "code",
   "execution_count": 165,
   "metadata": {},
   "outputs": [],
   "source": [
    "def get_dest_perf(row):\n",
    "    tup = (row['FlightDate'], row['ArrTimeBlk'], row['Dest'])\n",
    "    return volhrdict['AirportPerf'][tup]"
   ]
  },
  {
   "cell_type": "code",
   "execution_count": 166,
   "metadata": {},
   "outputs": [],
   "source": [
    "aotp_nyc_data['DestPerf'] = aotp_nyc_data.apply(get_dest_perf, axis=1)"
   ]
  },
  {
   "cell_type": "code",
   "execution_count": 167,
   "metadata": {},
   "outputs": [
    {
     "data": {
      "text/html": [
       "<div>\n",
       "<style scoped>\n",
       "    .dataframe tbody tr th:only-of-type {\n",
       "        vertical-align: middle;\n",
       "    }\n",
       "\n",
       "    .dataframe tbody tr th {\n",
       "        vertical-align: top;\n",
       "    }\n",
       "\n",
       "    .dataframe thead th {\n",
       "        text-align: right;\n",
       "    }\n",
       "</style>\n",
       "<table border=\"1\" class=\"dataframe\">\n",
       "  <thead>\n",
       "    <tr style=\"text-align: right;\">\n",
       "      <th></th>\n",
       "      <th>level_0</th>\n",
       "      <th>index</th>\n",
       "      <th>Year</th>\n",
       "      <th>Quarter</th>\n",
       "      <th>Month</th>\n",
       "      <th>DayofMonth</th>\n",
       "      <th>DayOfWeek</th>\n",
       "      <th>FlightDate</th>\n",
       "      <th>UniqueCarrier</th>\n",
       "      <th>AirlineID</th>\n",
       "      <th>...</th>\n",
       "      <th>Unnamed: 109</th>\n",
       "      <th>ATemp</th>\n",
       "      <th>Precip</th>\n",
       "      <th>AWind</th>\n",
       "      <th>ATempDest</th>\n",
       "      <th>PrecipDest</th>\n",
       "      <th>AWindDest</th>\n",
       "      <th>BusPassRatio</th>\n",
       "      <th>OrigPerf</th>\n",
       "      <th>DestPerf</th>\n",
       "    </tr>\n",
       "  </thead>\n",
       "  <tbody>\n",
       "    <tr>\n",
       "      <th>0</th>\n",
       "      <td>0</td>\n",
       "      <td>0</td>\n",
       "      <td>2015</td>\n",
       "      <td>1</td>\n",
       "      <td>1</td>\n",
       "      <td>1</td>\n",
       "      <td>4</td>\n",
       "      <td>2015-01-01</td>\n",
       "      <td>AA</td>\n",
       "      <td>19805</td>\n",
       "      <td>...</td>\n",
       "      <td>NaN</td>\n",
       "      <td>32.54</td>\n",
       "      <td>0</td>\n",
       "      <td>17.2244</td>\n",
       "      <td>47.12</td>\n",
       "      <td>0</td>\n",
       "      <td>5.14496</td>\n",
       "      <td>0.038462</td>\n",
       "      <td>0.645833</td>\n",
       "      <td>0.757895</td>\n",
       "    </tr>\n",
       "    <tr>\n",
       "      <th>1</th>\n",
       "      <td>1</td>\n",
       "      <td>1</td>\n",
       "      <td>2015</td>\n",
       "      <td>1</td>\n",
       "      <td>1</td>\n",
       "      <td>2</td>\n",
       "      <td>5</td>\n",
       "      <td>2015-01-02</td>\n",
       "      <td>AA</td>\n",
       "      <td>19805</td>\n",
       "      <td>...</td>\n",
       "      <td>NaN</td>\n",
       "      <td>39.38</td>\n",
       "      <td>0</td>\n",
       "      <td>13.6453</td>\n",
       "      <td>48.38</td>\n",
       "      <td>0</td>\n",
       "      <td>4.25019</td>\n",
       "      <td>0.038462</td>\n",
       "      <td>0.729167</td>\n",
       "      <td>0.789474</td>\n",
       "    </tr>\n",
       "    <tr>\n",
       "      <th>2</th>\n",
       "      <td>2</td>\n",
       "      <td>2</td>\n",
       "      <td>2015</td>\n",
       "      <td>1</td>\n",
       "      <td>1</td>\n",
       "      <td>3</td>\n",
       "      <td>6</td>\n",
       "      <td>2015-01-03</td>\n",
       "      <td>AA</td>\n",
       "      <td>19805</td>\n",
       "      <td>...</td>\n",
       "      <td>NaN</td>\n",
       "      <td>36.5</td>\n",
       "      <td>0.940945</td>\n",
       "      <td>9.17145</td>\n",
       "      <td>50.18</td>\n",
       "      <td>0</td>\n",
       "      <td>5.14496</td>\n",
       "      <td>0.038462</td>\n",
       "      <td>0.645833</td>\n",
       "      <td>0.736842</td>\n",
       "    </tr>\n",
       "    <tr>\n",
       "      <th>3</th>\n",
       "      <td>3</td>\n",
       "      <td>3</td>\n",
       "      <td>2015</td>\n",
       "      <td>1</td>\n",
       "      <td>1</td>\n",
       "      <td>4</td>\n",
       "      <td>7</td>\n",
       "      <td>2015-01-04</td>\n",
       "      <td>AA</td>\n",
       "      <td>19805</td>\n",
       "      <td>...</td>\n",
       "      <td>NaN</td>\n",
       "      <td>47.3</td>\n",
       "      <td>0.468504</td>\n",
       "      <td>10.0662</td>\n",
       "      <td>52.7</td>\n",
       "      <td>0</td>\n",
       "      <td>4.69757</td>\n",
       "      <td>0.038462</td>\n",
       "      <td>0.708333</td>\n",
       "      <td>0.757895</td>\n",
       "    </tr>\n",
       "    <tr>\n",
       "      <th>4</th>\n",
       "      <td>4</td>\n",
       "      <td>4</td>\n",
       "      <td>2015</td>\n",
       "      <td>1</td>\n",
       "      <td>1</td>\n",
       "      <td>5</td>\n",
       "      <td>1</td>\n",
       "      <td>2015-01-05</td>\n",
       "      <td>AA</td>\n",
       "      <td>19805</td>\n",
       "      <td>...</td>\n",
       "      <td>NaN</td>\n",
       "      <td>42.98</td>\n",
       "      <td>0</td>\n",
       "      <td>19.6851</td>\n",
       "      <td>60.62</td>\n",
       "      <td>0</td>\n",
       "      <td>5.59235</td>\n",
       "      <td>0.038462</td>\n",
       "      <td>0.729167</td>\n",
       "      <td>0.810526</td>\n",
       "    </tr>\n",
       "  </tbody>\n",
       "</table>\n",
       "<p>5 rows × 121 columns</p>\n",
       "</div>"
      ],
      "text/plain": [
       "   level_0 index  Year Quarter Month DayofMonth DayOfWeek  FlightDate  \\\n",
       "0        0     0  2015       1     1          1         4  2015-01-01   \n",
       "1        1     1  2015       1     1          2         5  2015-01-02   \n",
       "2        2     2  2015       1     1          3         6  2015-01-03   \n",
       "3        3     3  2015       1     1          4         7  2015-01-04   \n",
       "4        4     4  2015       1     1          5         1  2015-01-05   \n",
       "\n",
       "  UniqueCarrier AirlineID    ...    Unnamed: 109  ATemp    Precip    AWind  \\\n",
       "0            AA     19805    ...             NaN  32.54         0  17.2244   \n",
       "1            AA     19805    ...             NaN  39.38         0  13.6453   \n",
       "2            AA     19805    ...             NaN   36.5  0.940945  9.17145   \n",
       "3            AA     19805    ...             NaN   47.3  0.468504  10.0662   \n",
       "4            AA     19805    ...             NaN  42.98         0  19.6851   \n",
       "\n",
       "  ATempDest PrecipDest AWindDest BusPassRatio  OrigPerf  DestPerf  \n",
       "0     47.12          0   5.14496     0.038462  0.645833  0.757895  \n",
       "1     48.38          0   4.25019     0.038462  0.729167  0.789474  \n",
       "2     50.18          0   5.14496     0.038462  0.645833  0.736842  \n",
       "3      52.7          0   4.69757     0.038462  0.708333  0.757895  \n",
       "4     60.62          0   5.59235     0.038462  0.729167  0.810526  \n",
       "\n",
       "[5 rows x 121 columns]"
      ]
     },
     "execution_count": 167,
     "metadata": {},
     "output_type": "execute_result"
    }
   ],
   "source": [
    "aotp_nyc_data.head()"
   ]
  },
  {
   "cell_type": "markdown",
   "metadata": {},
   "source": [
    "Now save the training and holdout dataframes for future use in hyperparameter tuning."
   ]
  },
  {
   "cell_type": "code",
   "execution_count": 206,
   "metadata": {},
   "outputs": [],
   "source": [
    "with open('aotp_nyc_data_all1516.pkl', 'wb') as pickle_main1:\n",
    "    pickle.dump(aotp_nyc_data1516, pickle_main1)"
   ]
  },
  {
   "cell_type": "code",
   "execution_count": 207,
   "metadata": {},
   "outputs": [],
   "source": [
    "with open('aotp_nyc_data_all17.pkl', 'wb') as pickle_main2:\n",
    "    pickle.dump(aotp_nyc_data17, pickle_main2)"
   ]
  }
 ],
 "metadata": {
  "kernelspec": {
   "display_name": "Python 3",
   "language": "python",
   "name": "python3"
  },
  "language_info": {
   "codemirror_mode": {
    "name": "ipython",
    "version": 3
   },
   "file_extension": ".py",
   "mimetype": "text/x-python",
   "name": "python",
   "nbconvert_exporter": "python",
   "pygments_lexer": "ipython3",
   "version": "3.6.4"
  }
 },
 "nbformat": 4,
 "nbformat_minor": 2
}
