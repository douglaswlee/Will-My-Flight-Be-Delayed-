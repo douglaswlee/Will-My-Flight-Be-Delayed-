{
 "cells": [
  {
   "cell_type": "code",
   "execution_count": 1,
   "metadata": {},
   "outputs": [],
   "source": [
    "import pandas as pd\n",
    "import numpy as np\n",
    "import pickle"
   ]
  },
  {
   "cell_type": "markdown",
   "metadata": {},
   "source": [
    "### Read everything in (so far all months in 2016 and 2017 and Q1 2018)"
   ]
  },
  {
   "cell_type": "code",
   "execution_count": 2,
   "metadata": {},
   "outputs": [],
   "source": [
    "months = np.arange(1,13)\n",
    "months18 = np.arange(1,4)"
   ]
  },
  {
   "cell_type": "code",
   "execution_count": 3,
   "metadata": {},
   "outputs": [
    {
     "name": "stderr",
     "output_type": "stream",
     "text": [
      "/anaconda3/lib/python3.6/site-packages/IPython/core/interactiveshell.py:2728: DtypeWarning: Columns (77) have mixed types. Specify dtype option on import or set low_memory=False.\n",
      "  interactivity=interactivity, compiler=compiler, result=result)\n",
      "/anaconda3/lib/python3.6/site-packages/IPython/core/interactiveshell.py:2728: DtypeWarning: Columns (77,84) have mixed types. Specify dtype option on import or set low_memory=False.\n",
      "  interactivity=interactivity, compiler=compiler, result=result)\n",
      "/anaconda3/lib/python3.6/site-packages/IPython/core/interactiveshell.py:2728: DtypeWarning: Columns (48,77,84) have mixed types. Specify dtype option on import or set low_memory=False.\n",
      "  interactivity=interactivity, compiler=compiler, result=result)\n",
      "/anaconda3/lib/python3.6/site-packages/IPython/core/interactiveshell.py:2728: DtypeWarning: Columns (48,77,84,85) have mixed types. Specify dtype option on import or set low_memory=False.\n",
      "  interactivity=interactivity, compiler=compiler, result=result)\n",
      "/anaconda3/lib/python3.6/site-packages/IPython/core/interactiveshell.py:2728: DtypeWarning: Columns (48,69,76,77,84) have mixed types. Specify dtype option on import or set low_memory=False.\n",
      "  interactivity=interactivity, compiler=compiler, result=result)\n"
     ]
    }
   ],
   "source": [
    "aotp_data = pd.DataFrame()\n",
    "for mo in months:\n",
    "    path = 'AOTPData/On_Time_On_Time_Performance_2016_' + str(mo) + '.csv'\n",
    "    tmp = pd.read_csv(path)    \n",
    "    aotp_data = pd.concat([aotp_data, tmp], axis=0, ignore_index=True)\n",
    "    del(tmp)"
   ]
  },
  {
   "cell_type": "code",
   "execution_count": 4,
   "metadata": {},
   "outputs": [
    {
     "name": "stderr",
     "output_type": "stream",
     "text": [
      "/anaconda3/lib/python3.6/site-packages/IPython/core/interactiveshell.py:2728: DtypeWarning: Columns (48,77,84) have mixed types. Specify dtype option on import or set low_memory=False.\n",
      "  interactivity=interactivity, compiler=compiler, result=result)\n",
      "/anaconda3/lib/python3.6/site-packages/IPython/core/interactiveshell.py:2728: DtypeWarning: Columns (48,77) have mixed types. Specify dtype option on import or set low_memory=False.\n",
      "  interactivity=interactivity, compiler=compiler, result=result)\n",
      "/anaconda3/lib/python3.6/site-packages/IPython/core/interactiveshell.py:2728: DtypeWarning: Columns (77,84) have mixed types. Specify dtype option on import or set low_memory=False.\n",
      "  interactivity=interactivity, compiler=compiler, result=result)\n"
     ]
    }
   ],
   "source": [
    "for mo in months:\n",
    "    path = 'AOTPData/On_Time_On_Time_Performance_2017_' + str(mo) + '.csv'\n",
    "    tmp = pd.read_csv(path)\n",
    "    aotp_data = pd.concat([aotp_data, tmp], axis=0, ignore_index=True)\n",
    "    del(tmp)"
   ]
  },
  {
   "cell_type": "code",
   "execution_count": 5,
   "metadata": {},
   "outputs": [
    {
     "name": "stderr",
     "output_type": "stream",
     "text": [
      "/anaconda3/lib/python3.6/site-packages/IPython/core/interactiveshell.py:2728: DtypeWarning: Columns (77,84) have mixed types. Specify dtype option on import or set low_memory=False.\n",
      "  interactivity=interactivity, compiler=compiler, result=result)\n",
      "/anaconda3/lib/python3.6/site-packages/IPython/core/interactiveshell.py:2728: DtypeWarning: Columns (48,76,77,84) have mixed types. Specify dtype option on import or set low_memory=False.\n",
      "  interactivity=interactivity, compiler=compiler, result=result)\n",
      "/anaconda3/lib/python3.6/site-packages/IPython/core/interactiveshell.py:2728: DtypeWarning: Columns (48,77,84) have mixed types. Specify dtype option on import or set low_memory=False.\n",
      "  interactivity=interactivity, compiler=compiler, result=result)\n"
     ]
    }
   ],
   "source": [
    "for mo in months18:\n",
    "    path = 'AOTPData/On_Time_On_Time_Performance_2018_' + str(mo) + '.csv'\n",
    "    tmp = pd.read_csv(path)\n",
    "    aotp_data = pd.concat([aotp_data, tmp], axis=0, ignore_index=True)\n",
    "    del(tmp)"
   ]
  },
  {
   "cell_type": "markdown",
   "metadata": {},
   "source": [
    "Make separate dataframes for each given year (this seems redundant but will be useful later)"
   ]
  },
  {
   "cell_type": "code",
   "execution_count": 6,
   "metadata": {},
   "outputs": [],
   "source": [
    "aotp_16 = aotp_data[aotp_data['Year'] == 2016]\n",
    "aotp_17 = aotp_data[aotp_data['Year'] == 2017]\n",
    "aotp_18 = aotp_data[aotp_data['Year'] == 2018]"
   ]
  },
  {
   "cell_type": "markdown",
   "metadata": {},
   "source": [
    "### Now take only EWR/JFK/LGA originating flights"
   ]
  },
  {
   "cell_type": "code",
   "execution_count": 7,
   "metadata": {},
   "outputs": [
    {
     "data": {
      "text/plain": [
       "(12995149, 110)"
      ]
     },
     "execution_count": 7,
     "metadata": {},
     "output_type": "execute_result"
    }
   ],
   "source": [
    "aotp_data.shape"
   ]
  },
  {
   "cell_type": "code",
   "execution_count": 8,
   "metadata": {},
   "outputs": [],
   "source": [
    "nyc_airports = ['EWR', 'JFK', 'LGA']\n",
    "#top20connect = ['LAS', 'ORD', 'DEN', 'SAN', 'PHX', 'DFW', 'CLT', 'MSP', 'SFO', 'MDW', 'DAL', 'ATL', 'PHL', 'DTW', 'SLC', 'IAH', 'SNA', 'BOS', 'STL', 'BWI']"
   ]
  },
  {
   "cell_type": "code",
   "execution_count": 9,
   "metadata": {},
   "outputs": [],
   "source": [
    "aotp_nyc = aotp_data[aotp_data['Origin'].isin(nyc_airports)]"
   ]
  },
  {
   "cell_type": "code",
   "execution_count": 10,
   "metadata": {},
   "outputs": [
    {
     "data": {
      "text/plain": [
       "(719502, 110)"
      ]
     },
     "execution_count": 10,
     "metadata": {},
     "output_type": "execute_result"
    }
   ],
   "source": [
    "aotp_nyc.shape"
   ]
  },
  {
   "cell_type": "markdown",
   "metadata": {},
   "source": [
    "### Keep only flights not cancelled nor diverted"
   ]
  },
  {
   "cell_type": "code",
   "execution_count": 11,
   "metadata": {},
   "outputs": [],
   "source": [
    "aotp_nyc = aotp_nyc[aotp_nyc['Diverted'] == 0]"
   ]
  },
  {
   "cell_type": "code",
   "execution_count": 12,
   "metadata": {},
   "outputs": [],
   "source": [
    "aotp_nyc = aotp_nyc[aotp_nyc['Cancelled'] == 0]"
   ]
  },
  {
   "cell_type": "code",
   "execution_count": 13,
   "metadata": {},
   "outputs": [
    {
     "data": {
      "text/plain": [
       "(696516, 110)"
      ]
     },
     "execution_count": 13,
     "metadata": {},
     "output_type": "execute_result"
    }
   ],
   "source": [
    "aotp_nyc.shape"
   ]
  },
  {
   "cell_type": "code",
   "execution_count": 14,
   "metadata": {},
   "outputs": [
    {
     "data": {
      "text/plain": [
       "array(['Year', 'Quarter', 'Month', 'DayofMonth', 'DayOfWeek',\n",
       "       'FlightDate', 'UniqueCarrier', 'AirlineID', 'Carrier', 'TailNum',\n",
       "       'FlightNum', 'OriginAirportID', 'OriginAirportSeqID',\n",
       "       'OriginCityMarketID', 'Origin', 'OriginCityName', 'OriginState',\n",
       "       'OriginStateFips', 'OriginStateName', 'OriginWac', 'DestAirportID',\n",
       "       'DestAirportSeqID', 'DestCityMarketID', 'Dest', 'DestCityName',\n",
       "       'DestState', 'DestStateFips', 'DestStateName', 'DestWac',\n",
       "       'CRSDepTime', 'DepTime', 'DepDelay', 'DepDelayMinutes', 'DepDel15',\n",
       "       'DepartureDelayGroups', 'DepTimeBlk', 'TaxiOut', 'WheelsOff',\n",
       "       'WheelsOn', 'TaxiIn', 'CRSArrTime', 'ArrTime', 'ArrDelay',\n",
       "       'ArrDelayMinutes', 'ArrDel15', 'ArrivalDelayGroups', 'ArrTimeBlk',\n",
       "       'Cancelled', 'CancellationCode', 'Diverted', 'CRSElapsedTime',\n",
       "       'ActualElapsedTime', 'AirTime', 'Flights', 'Distance',\n",
       "       'DistanceGroup', 'CarrierDelay', 'WeatherDelay', 'NASDelay',\n",
       "       'SecurityDelay', 'LateAircraftDelay', 'FirstDepTime',\n",
       "       'TotalAddGTime', 'LongestAddGTime', 'DivAirportLandings',\n",
       "       'DivReachedDest', 'DivActualElapsedTime', 'DivArrDelay',\n",
       "       'DivDistance', 'Div1Airport', 'Div1AirportID', 'Div1AirportSeqID',\n",
       "       'Div1WheelsOn', 'Div1TotalGTime', 'Div1LongestGTime',\n",
       "       'Div1WheelsOff', 'Div1TailNum', 'Div2Airport', 'Div2AirportID',\n",
       "       'Div2AirportSeqID', 'Div2WheelsOn', 'Div2TotalGTime',\n",
       "       'Div2LongestGTime', 'Div2WheelsOff', 'Div2TailNum', 'Div3Airport',\n",
       "       'Div3AirportID', 'Div3AirportSeqID', 'Div3WheelsOn',\n",
       "       'Div3TotalGTime', 'Div3LongestGTime', 'Div3WheelsOff',\n",
       "       'Div3TailNum', 'Div4Airport', 'Div4AirportID', 'Div4AirportSeqID',\n",
       "       'Div4WheelsOn', 'Div4TotalGTime', 'Div4LongestGTime',\n",
       "       'Div4WheelsOff', 'Div4TailNum', 'Div5Airport', 'Div5AirportID',\n",
       "       'Div5AirportSeqID', 'Div5WheelsOn', 'Div5TotalGTime',\n",
       "       'Div5LongestGTime', 'Div5WheelsOff', 'Div5TailNum', 'Unnamed: 109'],\n",
       "      dtype=object)"
      ]
     },
     "execution_count": 14,
     "metadata": {},
     "output_type": "execute_result"
    }
   ],
   "source": [
    "aotp_nyc.columns.values"
   ]
  },
  {
   "cell_type": "markdown",
   "metadata": {},
   "source": [
    "### Separate 2016-17 data from 2018"
   ]
  },
  {
   "cell_type": "code",
   "execution_count": 15,
   "metadata": {},
   "outputs": [],
   "source": [
    "aotp_nyc1617 = aotp_nyc[aotp_nyc['Year'] < 2018].reset_index()\n",
    "aotp_nyc18 = aotp_nyc[aotp_nyc['Year'] == 2018].reset_index()"
   ]
  },
  {
   "cell_type": "markdown",
   "metadata": {},
   "source": [
    "### Do we need to keep all carriers (airlines)?"
   ]
  },
  {
   "cell_type": "code",
   "execution_count": 16,
   "metadata": {},
   "outputs": [
    {
     "data": {
      "text/plain": [
       "UA    0.202369\n",
       "DL    0.399894\n",
       "B6    0.589313\n",
       "AA    0.752348\n",
       "EV    0.885327\n",
       "WN    0.941502\n",
       "VX    0.966822\n",
       "NK    0.984599\n",
       "AS    0.990434\n",
       "OO    0.995625\n",
       "F9    0.998847\n",
       "HA    1.000000\n",
       "Name: UniqueCarrier, dtype: float64"
      ]
     },
     "execution_count": 16,
     "metadata": {},
     "output_type": "execute_result"
    }
   ],
   "source": [
    "np.cumsum(aotp_nyc1617['UniqueCarrier'].value_counts(normalize=True))"
   ]
  },
  {
   "cell_type": "markdown",
   "metadata": {},
   "source": [
    "Almost 97% for the first 7 listed -- need to combine EV (ExpressJet) and OO (SkyWest). These are the carriers to keep."
   ]
  },
  {
   "cell_type": "code",
   "execution_count": 17,
   "metadata": {},
   "outputs": [],
   "source": [
    "keep_carr = list(aotp_nyc1617['UniqueCarrier'].value_counts(normalize=True).index[:7])\n",
    "keep_carr.append('OO')"
   ]
  },
  {
   "cell_type": "markdown",
   "metadata": {},
   "source": [
    "Here combine EV and OO"
   ]
  },
  {
   "cell_type": "code",
   "execution_count": 18,
   "metadata": {},
   "outputs": [],
   "source": [
    "aotp_nyc1617.loc[aotp_nyc1617['UniqueCarrier'] == 'OO', 'UniqueCarrier'] = 'EV'\n",
    "aotp_nyc18.loc[aotp_nyc18['UniqueCarrier'] == 'OO', 'UniqueCarrier'] = 'EV'"
   ]
  },
  {
   "cell_type": "code",
   "execution_count": 19,
   "metadata": {},
   "outputs": [],
   "source": [
    "aotp_nyc1617.loc[aotp_nyc1617['Carrier'] == 'OO', 'Carrier'] = 'EV'\n",
    "aotp_nyc18.loc[aotp_nyc18['Carrier'] == 'OO', 'Carrier'] = 'EV'"
   ]
  },
  {
   "cell_type": "markdown",
   "metadata": {},
   "source": [
    "### What about destination airports?"
   ]
  },
  {
   "cell_type": "code",
   "execution_count": 20,
   "metadata": {},
   "outputs": [],
   "source": [
    "import bisect\n",
    "dest_cu = np.cumsum(aotp_nyc1617['Dest'].value_counts(normalize=True))\n",
    "idx = bisect.bisect(dest_cu, .95)\n",
    "dest_to_keep = dest_cu[:idx]\n",
    "dest_to_keep = list(dest_to_keep.index)"
   ]
  },
  {
   "cell_type": "markdown",
   "metadata": {},
   "source": [
    "61 destination airports cover 95% of the flights."
   ]
  },
  {
   "cell_type": "code",
   "execution_count": 21,
   "metadata": {},
   "outputs": [
    {
     "data": {
      "text/plain": [
       "61"
      ]
     },
     "execution_count": 21,
     "metadata": {},
     "output_type": "execute_result"
    }
   ],
   "source": [
    "len(dest_to_keep)"
   ]
  },
  {
   "cell_type": "code",
   "execution_count": 22,
   "metadata": {},
   "outputs": [
    {
     "data": {
      "text/plain": [
       "['LAX',\n",
       " 'ATL',\n",
       " 'MCO',\n",
       " 'BOS',\n",
       " 'ORD',\n",
       " 'FLL',\n",
       " 'SFO',\n",
       " 'MIA',\n",
       " 'CLT',\n",
       " 'DEN',\n",
       " 'PBI',\n",
       " 'DFW',\n",
       " 'TPA',\n",
       " 'LAS',\n",
       " 'IAH',\n",
       " 'DTW',\n",
       " 'SJU',\n",
       " 'DCA',\n",
       " 'PHX',\n",
       " 'MSP',\n",
       " 'SEA',\n",
       " 'CLE',\n",
       " 'MDW',\n",
       " 'BUF',\n",
       " 'RSW',\n",
       " 'SAN',\n",
       " 'STL',\n",
       " 'AUS',\n",
       " 'CHS',\n",
       " 'RDU',\n",
       " 'MSY',\n",
       " 'PWM',\n",
       " 'BNA',\n",
       " 'DAL',\n",
       " 'SLC',\n",
       " 'RIC',\n",
       " 'BTV',\n",
       " 'ROC',\n",
       " 'MKE',\n",
       " 'JAX',\n",
       " 'SAV',\n",
       " 'SYR',\n",
       " 'GSO',\n",
       " 'PDX',\n",
       " 'IND',\n",
       " 'IAD',\n",
       " 'ORF',\n",
       " 'HOU',\n",
       " 'MYR',\n",
       " 'CMH',\n",
       " 'CVG',\n",
       " 'GRR',\n",
       " 'PIT',\n",
       " 'SNA',\n",
       " 'GSP',\n",
       " 'BQN',\n",
       " 'HNL',\n",
       " 'PHL',\n",
       " 'SDF',\n",
       " 'MEM',\n",
       " 'STT']"
      ]
     },
     "execution_count": 22,
     "metadata": {},
     "output_type": "execute_result"
    }
   ],
   "source": [
    "dest_to_keep"
   ]
  },
  {
   "cell_type": "markdown",
   "metadata": {},
   "source": [
    "I want to limit this analysis to the continental US at the moment, but there are a few airports which are not in the continental US -- HNL, SJU, STT, BQN. I'll remove these below."
   ]
  },
  {
   "cell_type": "code",
   "execution_count": 23,
   "metadata": {},
   "outputs": [],
   "source": [
    "dest_to_keep.remove('SJU')\n",
    "dest_to_keep.remove('BQN')\n",
    "dest_to_keep.remove('STT')\n",
    "dest_to_keep.remove('HNL')"
   ]
  },
  {
   "cell_type": "code",
   "execution_count": 24,
   "metadata": {},
   "outputs": [
    {
     "data": {
      "text/plain": [
       "57"
      ]
     },
     "execution_count": 24,
     "metadata": {},
     "output_type": "execute_result"
    }
   ],
   "source": [
    "len(dest_to_keep)"
   ]
  },
  {
   "cell_type": "markdown",
   "metadata": {},
   "source": [
    "Now keep only the carriers and destination airports we have specified to keep."
   ]
  },
  {
   "cell_type": "code",
   "execution_count": 25,
   "metadata": {},
   "outputs": [],
   "source": [
    "aotp_nyc1617_new = aotp_nyc1617[aotp_nyc1617['Dest'].isin(dest_to_keep)]\n",
    "aotp_nyc18_new = aotp_nyc18[aotp_nyc18['Dest'].isin(dest_to_keep)]"
   ]
  },
  {
   "cell_type": "code",
   "execution_count": 26,
   "metadata": {},
   "outputs": [],
   "source": [
    "aotp_nyc1617_new = aotp_nyc1617_new[aotp_nyc1617_new['UniqueCarrier'].isin(keep_carr)]\n",
    "aotp_nyc18_new = aotp_nyc18_new[aotp_nyc18_new['UniqueCarrier'].isin(keep_carr)]"
   ]
  },
  {
   "cell_type": "code",
   "execution_count": 27,
   "metadata": {},
   "outputs": [
    {
     "data": {
      "text/plain": [
       "(536241, 111)"
      ]
     },
     "execution_count": 27,
     "metadata": {},
     "output_type": "execute_result"
    }
   ],
   "source": [
    "aotp_nyc1617_new.shape"
   ]
  },
  {
   "cell_type": "code",
   "execution_count": 28,
   "metadata": {},
   "outputs": [
    {
     "data": {
      "text/plain": [
       "(61348, 111)"
      ]
     },
     "execution_count": 28,
     "metadata": {},
     "output_type": "execute_result"
    }
   ],
   "source": [
    "aotp_nyc18_new.shape"
   ]
  },
  {
   "cell_type": "markdown",
   "metadata": {},
   "source": [
    "### Keep specific hours for scheduled departures and arrivals"
   ]
  },
  {
   "cell_type": "code",
   "execution_count": 29,
   "metadata": {},
   "outputs": [],
   "source": [
    "aotp_nyc1617_new = aotp_nyc1617_new[(aotp_nyc1617_new['CRSDepTime'] >= 600) & (aotp_nyc1617_new['CRSDepTime'] < 2100)]\n",
    "aotp_nyc18_new = aotp_nyc18_new[(aotp_nyc18_new['CRSDepTime'] >= 600) & (aotp_nyc18_new['CRSDepTime'] < 2100)]"
   ]
  },
  {
   "cell_type": "code",
   "execution_count": 30,
   "metadata": {},
   "outputs": [],
   "source": [
    "aotp_nyc1617_new = aotp_nyc1617_new[(aotp_nyc1617_new['CRSArrTime'] >= 800) & (aotp_nyc1617_new['CRSArrTime'] < 2400)]\n",
    "aotp_nyc18_new = aotp_nyc18_new[(aotp_nyc18_new['CRSArrTime'] >= 800) & (aotp_nyc18_new['CRSArrTime'] < 2400)]"
   ]
  },
  {
   "cell_type": "code",
   "execution_count": 31,
   "metadata": {},
   "outputs": [
    {
     "name": "stdout",
     "output_type": "stream",
     "text": [
      "(495512, 111)\n",
      "(56766, 111)\n"
     ]
    }
   ],
   "source": [
    "print(aotp_nyc1617_new.shape)\n",
    "print(aotp_nyc18_new.shape)"
   ]
  },
  {
   "cell_type": "code",
   "execution_count": 37,
   "metadata": {},
   "outputs": [
    {
     "data": {
      "text/plain": [
       "0.2293625730700552"
      ]
     },
     "execution_count": 37,
     "metadata": {},
     "output_type": "execute_result"
    }
   ],
   "source": [
    "np.mean(aotp_nyc1617['ArrDel15'])"
   ]
  },
  {
   "cell_type": "code",
   "execution_count": 38,
   "metadata": {},
   "outputs": [
    {
     "data": {
      "text/plain": [
       "0.20387553756640525"
      ]
     },
     "execution_count": 38,
     "metadata": {},
     "output_type": "execute_result"
    }
   ],
   "source": [
    "np.mean(aotp_nyc18['ArrDel15'])"
   ]
  },
  {
   "cell_type": "markdown",
   "metadata": {},
   "source": [
    "### Some basic EDA for the Response (ArrDel15)"
   ]
  },
  {
   "cell_type": "code",
   "execution_count": 32,
   "metadata": {},
   "outputs": [],
   "source": [
    "aotp_nyc_new = pd.concat([aotp_nyc1617_new, aotp_nyc18_new], axis=0)"
   ]
  },
  {
   "cell_type": "code",
   "execution_count": 33,
   "metadata": {},
   "outputs": [],
   "source": [
    "with open('aotp_nyc_new.pkl', 'wb') as pckl3:\n",
    "    pickle.dump(aotp_nyc_new, pckl3)"
   ]
  },
  {
   "cell_type": "code",
   "execution_count": 33,
   "metadata": {},
   "outputs": [
    {
     "data": {
      "text/plain": [
       "(52823, 111)"
      ]
     },
     "execution_count": 33,
     "metadata": {},
     "output_type": "execute_result"
    }
   ],
   "source": [
    "aotp_nyc_new[(aotp_nyc_new['Year']==2016)&(aotp_nyc_new['ArrDel15']==1)].shape"
   ]
  },
  {
   "cell_type": "code",
   "execution_count": 34,
   "metadata": {},
   "outputs": [
    {
     "data": {
      "text/plain": [
       "(57180, 111)"
      ]
     },
     "execution_count": 34,
     "metadata": {},
     "output_type": "execute_result"
    }
   ],
   "source": [
    "aotp_nyc_new[(aotp_nyc_new['Year']==2017)&(aotp_nyc_new['ArrDel15']==1)].shape"
   ]
  },
  {
   "cell_type": "code",
   "execution_count": 35,
   "metadata": {},
   "outputs": [
    {
     "data": {
      "text/plain": [
       "(11018, 111)"
      ]
     },
     "execution_count": 35,
     "metadata": {},
     "output_type": "execute_result"
    }
   ],
   "source": [
    "aotp_nyc_new[(aotp_nyc_new['Year']==2018)&(aotp_nyc_new['ArrDel15']==1)].shape"
   ]
  },
  {
   "cell_type": "markdown",
   "metadata": {},
   "source": [
    "#### By origin airport"
   ]
  },
  {
   "cell_type": "code",
   "execution_count": 37,
   "metadata": {},
   "outputs": [],
   "source": [
    "import matplotlib.pyplot as plt\n",
    "#import seaborn as sns\n",
    "plt.style.use('fivethirtyeight')"
   ]
  },
  {
   "cell_type": "code",
   "execution_count": 38,
   "metadata": {},
   "outputs": [
    {
     "data": {
      "text/html": [
       "<div>\n",
       "<style scoped>\n",
       "    .dataframe tbody tr th:only-of-type {\n",
       "        vertical-align: middle;\n",
       "    }\n",
       "\n",
       "    .dataframe tbody tr th {\n",
       "        vertical-align: top;\n",
       "    }\n",
       "\n",
       "    .dataframe thead th {\n",
       "        text-align: right;\n",
       "    }\n",
       "</style>\n",
       "<table border=\"1\" class=\"dataframe\">\n",
       "  <thead>\n",
       "    <tr style=\"text-align: right;\">\n",
       "      <th></th>\n",
       "      <th></th>\n",
       "      <th>ArrDel15</th>\n",
       "    </tr>\n",
       "    <tr>\n",
       "      <th>Year</th>\n",
       "      <th>Origin</th>\n",
       "      <th></th>\n",
       "    </tr>\n",
       "  </thead>\n",
       "  <tbody>\n",
       "    <tr>\n",
       "      <th rowspan=\"3\" valign=\"top\">2016</th>\n",
       "      <th>EWR</th>\n",
       "      <td>0.211317</td>\n",
       "    </tr>\n",
       "    <tr>\n",
       "      <th>JFK</th>\n",
       "      <td>0.205906</td>\n",
       "    </tr>\n",
       "    <tr>\n",
       "      <th>LGA</th>\n",
       "      <td>0.209958</td>\n",
       "    </tr>\n",
       "    <tr>\n",
       "      <th rowspan=\"3\" valign=\"top\">2017</th>\n",
       "      <th>EWR</th>\n",
       "      <td>0.251536</td>\n",
       "    </tr>\n",
       "    <tr>\n",
       "      <th>JFK</th>\n",
       "      <td>0.235877</td>\n",
       "    </tr>\n",
       "    <tr>\n",
       "      <th>LGA</th>\n",
       "      <td>0.215852</td>\n",
       "    </tr>\n",
       "    <tr>\n",
       "      <th rowspan=\"3\" valign=\"top\">2018</th>\n",
       "      <th>EWR</th>\n",
       "      <td>0.204105</td>\n",
       "    </tr>\n",
       "    <tr>\n",
       "      <th>JFK</th>\n",
       "      <td>0.195780</td>\n",
       "    </tr>\n",
       "    <tr>\n",
       "      <th>LGA</th>\n",
       "      <td>0.181629</td>\n",
       "    </tr>\n",
       "  </tbody>\n",
       "</table>\n",
       "</div>"
      ],
      "text/plain": [
       "             ArrDel15\n",
       "Year Origin          \n",
       "2016 EWR     0.211317\n",
       "     JFK     0.205906\n",
       "     LGA     0.209958\n",
       "2017 EWR     0.251536\n",
       "     JFK     0.235877\n",
       "     LGA     0.215852\n",
       "2018 EWR     0.204105\n",
       "     JFK     0.195780\n",
       "     LGA     0.181629"
      ]
     },
     "execution_count": 38,
     "metadata": {},
     "output_type": "execute_result"
    }
   ],
   "source": [
    "group_orig = aotp_nyc_new.groupby(['Year', 'Origin'])[['ArrDel15']].mean()\n",
    "group_orig"
   ]
  },
  {
   "cell_type": "code",
   "execution_count": 39,
   "metadata": {},
   "outputs": [
    {
     "data": {
      "text/plain": [
       "<matplotlib.legend.Legend at 0x148fb8e80>"
      ]
     },
     "execution_count": 39,
     "metadata": {},
     "output_type": "execute_result"
    },
    {
     "data": {
      "image/png": "[encoded data removed]",
      "text/plain": [
       "<matplotlib.figure.Figure at 0x148c93eb8>"
      ]
     },
     "metadata": {},
     "output_type": "display_data"
    }
   ],
   "source": [
    "group_orig.unstack().plot.bar(figsize=(8,6))\n",
    "plt.legend(['EWR', 'JFK', 'LGA'])"
   ]
  },
  {
   "cell_type": "markdown",
   "metadata": {},
   "source": [
    "#### By destination airport"
   ]
  },
  {
   "cell_type": "code",
   "execution_count": 40,
   "metadata": {},
   "outputs": [
    {
     "data": {
      "text/html": [
       "<div>\n",
       "<style scoped>\n",
       "    .dataframe tbody tr th:only-of-type {\n",
       "        vertical-align: middle;\n",
       "    }\n",
       "\n",
       "    .dataframe tbody tr th {\n",
       "        vertical-align: top;\n",
       "    }\n",
       "\n",
       "    .dataframe thead tr th {\n",
       "        text-align: left;\n",
       "    }\n",
       "\n",
       "    .dataframe thead tr:last-of-type th {\n",
       "        text-align: right;\n",
       "    }\n",
       "</style>\n",
       "<table border=\"1\" class=\"dataframe\">\n",
       "  <thead>\n",
       "    <tr>\n",
       "      <th></th>\n",
       "      <th colspan=\"57\" halign=\"left\">ArrDel15</th>\n",
       "    </tr>\n",
       "    <tr>\n",
       "      <th>Dest</th>\n",
       "      <th>ATL</th>\n",
       "      <th>AUS</th>\n",
       "      <th>BNA</th>\n",
       "      <th>BOS</th>\n",
       "      <th>BTV</th>\n",
       "      <th>BUF</th>\n",
       "      <th>CHS</th>\n",
       "      <th>CLE</th>\n",
       "      <th>CLT</th>\n",
       "      <th>CMH</th>\n",
       "      <th>CVG</th>\n",
       "      <th>DAL</th>\n",
       "      <th>DCA</th>\n",
       "      <th>DEN</th>\n",
       "      <th>DFW</th>\n",
       "      <th>DTW</th>\n",
       "      <th>FLL</th>\n",
       "      <th>GRR</th>\n",
       "      <th>GSO</th>\n",
       "      <th>GSP</th>\n",
       "      <th>HOU</th>\n",
       "      <th>IAD</th>\n",
       "      <th>IAH</th>\n",
       "      <th>IND</th>\n",
       "      <th>JAX</th>\n",
       "      <th>LAS</th>\n",
       "      <th>LAX</th>\n",
       "      <th>MCO</th>\n",
       "      <th>MDW</th>\n",
       "      <th>MEM</th>\n",
       "      <th>MIA</th>\n",
       "      <th>MKE</th>\n",
       "      <th>MSP</th>\n",
       "      <th>MSY</th>\n",
       "      <th>MYR</th>\n",
       "      <th>ORD</th>\n",
       "      <th>ORF</th>\n",
       "      <th>PBI</th>\n",
       "      <th>PDX</th>\n",
       "      <th>PHL</th>\n",
       "      <th>PHX</th>\n",
       "      <th>PIT</th>\n",
       "      <th>PWM</th>\n",
       "      <th>RDU</th>\n",
       "      <th>RIC</th>\n",
       "      <th>ROC</th>\n",
       "      <th>RSW</th>\n",
       "      <th>SAN</th>\n",
       "      <th>SAV</th>\n",
       "      <th>SDF</th>\n",
       "      <th>SEA</th>\n",
       "      <th>SFO</th>\n",
       "      <th>SLC</th>\n",
       "      <th>SNA</th>\n",
       "      <th>STL</th>\n",
       "      <th>SYR</th>\n",
       "      <th>TPA</th>\n",
       "    </tr>\n",
       "    <tr>\n",
       "      <th>Year</th>\n",
       "      <th></th>\n",
       "      <th></th>\n",
       "      <th></th>\n",
       "      <th></th>\n",
       "      <th></th>\n",
       "      <th></th>\n",
       "      <th></th>\n",
       "      <th></th>\n",
       "      <th></th>\n",
       "      <th></th>\n",
       "      <th></th>\n",
       "      <th></th>\n",
       "      <th></th>\n",
       "      <th></th>\n",
       "      <th></th>\n",
       "      <th></th>\n",
       "      <th></th>\n",
       "      <th></th>\n",
       "      <th></th>\n",
       "      <th></th>\n",
       "      <th></th>\n",
       "      <th></th>\n",
       "      <th></th>\n",
       "      <th></th>\n",
       "      <th></th>\n",
       "      <th></th>\n",
       "      <th></th>\n",
       "      <th></th>\n",
       "      <th></th>\n",
       "      <th></th>\n",
       "      <th></th>\n",
       "      <th></th>\n",
       "      <th></th>\n",
       "      <th></th>\n",
       "      <th></th>\n",
       "      <th></th>\n",
       "      <th></th>\n",
       "      <th></th>\n",
       "      <th></th>\n",
       "      <th></th>\n",
       "      <th></th>\n",
       "      <th></th>\n",
       "      <th></th>\n",
       "      <th></th>\n",
       "      <th></th>\n",
       "      <th></th>\n",
       "      <th></th>\n",
       "      <th></th>\n",
       "      <th></th>\n",
       "      <th></th>\n",
       "      <th></th>\n",
       "      <th></th>\n",
       "      <th></th>\n",
       "      <th></th>\n",
       "      <th></th>\n",
       "      <th></th>\n",
       "      <th></th>\n",
       "    </tr>\n",
       "  </thead>\n",
       "  <tbody>\n",
       "    <tr>\n",
       "      <th>2016</th>\n",
       "      <td>0.172658</td>\n",
       "      <td>0.189565</td>\n",
       "      <td>0.200873</td>\n",
       "      <td>0.212620</td>\n",
       "      <td>0.174044</td>\n",
       "      <td>0.201771</td>\n",
       "      <td>0.197237</td>\n",
       "      <td>0.222691</td>\n",
       "      <td>0.178669</td>\n",
       "      <td>0.210179</td>\n",
       "      <td>0.164493</td>\n",
       "      <td>0.208573</td>\n",
       "      <td>0.255774</td>\n",
       "      <td>0.180438</td>\n",
       "      <td>0.197823</td>\n",
       "      <td>0.165951</td>\n",
       "      <td>0.256649</td>\n",
       "      <td>0.236641</td>\n",
       "      <td>0.227538</td>\n",
       "      <td>0.259980</td>\n",
       "      <td>0.194997</td>\n",
       "      <td>0.237559</td>\n",
       "      <td>0.200641</td>\n",
       "      <td>0.204506</td>\n",
       "      <td>0.216216</td>\n",
       "      <td>0.184940</td>\n",
       "      <td>0.200440</td>\n",
       "      <td>0.224837</td>\n",
       "      <td>0.228836</td>\n",
       "      <td>0.196944</td>\n",
       "      <td>0.205918</td>\n",
       "      <td>0.208545</td>\n",
       "      <td>0.173100</td>\n",
       "      <td>0.171348</td>\n",
       "      <td>0.137184</td>\n",
       "      <td>0.223348</td>\n",
       "      <td>0.209474</td>\n",
       "      <td>0.242186</td>\n",
       "      <td>0.286054</td>\n",
       "      <td>0.202290</td>\n",
       "      <td>0.189117</td>\n",
       "      <td>0.208270</td>\n",
       "      <td>0.212628</td>\n",
       "      <td>0.228801</td>\n",
       "      <td>0.277123</td>\n",
       "      <td>0.177549</td>\n",
       "      <td>0.208625</td>\n",
       "      <td>0.193632</td>\n",
       "      <td>0.225638</td>\n",
       "      <td>0.243687</td>\n",
       "      <td>0.215445</td>\n",
       "      <td>0.231637</td>\n",
       "      <td>0.197487</td>\n",
       "      <td>0.149123</td>\n",
       "      <td>0.206745</td>\n",
       "      <td>0.208902</td>\n",
       "      <td>0.216065</td>\n",
       "    </tr>\n",
       "    <tr>\n",
       "      <th>2017</th>\n",
       "      <td>0.189804</td>\n",
       "      <td>0.218339</td>\n",
       "      <td>0.220537</td>\n",
       "      <td>0.261794</td>\n",
       "      <td>0.200850</td>\n",
       "      <td>0.232250</td>\n",
       "      <td>0.199816</td>\n",
       "      <td>0.258818</td>\n",
       "      <td>0.199555</td>\n",
       "      <td>0.205208</td>\n",
       "      <td>0.259080</td>\n",
       "      <td>0.198340</td>\n",
       "      <td>0.322229</td>\n",
       "      <td>0.217435</td>\n",
       "      <td>0.188848</td>\n",
       "      <td>0.181771</td>\n",
       "      <td>0.247728</td>\n",
       "      <td>0.349306</td>\n",
       "      <td>0.299140</td>\n",
       "      <td>0.185263</td>\n",
       "      <td>0.203451</td>\n",
       "      <td>0.269991</td>\n",
       "      <td>0.192778</td>\n",
       "      <td>0.263753</td>\n",
       "      <td>0.267785</td>\n",
       "      <td>0.223191</td>\n",
       "      <td>0.239546</td>\n",
       "      <td>0.242743</td>\n",
       "      <td>0.287185</td>\n",
       "      <td>0.250000</td>\n",
       "      <td>0.210093</td>\n",
       "      <td>0.314347</td>\n",
       "      <td>0.189631</td>\n",
       "      <td>0.210805</td>\n",
       "      <td>0.173375</td>\n",
       "      <td>0.231648</td>\n",
       "      <td>0.256354</td>\n",
       "      <td>0.248564</td>\n",
       "      <td>0.264535</td>\n",
       "      <td>0.254355</td>\n",
       "      <td>0.239399</td>\n",
       "      <td>0.354077</td>\n",
       "      <td>0.269401</td>\n",
       "      <td>0.259259</td>\n",
       "      <td>0.345368</td>\n",
       "      <td>0.235636</td>\n",
       "      <td>0.238432</td>\n",
       "      <td>0.230378</td>\n",
       "      <td>0.234768</td>\n",
       "      <td>0.265000</td>\n",
       "      <td>0.235313</td>\n",
       "      <td>0.287129</td>\n",
       "      <td>0.218259</td>\n",
       "      <td>0.175810</td>\n",
       "      <td>0.288862</td>\n",
       "      <td>0.225064</td>\n",
       "      <td>0.230003</td>\n",
       "    </tr>\n",
       "    <tr>\n",
       "      <th>2018</th>\n",
       "      <td>0.137687</td>\n",
       "      <td>0.145714</td>\n",
       "      <td>0.181586</td>\n",
       "      <td>0.215652</td>\n",
       "      <td>0.237624</td>\n",
       "      <td>0.289926</td>\n",
       "      <td>0.188144</td>\n",
       "      <td>0.259422</td>\n",
       "      <td>0.176800</td>\n",
       "      <td>0.170984</td>\n",
       "      <td>0.225806</td>\n",
       "      <td>0.180095</td>\n",
       "      <td>0.272189</td>\n",
       "      <td>0.173792</td>\n",
       "      <td>0.136334</td>\n",
       "      <td>0.166078</td>\n",
       "      <td>0.203893</td>\n",
       "      <td>0.197531</td>\n",
       "      <td>0.350877</td>\n",
       "      <td>0.171429</td>\n",
       "      <td>0.221154</td>\n",
       "      <td>0.223022</td>\n",
       "      <td>0.165759</td>\n",
       "      <td>0.222591</td>\n",
       "      <td>0.228814</td>\n",
       "      <td>0.179369</td>\n",
       "      <td>0.177914</td>\n",
       "      <td>0.214627</td>\n",
       "      <td>0.297778</td>\n",
       "      <td>0.281022</td>\n",
       "      <td>0.151159</td>\n",
       "      <td>0.262931</td>\n",
       "      <td>0.117135</td>\n",
       "      <td>0.157973</td>\n",
       "      <td>0.117647</td>\n",
       "      <td>0.189655</td>\n",
       "      <td>0.341463</td>\n",
       "      <td>0.253746</td>\n",
       "      <td>0.219124</td>\n",
       "      <td>0.258621</td>\n",
       "      <td>0.215622</td>\n",
       "      <td>0.354978</td>\n",
       "      <td>0.266504</td>\n",
       "      <td>0.304140</td>\n",
       "      <td>0.240000</td>\n",
       "      <td>0.244009</td>\n",
       "      <td>0.206718</td>\n",
       "      <td>0.177531</td>\n",
       "      <td>0.155015</td>\n",
       "      <td>0.238095</td>\n",
       "      <td>0.166430</td>\n",
       "      <td>0.201100</td>\n",
       "      <td>0.135957</td>\n",
       "      <td>0.136646</td>\n",
       "      <td>0.222930</td>\n",
       "      <td>0.270531</td>\n",
       "      <td>0.164773</td>\n",
       "    </tr>\n",
       "  </tbody>\n",
       "</table>\n",
       "</div>"
      ],
      "text/plain": [
       "      ArrDel15                                                              \\\n",
       "Dest       ATL       AUS       BNA       BOS       BTV       BUF       CHS   \n",
       "Year                                                                         \n",
       "2016  0.172658  0.189565  0.200873  0.212620  0.174044  0.201771  0.197237   \n",
       "2017  0.189804  0.218339  0.220537  0.261794  0.200850  0.232250  0.199816   \n",
       "2018  0.137687  0.145714  0.181586  0.215652  0.237624  0.289926  0.188144   \n",
       "\n",
       "                                                                            \\\n",
       "Dest       CLE       CLT       CMH       CVG       DAL       DCA       DEN   \n",
       "Year                                                                         \n",
       "2016  0.222691  0.178669  0.210179  0.164493  0.208573  0.255774  0.180438   \n",
       "2017  0.258818  0.199555  0.205208  0.259080  0.198340  0.322229  0.217435   \n",
       "2018  0.259422  0.176800  0.170984  0.225806  0.180095  0.272189  0.173792   \n",
       "\n",
       "                                                                            \\\n",
       "Dest       DFW       DTW       FLL       GRR       GSO       GSP       HOU   \n",
       "Year                                                                         \n",
       "2016  0.197823  0.165951  0.256649  0.236641  0.227538  0.259980  0.194997   \n",
       "2017  0.188848  0.181771  0.247728  0.349306  0.299140  0.185263  0.203451   \n",
       "2018  0.136334  0.166078  0.203893  0.197531  0.350877  0.171429  0.221154   \n",
       "\n",
       "                                                                            \\\n",
       "Dest       IAD       IAH       IND       JAX       LAS       LAX       MCO   \n",
       "Year                                                                         \n",
       "2016  0.237559  0.200641  0.204506  0.216216  0.184940  0.200440  0.224837   \n",
       "2017  0.269991  0.192778  0.263753  0.267785  0.223191  0.239546  0.242743   \n",
       "2018  0.223022  0.165759  0.222591  0.228814  0.179369  0.177914  0.214627   \n",
       "\n",
       "                                                                            \\\n",
       "Dest       MDW       MEM       MIA       MKE       MSP       MSY       MYR   \n",
       "Year                                                                         \n",
       "2016  0.228836  0.196944  0.205918  0.208545  0.173100  0.171348  0.137184   \n",
       "2017  0.287185  0.250000  0.210093  0.314347  0.189631  0.210805  0.173375   \n",
       "2018  0.297778  0.281022  0.151159  0.262931  0.117135  0.157973  0.117647   \n",
       "\n",
       "                                                                            \\\n",
       "Dest       ORD       ORF       PBI       PDX       PHL       PHX       PIT   \n",
       "Year                                                                         \n",
       "2016  0.223348  0.209474  0.242186  0.286054  0.202290  0.189117  0.208270   \n",
       "2017  0.231648  0.256354  0.248564  0.264535  0.254355  0.239399  0.354077   \n",
       "2018  0.189655  0.341463  0.253746  0.219124  0.258621  0.215622  0.354978   \n",
       "\n",
       "                                                                            \\\n",
       "Dest       PWM       RDU       RIC       ROC       RSW       SAN       SAV   \n",
       "Year                                                                         \n",
       "2016  0.212628  0.228801  0.277123  0.177549  0.208625  0.193632  0.225638   \n",
       "2017  0.269401  0.259259  0.345368  0.235636  0.238432  0.230378  0.234768   \n",
       "2018  0.266504  0.304140  0.240000  0.244009  0.206718  0.177531  0.155015   \n",
       "\n",
       "                                                                            \\\n",
       "Dest       SDF       SEA       SFO       SLC       SNA       STL       SYR   \n",
       "Year                                                                         \n",
       "2016  0.243687  0.215445  0.231637  0.197487  0.149123  0.206745  0.208902   \n",
       "2017  0.265000  0.235313  0.287129  0.218259  0.175810  0.288862  0.225064   \n",
       "2018  0.238095  0.166430  0.201100  0.135957  0.136646  0.222930  0.270531   \n",
       "\n",
       "                \n",
       "Dest       TPA  \n",
       "Year            \n",
       "2016  0.216065  \n",
       "2017  0.230003  \n",
       "2018  0.164773  "
      ]
     },
     "execution_count": 40,
     "metadata": {},
     "output_type": "execute_result"
    }
   ],
   "source": [
    "pd.set_option('display.max_columns', None)\n",
    "group_dest = aotp_nyc_new.groupby(['Year', 'Dest'])[['ArrDel15']].mean()\n",
    "group_dest.unstack()"
   ]
  },
  {
   "cell_type": "code",
   "execution_count": 41,
   "metadata": {},
   "outputs": [
    {
     "data": {
      "text/plain": [
       "<matplotlib.legend.Legend at 0x139c02048>"
      ]
     },
     "execution_count": 41,
     "metadata": {},
     "output_type": "execute_result"
    },
    {
     "data": {
      "image/png": "[encoded data removed]",
      "text/plain": [
       "<matplotlib.figure.Figure at 0x139bad358>"
      ]
     },
     "metadata": {},
     "output_type": "display_data"
    }
   ],
   "source": [
    "group_dest.unstack().plot.bar(figsize=(8,6))\n",
    "plt.legend([])"
   ]
  },
  {
   "cell_type": "markdown",
   "metadata": {},
   "source": [
    "#### By Day of the Week"
   ]
  },
  {
   "cell_type": "code",
   "execution_count": 42,
   "metadata": {},
   "outputs": [
    {
     "data": {
      "text/html": [
       "<div>\n",
       "<style scoped>\n",
       "    .dataframe tbody tr th:only-of-type {\n",
       "        vertical-align: middle;\n",
       "    }\n",
       "\n",
       "    .dataframe tbody tr th {\n",
       "        vertical-align: top;\n",
       "    }\n",
       "\n",
       "    .dataframe thead tr th {\n",
       "        text-align: left;\n",
       "    }\n",
       "\n",
       "    .dataframe thead tr:last-of-type th {\n",
       "        text-align: right;\n",
       "    }\n",
       "</style>\n",
       "<table border=\"1\" class=\"dataframe\">\n",
       "  <thead>\n",
       "    <tr>\n",
       "      <th></th>\n",
       "      <th colspan=\"7\" halign=\"left\">ArrDel15</th>\n",
       "    </tr>\n",
       "    <tr>\n",
       "      <th>DayOfWeek</th>\n",
       "      <th>1</th>\n",
       "      <th>2</th>\n",
       "      <th>3</th>\n",
       "      <th>4</th>\n",
       "      <th>5</th>\n",
       "      <th>6</th>\n",
       "      <th>7</th>\n",
       "    </tr>\n",
       "    <tr>\n",
       "      <th>Year</th>\n",
       "      <th></th>\n",
       "      <th></th>\n",
       "      <th></th>\n",
       "      <th></th>\n",
       "      <th></th>\n",
       "      <th></th>\n",
       "      <th></th>\n",
       "    </tr>\n",
       "  </thead>\n",
       "  <tbody>\n",
       "    <tr>\n",
       "      <th>2016</th>\n",
       "      <td>0.213371</td>\n",
       "      <td>0.204212</td>\n",
       "      <td>0.183719</td>\n",
       "      <td>0.239971</td>\n",
       "      <td>0.245732</td>\n",
       "      <td>0.168510</td>\n",
       "      <td>0.196368</td>\n",
       "    </tr>\n",
       "    <tr>\n",
       "      <th>2017</th>\n",
       "      <td>0.246094</td>\n",
       "      <td>0.228868</td>\n",
       "      <td>0.214545</td>\n",
       "      <td>0.259176</td>\n",
       "      <td>0.285913</td>\n",
       "      <td>0.198944</td>\n",
       "      <td>0.200860</td>\n",
       "    </tr>\n",
       "    <tr>\n",
       "      <th>2018</th>\n",
       "      <td>0.173369</td>\n",
       "      <td>0.183764</td>\n",
       "      <td>0.190765</td>\n",
       "      <td>0.186212</td>\n",
       "      <td>0.277732</td>\n",
       "      <td>0.154729</td>\n",
       "      <td>0.183383</td>\n",
       "    </tr>\n",
       "  </tbody>\n",
       "</table>\n",
       "</div>"
      ],
      "text/plain": [
       "           ArrDel15                                                    \\\n",
       "DayOfWeek         1         2         3         4         5         6   \n",
       "Year                                                                    \n",
       "2016       0.213371  0.204212  0.183719  0.239971  0.245732  0.168510   \n",
       "2017       0.246094  0.228868  0.214545  0.259176  0.285913  0.198944   \n",
       "2018       0.173369  0.183764  0.190765  0.186212  0.277732  0.154729   \n",
       "\n",
       "                     \n",
       "DayOfWeek         7  \n",
       "Year                 \n",
       "2016       0.196368  \n",
       "2017       0.200860  \n",
       "2018       0.183383  "
      ]
     },
     "execution_count": 42,
     "metadata": {},
     "output_type": "execute_result"
    }
   ],
   "source": [
    "group_daywk = aotp_nyc_new.groupby(['Year', 'DayOfWeek'])[['ArrDel15']].mean()\n",
    "group_daywk.unstack()"
   ]
  },
  {
   "cell_type": "code",
   "execution_count": 43,
   "metadata": {},
   "outputs": [
    {
     "data": {
      "text/plain": [
       "<matplotlib.legend.Legend at 0x13a67c780>"
      ]
     },
     "execution_count": 43,
     "metadata": {},
     "output_type": "execute_result"
    },
    {
     "data": {
      "image/png": "[encoded data removed]",
      "text/plain": [
       "<matplotlib.figure.Figure at 0x13a99aa58>"
      ]
     },
     "metadata": {},
     "output_type": "display_data"
    }
   ],
   "source": [
    "group_daywk.unstack().plot.bar(figsize=(9,8))\n",
    "plt.legend(['M', 'T', 'W', 'Th', 'F', 'Sa', 'Su'])"
   ]
  },
  {
   "cell_type": "markdown",
   "metadata": {},
   "source": [
    "#### By TIme of Year (Quarter)"
   ]
  },
  {
   "cell_type": "code",
   "execution_count": 44,
   "metadata": {},
   "outputs": [
    {
     "data": {
      "text/html": [
       "<div>\n",
       "<style scoped>\n",
       "    .dataframe tbody tr th:only-of-type {\n",
       "        vertical-align: middle;\n",
       "    }\n",
       "\n",
       "    .dataframe tbody tr th {\n",
       "        vertical-align: top;\n",
       "    }\n",
       "\n",
       "    .dataframe thead tr th {\n",
       "        text-align: left;\n",
       "    }\n",
       "\n",
       "    .dataframe thead tr:last-of-type th {\n",
       "        text-align: right;\n",
       "    }\n",
       "</style>\n",
       "<table border=\"1\" class=\"dataframe\">\n",
       "  <thead>\n",
       "    <tr>\n",
       "      <th></th>\n",
       "      <th colspan=\"4\" halign=\"left\">ArrDel15</th>\n",
       "    </tr>\n",
       "    <tr>\n",
       "      <th>Quarter</th>\n",
       "      <th>1</th>\n",
       "      <th>2</th>\n",
       "      <th>3</th>\n",
       "      <th>4</th>\n",
       "    </tr>\n",
       "    <tr>\n",
       "      <th>Year</th>\n",
       "      <th></th>\n",
       "      <th></th>\n",
       "      <th></th>\n",
       "      <th></th>\n",
       "    </tr>\n",
       "  </thead>\n",
       "  <tbody>\n",
       "    <tr>\n",
       "      <th>2016</th>\n",
       "      <td>0.196913</td>\n",
       "      <td>0.192093</td>\n",
       "      <td>0.244094</td>\n",
       "      <td>0.202412</td>\n",
       "    </tr>\n",
       "    <tr>\n",
       "      <th>2017</th>\n",
       "      <td>0.238976</td>\n",
       "      <td>0.280283</td>\n",
       "      <td>0.235135</td>\n",
       "      <td>0.186085</td>\n",
       "    </tr>\n",
       "    <tr>\n",
       "      <th>2018</th>\n",
       "      <td>0.194095</td>\n",
       "      <td>NaN</td>\n",
       "      <td>NaN</td>\n",
       "      <td>NaN</td>\n",
       "    </tr>\n",
       "  </tbody>\n",
       "</table>\n",
       "</div>"
      ],
      "text/plain": [
       "         ArrDel15                              \n",
       "Quarter         1         2         3         4\n",
       "Year                                           \n",
       "2016     0.196913  0.192093  0.244094  0.202412\n",
       "2017     0.238976  0.280283  0.235135  0.186085\n",
       "2018     0.194095       NaN       NaN       NaN"
      ]
     },
     "execution_count": 44,
     "metadata": {},
     "output_type": "execute_result"
    }
   ],
   "source": [
    "group_qtr = aotp_nyc_new.groupby(['Year', 'Quarter'])[['ArrDel15']].mean()\n",
    "group_qtr.unstack()"
   ]
  },
  {
   "cell_type": "code",
   "execution_count": 45,
   "metadata": {},
   "outputs": [
    {
     "data": {
      "text/plain": [
       "<matplotlib.legend.Legend at 0x14964b048>"
      ]
     },
     "execution_count": 45,
     "metadata": {},
     "output_type": "execute_result"
    },
    {
     "data": {
      "image/png": "[encoded data removed]",
      "text/plain": [
       "<matplotlib.figure.Figure at 0x14964b3c8>"
      ]
     },
     "metadata": {},
     "output_type": "display_data"
    }
   ],
   "source": [
    "group_qtr.unstack().plot.bar(figsize=(8,6))\n",
    "plt.legend(['Q1', 'Q2', 'Q3', 'Q4'])"
   ]
  },
  {
   "cell_type": "markdown",
   "metadata": {},
   "source": [
    "#### By Time of Year (Month)"
   ]
  },
  {
   "cell_type": "code",
   "execution_count": 46,
   "metadata": {},
   "outputs": [
    {
     "data": {
      "text/html": [
       "<div>\n",
       "<style scoped>\n",
       "    .dataframe tbody tr th:only-of-type {\n",
       "        vertical-align: middle;\n",
       "    }\n",
       "\n",
       "    .dataframe tbody tr th {\n",
       "        vertical-align: top;\n",
       "    }\n",
       "\n",
       "    .dataframe thead tr th {\n",
       "        text-align: left;\n",
       "    }\n",
       "\n",
       "    .dataframe thead tr:last-of-type th {\n",
       "        text-align: right;\n",
       "    }\n",
       "</style>\n",
       "<table border=\"1\" class=\"dataframe\">\n",
       "  <thead>\n",
       "    <tr>\n",
       "      <th></th>\n",
       "      <th colspan=\"12\" halign=\"left\">ArrDel15</th>\n",
       "    </tr>\n",
       "    <tr>\n",
       "      <th>Month</th>\n",
       "      <th>1</th>\n",
       "      <th>2</th>\n",
       "      <th>3</th>\n",
       "      <th>4</th>\n",
       "      <th>5</th>\n",
       "      <th>6</th>\n",
       "      <th>7</th>\n",
       "      <th>8</th>\n",
       "      <th>9</th>\n",
       "      <th>10</th>\n",
       "      <th>11</th>\n",
       "      <th>12</th>\n",
       "    </tr>\n",
       "    <tr>\n",
       "      <th>Year</th>\n",
       "      <th></th>\n",
       "      <th></th>\n",
       "      <th></th>\n",
       "      <th></th>\n",
       "      <th></th>\n",
       "      <th></th>\n",
       "      <th></th>\n",
       "      <th></th>\n",
       "      <th></th>\n",
       "      <th></th>\n",
       "      <th></th>\n",
       "      <th></th>\n",
       "    </tr>\n",
       "  </thead>\n",
       "  <tbody>\n",
       "    <tr>\n",
       "      <th>2016</th>\n",
       "      <td>0.191129</td>\n",
       "      <td>0.215653</td>\n",
       "      <td>0.185216</td>\n",
       "      <td>0.149661</td>\n",
       "      <td>0.168951</td>\n",
       "      <td>0.256709</td>\n",
       "      <td>0.301259</td>\n",
       "      <td>0.248851</td>\n",
       "      <td>0.181254</td>\n",
       "      <td>0.177162</td>\n",
       "      <td>0.147254</td>\n",
       "      <td>0.283901</td>\n",
       "    </tr>\n",
       "    <tr>\n",
       "      <th>2017</th>\n",
       "      <td>0.247248</td>\n",
       "      <td>0.200437</td>\n",
       "      <td>0.264448</td>\n",
       "      <td>0.264348</td>\n",
       "      <td>0.281003</td>\n",
       "      <td>0.295280</td>\n",
       "      <td>0.272158</td>\n",
       "      <td>0.260403</td>\n",
       "      <td>0.167973</td>\n",
       "      <td>0.176587</td>\n",
       "      <td>0.142038</td>\n",
       "      <td>0.239808</td>\n",
       "    </tr>\n",
       "    <tr>\n",
       "      <th>2018</th>\n",
       "      <td>0.202268</td>\n",
       "      <td>0.191712</td>\n",
       "      <td>0.188455</td>\n",
       "      <td>NaN</td>\n",
       "      <td>NaN</td>\n",
       "      <td>NaN</td>\n",
       "      <td>NaN</td>\n",
       "      <td>NaN</td>\n",
       "      <td>NaN</td>\n",
       "      <td>NaN</td>\n",
       "      <td>NaN</td>\n",
       "      <td>NaN</td>\n",
       "    </tr>\n",
       "  </tbody>\n",
       "</table>\n",
       "</div>"
      ],
      "text/plain": [
       "       ArrDel15                                                              \\\n",
       "Month        1         2         3         4         5         6         7    \n",
       "Year                                                                          \n",
       "2016   0.191129  0.215653  0.185216  0.149661  0.168951  0.256709  0.301259   \n",
       "2017   0.247248  0.200437  0.264448  0.264348  0.281003  0.295280  0.272158   \n",
       "2018   0.202268  0.191712  0.188455       NaN       NaN       NaN       NaN   \n",
       "\n",
       "                                                         \n",
       "Month        8         9         10        11        12  \n",
       "Year                                                     \n",
       "2016   0.248851  0.181254  0.177162  0.147254  0.283901  \n",
       "2017   0.260403  0.167973  0.176587  0.142038  0.239808  \n",
       "2018        NaN       NaN       NaN       NaN       NaN  "
      ]
     },
     "execution_count": 46,
     "metadata": {},
     "output_type": "execute_result"
    }
   ],
   "source": [
    "group_mo = aotp_nyc_new.groupby(['Year', 'Month'])[['ArrDel15']].mean()\n",
    "group_mo.unstack()"
   ]
  },
  {
   "cell_type": "code",
   "execution_count": 47,
   "metadata": {},
   "outputs": [
    {
     "data": {
      "text/plain": [
       "<matplotlib.legend.Legend at 0x14964b978>"
      ]
     },
     "execution_count": 47,
     "metadata": {},
     "output_type": "execute_result"
    },
    {
     "data": {
      "image/png": "[encoded data removed]",
      "text/plain": [
       "<matplotlib.figure.Figure at 0x149813fd0>"
      ]
     },
     "metadata": {},
     "output_type": "display_data"
    }
   ],
   "source": [
    "group_mo.unstack().plot.bar(figsize=(8,6))\n",
    "plt.legend(['Jan', 'Feb', 'Mar', 'Apr', 'May', 'Jun', 'Jul', 'Aug', 'Sep', 'Oct', 'Nov', 'Dec'])"
   ]
  },
  {
   "cell_type": "markdown",
   "metadata": {},
   "source": [
    "#### By Airline"
   ]
  },
  {
   "cell_type": "code",
   "execution_count": 48,
   "metadata": {},
   "outputs": [
    {
     "data": {
      "text/html": [
       "<div>\n",
       "<style scoped>\n",
       "    .dataframe tbody tr th:only-of-type {\n",
       "        vertical-align: middle;\n",
       "    }\n",
       "\n",
       "    .dataframe tbody tr th {\n",
       "        vertical-align: top;\n",
       "    }\n",
       "\n",
       "    .dataframe thead tr th {\n",
       "        text-align: left;\n",
       "    }\n",
       "\n",
       "    .dataframe thead tr:last-of-type th {\n",
       "        text-align: right;\n",
       "    }\n",
       "</style>\n",
       "<table border=\"1\" class=\"dataframe\">\n",
       "  <thead>\n",
       "    <tr>\n",
       "      <th></th>\n",
       "      <th colspan=\"7\" halign=\"left\">ArrDel15</th>\n",
       "    </tr>\n",
       "    <tr>\n",
       "      <th>UniqueCarrier</th>\n",
       "      <th>AA</th>\n",
       "      <th>B6</th>\n",
       "      <th>DL</th>\n",
       "      <th>EV</th>\n",
       "      <th>UA</th>\n",
       "      <th>VX</th>\n",
       "      <th>WN</th>\n",
       "    </tr>\n",
       "    <tr>\n",
       "      <th>Year</th>\n",
       "      <th></th>\n",
       "      <th></th>\n",
       "      <th></th>\n",
       "      <th></th>\n",
       "      <th></th>\n",
       "      <th></th>\n",
       "      <th></th>\n",
       "    </tr>\n",
       "  </thead>\n",
       "  <tbody>\n",
       "    <tr>\n",
       "      <th>2016</th>\n",
       "      <td>0.209089</td>\n",
       "      <td>0.242209</td>\n",
       "      <td>0.178504</td>\n",
       "      <td>0.225088</td>\n",
       "      <td>0.212688</td>\n",
       "      <td>0.180406</td>\n",
       "      <td>0.199477</td>\n",
       "    </tr>\n",
       "    <tr>\n",
       "      <th>2017</th>\n",
       "      <td>0.210098</td>\n",
       "      <td>0.265788</td>\n",
       "      <td>0.199185</td>\n",
       "      <td>0.294008</td>\n",
       "      <td>0.227300</td>\n",
       "      <td>0.279744</td>\n",
       "      <td>0.244822</td>\n",
       "    </tr>\n",
       "    <tr>\n",
       "      <th>2018</th>\n",
       "      <td>0.160709</td>\n",
       "      <td>0.278040</td>\n",
       "      <td>0.137866</td>\n",
       "      <td>0.268596</td>\n",
       "      <td>0.169830</td>\n",
       "      <td>0.182877</td>\n",
       "      <td>0.210436</td>\n",
       "    </tr>\n",
       "  </tbody>\n",
       "</table>\n",
       "</div>"
      ],
      "text/plain": [
       "               ArrDel15                                                    \\\n",
       "UniqueCarrier        AA        B6        DL        EV        UA        VX   \n",
       "Year                                                                        \n",
       "2016           0.209089  0.242209  0.178504  0.225088  0.212688  0.180406   \n",
       "2017           0.210098  0.265788  0.199185  0.294008  0.227300  0.279744   \n",
       "2018           0.160709  0.278040  0.137866  0.268596  0.169830  0.182877   \n",
       "\n",
       "                         \n",
       "UniqueCarrier        WN  \n",
       "Year                     \n",
       "2016           0.199477  \n",
       "2017           0.244822  \n",
       "2018           0.210436  "
      ]
     },
     "execution_count": 48,
     "metadata": {},
     "output_type": "execute_result"
    }
   ],
   "source": [
    "group_carr = aotp_nyc_new.groupby(['Year', 'UniqueCarrier'])[['ArrDel15']].mean()\n",
    "group_carr.unstack()"
   ]
  },
  {
   "cell_type": "code",
   "execution_count": 49,
   "metadata": {},
   "outputs": [
    {
     "data": {
      "text/plain": [
       "<matplotlib.legend.Legend at 0x149d0fdd8>"
      ]
     },
     "execution_count": 49,
     "metadata": {},
     "output_type": "execute_result"
    },
    {
     "data": {
      "image/png": "[encoded data removed]",
      "text/plain": [
       "<matplotlib.figure.Figure at 0x149805f60>"
      ]
     },
     "metadata": {},
     "output_type": "display_data"
    }
   ],
   "source": [
    "group_carr.unstack().plot.bar(figsize=(9,9))\n",
    "plt.legend(['AA', 'B6', 'DL', 'EV', 'UA', 'UA', 'VX', 'WN'])"
   ]
  },
  {
   "cell_type": "markdown",
   "metadata": {},
   "source": [
    "#### By Departure Time"
   ]
  },
  {
   "cell_type": "markdown",
   "metadata": {},
   "source": [
    "#### 2016"
   ]
  },
  {
   "cell_type": "code",
   "execution_count": 50,
   "metadata": {},
   "outputs": [
    {
     "data": {
      "text/plain": [
       "<matplotlib.legend.Legend at 0x14ba7d390>"
      ]
     },
     "execution_count": 50,
     "metadata": {},
     "output_type": "execute_result"
    },
    {
     "data": {
      "image/png": "[encoded data removed]",
      "text/plain": [
       "<matplotlib.figure.Figure at 0x14ba770b8>"
      ]
     },
     "metadata": {},
     "output_type": "display_data"
    }
   ],
   "source": [
    "group_dep_16 = aotp_nyc_new[aotp_nyc_new['Year']==2016].groupby('DepTimeBlk')[['ArrDel15']].mean()\n",
    "group_dep_16.plot.bar()\n",
    "plt.legend([])"
   ]
  },
  {
   "cell_type": "markdown",
   "metadata": {},
   "source": [
    "#### 2017"
   ]
  },
  {
   "cell_type": "code",
   "execution_count": 51,
   "metadata": {},
   "outputs": [
    {
     "data": {
      "text/plain": [
       "<matplotlib.legend.Legend at 0x151f01198>"
      ]
     },
     "execution_count": 51,
     "metadata": {},
     "output_type": "execute_result"
    },
    {
     "data": {
      "image/png": "[encoded data removed]",
      "text/plain": [
       "<matplotlib.figure.Figure at 0x149ef3c50>"
      ]
     },
     "metadata": {},
     "output_type": "display_data"
    }
   ],
   "source": [
    "group_dep_17 = aotp_nyc_new[aotp_nyc_new['Year']==2017].groupby('DepTimeBlk')[['ArrDel15']].mean()\n",
    "group_dep_17.plot.bar()\n",
    "plt.legend([])"
   ]
  },
  {
   "cell_type": "markdown",
   "metadata": {},
   "source": [
    "#### 2018"
   ]
  },
  {
   "cell_type": "code",
   "execution_count": 52,
   "metadata": {},
   "outputs": [
    {
     "data": {
      "text/plain": [
       "<matplotlib.legend.Legend at 0x13e15c6d8>"
      ]
     },
     "execution_count": 52,
     "metadata": {},
     "output_type": "execute_result"
    },
    {
     "data": {
      "image/png": "[encoded data removed]",
      "text/plain": [
       "<matplotlib.figure.Figure at 0x150a9b240>"
      ]
     },
     "metadata": {},
     "output_type": "display_data"
    }
   ],
   "source": [
    "group_dep_18 = aotp_nyc_new[aotp_nyc_new['Year']==2018].groupby('DepTimeBlk')[['ArrDel15']].mean()\n",
    "group_dep_18.plot.bar()\n",
    "plt.legend([])"
   ]
  },
  {
   "cell_type": "markdown",
   "metadata": {},
   "source": [
    "#### By arrival time"
   ]
  },
  {
   "cell_type": "markdown",
   "metadata": {},
   "source": [
    "#### 2016"
   ]
  },
  {
   "cell_type": "code",
   "execution_count": 53,
   "metadata": {},
   "outputs": [
    {
     "data": {
      "text/plain": [
       "<matplotlib.legend.Legend at 0x150a86b38>"
      ]
     },
     "execution_count": 53,
     "metadata": {},
     "output_type": "execute_result"
    },
    {
     "data": {
      "image/png": "[encoded data removed]",
      "text/plain": [
       "<matplotlib.figure.Figure at 0x149086d30>"
      ]
     },
     "metadata": {},
     "output_type": "display_data"
    }
   ],
   "source": [
    "group_arr_16 = aotp_nyc_new[aotp_nyc_new['Year'] == 2016].groupby('ArrTimeBlk')[['ArrDel15']].mean()\n",
    "group_arr_16.plot.bar()\n",
    "plt.legend([])"
   ]
  },
  {
   "cell_type": "markdown",
   "metadata": {},
   "source": [
    "#### 2017"
   ]
  },
  {
   "cell_type": "code",
   "execution_count": 54,
   "metadata": {},
   "outputs": [
    {
     "data": {
      "text/plain": [
       "<matplotlib.legend.Legend at 0x13e4ea5f8>"
      ]
     },
     "execution_count": 54,
     "metadata": {},
     "output_type": "execute_result"
    },
    {
     "data": {
      "image/png": "[encoded data removed]",
      "text/plain": [
       "<matplotlib.figure.Figure at 0x13e4e0780>"
      ]
     },
     "metadata": {},
     "output_type": "display_data"
    }
   ],
   "source": [
    "group_arr_17 = aotp_nyc_new[aotp_nyc_new['Year'] == 2017].groupby('ArrTimeBlk')[['ArrDel15']].mean()\n",
    "group_arr_17.plot.bar()\n",
    "plt.legend([])"
   ]
  },
  {
   "cell_type": "markdown",
   "metadata": {},
   "source": [
    "#### 2018"
   ]
  },
  {
   "cell_type": "code",
   "execution_count": 55,
   "metadata": {},
   "outputs": [
    {
     "data": {
      "text/plain": [
       "<matplotlib.legend.Legend at 0x1492bb550>"
      ]
     },
     "execution_count": 55,
     "metadata": {},
     "output_type": "execute_result"
    },
    {
     "data": {
      "image/png": "[encoded data removed]",
      "text/plain": [
       "<matplotlib.figure.Figure at 0x1492b2eb8>"
      ]
     },
     "metadata": {},
     "output_type": "display_data"
    }
   ],
   "source": [
    "group_arr_18 = aotp_nyc_new[aotp_nyc_new['Year'] == 2018].groupby('ArrTimeBlk')[['ArrDel15']].mean()\n",
    "group_arr_18.plot.bar()\n",
    "plt.legend([])"
   ]
  },
  {
   "cell_type": "markdown",
   "metadata": {},
   "source": [
    "#### By distance"
   ]
  },
  {
   "cell_type": "code",
   "execution_count": 56,
   "metadata": {},
   "outputs": [
    {
     "data": {
      "text/html": [
       "<div>\n",
       "<style scoped>\n",
       "    .dataframe tbody tr th:only-of-type {\n",
       "        vertical-align: middle;\n",
       "    }\n",
       "\n",
       "    .dataframe tbody tr th {\n",
       "        vertical-align: top;\n",
       "    }\n",
       "\n",
       "    .dataframe thead tr th {\n",
       "        text-align: left;\n",
       "    }\n",
       "\n",
       "    .dataframe thead tr:last-of-type th {\n",
       "        text-align: right;\n",
       "    }\n",
       "</style>\n",
       "<table border=\"1\" class=\"dataframe\">\n",
       "  <thead>\n",
       "    <tr>\n",
       "      <th></th>\n",
       "      <th colspan=\"11\" halign=\"left\">ArrDel15</th>\n",
       "    </tr>\n",
       "    <tr>\n",
       "      <th>DistanceGroup</th>\n",
       "      <th>1</th>\n",
       "      <th>2</th>\n",
       "      <th>3</th>\n",
       "      <th>4</th>\n",
       "      <th>5</th>\n",
       "      <th>6</th>\n",
       "      <th>7</th>\n",
       "      <th>8</th>\n",
       "      <th>9</th>\n",
       "      <th>10</th>\n",
       "      <th>11</th>\n",
       "    </tr>\n",
       "    <tr>\n",
       "      <th>Year</th>\n",
       "      <th></th>\n",
       "      <th></th>\n",
       "      <th></th>\n",
       "      <th></th>\n",
       "      <th></th>\n",
       "      <th></th>\n",
       "      <th></th>\n",
       "      <th></th>\n",
       "      <th></th>\n",
       "      <th></th>\n",
       "      <th></th>\n",
       "    </tr>\n",
       "  </thead>\n",
       "  <tbody>\n",
       "    <tr>\n",
       "      <th>2016</th>\n",
       "      <td>0.223240</td>\n",
       "      <td>0.215927</td>\n",
       "      <td>0.199705</td>\n",
       "      <td>0.208640</td>\n",
       "      <td>0.220715</td>\n",
       "      <td>0.200183</td>\n",
       "      <td>0.182768</td>\n",
       "      <td>0.197487</td>\n",
       "      <td>0.186777</td>\n",
       "      <td>0.204196</td>\n",
       "      <td>0.231637</td>\n",
       "    </tr>\n",
       "    <tr>\n",
       "      <th>2017</th>\n",
       "      <td>0.269130</td>\n",
       "      <td>0.262282</td>\n",
       "      <td>0.225112</td>\n",
       "      <td>0.231907</td>\n",
       "      <td>0.225863</td>\n",
       "      <td>0.192672</td>\n",
       "      <td>0.217675</td>\n",
       "      <td>0.218259</td>\n",
       "      <td>0.230448</td>\n",
       "      <td>0.237165</td>\n",
       "      <td>0.287129</td>\n",
       "    </tr>\n",
       "    <tr>\n",
       "      <th>2018</th>\n",
       "      <td>0.225545</td>\n",
       "      <td>0.273362</td>\n",
       "      <td>0.185858</td>\n",
       "      <td>0.188219</td>\n",
       "      <td>0.186643</td>\n",
       "      <td>0.160776</td>\n",
       "      <td>0.165934</td>\n",
       "      <td>0.135957</td>\n",
       "      <td>0.196994</td>\n",
       "      <td>0.177081</td>\n",
       "      <td>0.201100</td>\n",
       "    </tr>\n",
       "  </tbody>\n",
       "</table>\n",
       "</div>"
      ],
      "text/plain": [
       "               ArrDel15                                                    \\\n",
       "DistanceGroup        1         2         3         4         5         6    \n",
       "Year                                                                        \n",
       "2016           0.223240  0.215927  0.199705  0.208640  0.220715  0.200183   \n",
       "2017           0.269130  0.262282  0.225112  0.231907  0.225863  0.192672   \n",
       "2018           0.225545  0.273362  0.185858  0.188219  0.186643  0.160776   \n",
       "\n",
       "                                                                 \n",
       "DistanceGroup        7         8         9         10        11  \n",
       "Year                                                             \n",
       "2016           0.182768  0.197487  0.186777  0.204196  0.231637  \n",
       "2017           0.217675  0.218259  0.230448  0.237165  0.287129  \n",
       "2018           0.165934  0.135957  0.196994  0.177081  0.201100  "
      ]
     },
     "execution_count": 56,
     "metadata": {},
     "output_type": "execute_result"
    }
   ],
   "source": [
    "group_dist = aotp_nyc_new.groupby(['Year', 'DistanceGroup'])[['ArrDel15']].mean()\n",
    "group_dist.unstack()"
   ]
  },
  {
   "cell_type": "code",
   "execution_count": 57,
   "metadata": {},
   "outputs": [
    {
     "data": {
      "text/plain": [
       "<matplotlib.legend.Legend at 0x15583dbe0>"
      ]
     },
     "execution_count": 57,
     "metadata": {},
     "output_type": "execute_result"
    },
    {
     "data": {
      "image/png": "[encoded data removed]",
      "text/plain": [
       "<matplotlib.figure.Figure at 0x14933a5f8>"
      ]
     },
     "metadata": {},
     "output_type": "display_data"
    }
   ],
   "source": [
    "group_dist.unstack().plot.bar(figsize=(11,8))\n",
    "plt.legend(['<250', '250-499', '500-749', '750-999', '1000-1249', '1250-1499', '1500-1749', '1750-1999', '2000-2249', '2250-2499', '>2500'], prop={'size': 9})"
   ]
  },
  {
   "cell_type": "markdown",
   "metadata": {},
   "source": [
    "#### By flight time (time in air)"
   ]
  },
  {
   "cell_type": "markdown",
   "metadata": {},
   "source": [
    "#### 2016"
   ]
  },
  {
   "cell_type": "code",
   "execution_count": 58,
   "metadata": {},
   "outputs": [
    {
     "data": {
      "text/plain": [
       "<matplotlib.legend.Legend at 0x150dc7e10>"
      ]
     },
     "execution_count": 58,
     "metadata": {},
     "output_type": "execute_result"
    },
    {
     "data": {
      "image/png": "[encoded data removed]",
      "text/plain": [
       "<matplotlib.figure.Figure at 0x1557f2cc0>"
      ]
     },
     "metadata": {},
     "output_type": "display_data"
    }
   ],
   "source": [
    "group_ftime16 = aotp_nyc_new[aotp_nyc_new['Year']==2016].groupby(['Year', 'AirTime'])[['ArrDel15']].mean()\n",
    "group_ftime16.plot.bar()\n",
    "plt.xticks([])\n",
    "plt.xlabel('')\n",
    "plt.legend([])"
   ]
  },
  {
   "cell_type": "markdown",
   "metadata": {},
   "source": [
    "#### 2017"
   ]
  },
  {
   "cell_type": "code",
   "execution_count": 59,
   "metadata": {},
   "outputs": [
    {
     "data": {
      "text/plain": [
       "<matplotlib.legend.Legend at 0x151d419e8>"
      ]
     },
     "execution_count": 59,
     "metadata": {},
     "output_type": "execute_result"
    },
    {
     "data": {
      "image/png": "[encoded data removed]",
      "text/plain": [
       "<matplotlib.figure.Figure at 0x1492130f0>"
      ]
     },
     "metadata": {},
     "output_type": "display_data"
    }
   ],
   "source": [
    "group_ftime17 = aotp_nyc_new[aotp_nyc_new['Year']==2017].groupby(['Year', 'AirTime'])[['ArrDel15']].mean()\n",
    "group_ftime17.plot.bar()\n",
    "plt.xticks([])\n",
    "plt.xlabel('')\n",
    "plt.legend([])"
   ]
  },
  {
   "cell_type": "markdown",
   "metadata": {},
   "source": [
    "#### 2018"
   ]
  },
  {
   "cell_type": "code",
   "execution_count": 60,
   "metadata": {},
   "outputs": [
    {
     "data": {
      "text/plain": [
       "<matplotlib.legend.Legend at 0x15114c2e8>"
      ]
     },
     "execution_count": 60,
     "metadata": {},
     "output_type": "execute_result"
    },
    {
     "data": {
      "image/png": "[encoded data removed]",
      "text/plain": [
       "<matplotlib.figure.Figure at 0x15112eeb8>"
      ]
     },
     "metadata": {},
     "output_type": "display_data"
    }
   ],
   "source": [
    "group_ftime18 = aotp_nyc_new[aotp_nyc_new['Year']==2018].groupby(['Year', 'AirTime'])[['ArrDel15']].mean()\n",
    "group_ftime18.plot.bar()\n",
    "plt.xticks([])\n",
    "plt.xlabel('')\n",
    "plt.legend([])"
   ]
  },
  {
   "cell_type": "markdown",
   "metadata": {},
   "source": [
    "#### By flight time (total elapsed time)"
   ]
  },
  {
   "cell_type": "markdown",
   "metadata": {},
   "source": [
    "#### 2016"
   ]
  },
  {
   "cell_type": "code",
   "execution_count": 61,
   "metadata": {},
   "outputs": [
    {
     "data": {
      "text/plain": [
       "<matplotlib.legend.Legend at 0x155867a20>"
      ]
     },
     "execution_count": 61,
     "metadata": {},
     "output_type": "execute_result"
    },
    {
     "data": {
      "image/png": "[encoded data removed]",
      "text/plain": [
       "<matplotlib.figure.Figure at 0x151162908>"
      ]
     },
     "metadata": {},
     "output_type": "display_data"
    }
   ],
   "source": [
    "group_eltime16 = aotp_nyc_new[aotp_nyc_new['Year']==2016].groupby(['Year', 'ActualElapsedTime'])[['ArrDel15']].mean()\n",
    "group_eltime16.plot.bar()\n",
    "plt.xticks([])\n",
    "plt.xlabel('')\n",
    "plt.legend([])"
   ]
  },
  {
   "cell_type": "markdown",
   "metadata": {},
   "source": [
    "#### 2017"
   ]
  },
  {
   "cell_type": "code",
   "execution_count": 62,
   "metadata": {},
   "outputs": [
    {
     "data": {
      "text/plain": [
       "<matplotlib.legend.Legend at 0x1494730b8>"
      ]
     },
     "execution_count": 62,
     "metadata": {},
     "output_type": "execute_result"
    },
    {
     "data": {
      "image/png": "[encoded data removed]",
      "text/plain": [
       "<matplotlib.figure.Figure at 0x1557a5390>"
      ]
     },
     "metadata": {},
     "output_type": "display_data"
    }
   ],
   "source": [
    "group_eltime17 = aotp_nyc_new[aotp_nyc_new['Year']==2017].groupby(['Year', 'ActualElapsedTime'])[['ArrDel15']].mean()\n",
    "group_eltime17.plot.bar()\n",
    "plt.xticks([])\n",
    "plt.xlabel('')\n",
    "plt.legend([])"
   ]
  },
  {
   "cell_type": "markdown",
   "metadata": {},
   "source": [
    "#### 2018"
   ]
  },
  {
   "cell_type": "code",
   "execution_count": 63,
   "metadata": {},
   "outputs": [
    {
     "data": {
      "text/plain": [
       "<matplotlib.legend.Legend at 0x15e936a90>"
      ]
     },
     "execution_count": 63,
     "metadata": {},
     "output_type": "execute_result"
    },
    {
     "data": {
      "image/png": "[encoded data removed]",
      "text/plain": [
       "<matplotlib.figure.Figure at 0x1641cf978>"
      ]
     },
     "metadata": {},
     "output_type": "display_data"
    }
   ],
   "source": [
    "group_eltime18 = aotp_nyc_new[aotp_nyc_new['Year']==2018].groupby(['Year', 'ActualElapsedTime'])[['ArrDel15']].mean()\n",
    "group_eltime18.plot.bar()\n",
    "plt.xticks([])\n",
    "plt.xlabel('')\n",
    "plt.legend([])"
   ]
  },
  {
   "cell_type": "markdown",
   "metadata": {},
   "source": [
    "#### By ground time"
   ]
  },
  {
   "cell_type": "code",
   "execution_count": 64,
   "metadata": {},
   "outputs": [],
   "source": [
    "aotp_nyc_new['GroundTime'] = aotp_nyc_new['TaxiIn'] + aotp_nyc_new['TaxiOut']"
   ]
  },
  {
   "cell_type": "code",
   "execution_count": 65,
   "metadata": {},
   "outputs": [
    {
     "data": {
      "text/html": [
       "<div>\n",
       "<style scoped>\n",
       "    .dataframe tbody tr th:only-of-type {\n",
       "        vertical-align: middle;\n",
       "    }\n",
       "\n",
       "    .dataframe tbody tr th {\n",
       "        vertical-align: top;\n",
       "    }\n",
       "\n",
       "    .dataframe thead th {\n",
       "        text-align: right;\n",
       "    }\n",
       "</style>\n",
       "<table border=\"1\" class=\"dataframe\">\n",
       "  <thead>\n",
       "    <tr style=\"text-align: right;\">\n",
       "      <th></th>\n",
       "      <th>GroundTime</th>\n",
       "    </tr>\n",
       "    <tr>\n",
       "      <th>Origin</th>\n",
       "      <th></th>\n",
       "    </tr>\n",
       "  </thead>\n",
       "  <tbody>\n",
       "    <tr>\n",
       "      <th>EWR</th>\n",
       "      <td>29.716753</td>\n",
       "    </tr>\n",
       "    <tr>\n",
       "      <th>JFK</th>\n",
       "      <td>35.158936</td>\n",
       "    </tr>\n",
       "    <tr>\n",
       "      <th>LGA</th>\n",
       "      <td>34.966919</td>\n",
       "    </tr>\n",
       "  </tbody>\n",
       "</table>\n",
       "</div>"
      ],
      "text/plain": [
       "        GroundTime\n",
       "Origin            \n",
       "EWR      29.716753\n",
       "JFK      35.158936\n",
       "LGA      34.966919"
      ]
     },
     "execution_count": 65,
     "metadata": {},
     "output_type": "execute_result"
    }
   ],
   "source": [
    "aotp_nyc_new.groupby('Origin')[['GroundTime']].mean()"
   ]
  },
  {
   "cell_type": "markdown",
   "metadata": {},
   "source": [
    "#### 2016"
   ]
  },
  {
   "cell_type": "code",
   "execution_count": 66,
   "metadata": {},
   "outputs": [
    {
     "data": {
      "text/plain": [
       "<matplotlib.legend.Legend at 0x16422b4e0>"
      ]
     },
     "execution_count": 66,
     "metadata": {},
     "output_type": "execute_result"
    },
    {
     "data": {
      "image/png": "[encoded data removed]",
      "text/plain": [
       "<matplotlib.figure.Figure at 0x15f5045f8>"
      ]
     },
     "metadata": {},
     "output_type": "display_data"
    }
   ],
   "source": [
    "group_grdtime16 = aotp_nyc_new[aotp_nyc_new['Year']==2016].groupby(['Year', 'GroundTime'])[['ArrDel15']].mean()\n",
    "group_grdtime16.plot.bar()\n",
    "plt.xticks([])\n",
    "plt.xlabel('')\n",
    "plt.legend([])"
   ]
  },
  {
   "cell_type": "markdown",
   "metadata": {},
   "source": [
    "#### 2017"
   ]
  },
  {
   "cell_type": "code",
   "execution_count": 67,
   "metadata": {
    "scrolled": true
   },
   "outputs": [
    {
     "data": {
      "text/plain": [
       "<matplotlib.legend.Legend at 0x163f22e80>"
      ]
     },
     "execution_count": 67,
     "metadata": {},
     "output_type": "execute_result"
    },
    {
     "data": {
      "image/png": "[encoded data removed]",
      "text/plain": [
       "<matplotlib.figure.Figure at 0x15ee91e48>"
      ]
     },
     "metadata": {},
     "output_type": "display_data"
    }
   ],
   "source": [
    "group_grdtime17 = aotp_nyc_new[aotp_nyc_new['Year']==2017].groupby(['Year', 'GroundTime'])[['ArrDel15']].mean()\n",
    "group_grdtime17.plot.bar()\n",
    "plt.xticks([])\n",
    "plt.xlabel('')\n",
    "plt.legend([])"
   ]
  },
  {
   "cell_type": "markdown",
   "metadata": {},
   "source": [
    "#### 2018"
   ]
  },
  {
   "cell_type": "code",
   "execution_count": 68,
   "metadata": {},
   "outputs": [
    {
     "data": {
      "text/plain": [
       "<matplotlib.legend.Legend at 0x1689905c0>"
      ]
     },
     "execution_count": 68,
     "metadata": {},
     "output_type": "execute_result"
    },
    {
     "data": {
      "image/png": "[encoded data removed]",
      "text/plain": [
       "<matplotlib.figure.Figure at 0x166bf2828>"
      ]
     },
     "metadata": {},
     "output_type": "display_data"
    }
   ],
   "source": [
    "group_grdtime18 = aotp_nyc_new[aotp_nyc_new['Year']==2018].groupby(['Year', 'GroundTime'])[['ArrDel15']].mean()\n",
    "group_grdtime18.plot.bar()\n",
    "plt.xticks([])\n",
    "plt.xlabel('')\n",
    "plt.legend([])"
   ]
  },
  {
   "cell_type": "markdown",
   "metadata": {},
   "source": [
    "### Get the scheduled volume for each hour of each year and the max scheduled volume for any hour for each year (at each airport)"
   ]
  },
  {
   "cell_type": "markdown",
   "metadata": {},
   "source": [
    "The code below looks over the full data set for the number of scheduled departures and arrivals over every hour at each airport being considered for this project. After calculating the hourly scheduled volume (arrivals + departures) at each airport, find the maximum at that airport over any hour for a given year. This is a proxy for the maximum capacity of the airport* and we will ultimately take the percentage of each hourly scheduled volume at each airport in an attempt to measure how close to capacity the airport was at that hour.\n",
    "\n",
    "*To be sure there are issues with this approach:\n",
    "\n",
    "* One could simply take the maximum over the entire time covered in the data, since the value should not actually change from year to year (assuming no changes in airport infrastructure)\n",
    "* There is potential for some leakage by normalizing over a given year when some of validation sets will split a year (maybe better to do over quarters or months)"
   ]
  },
  {
   "cell_type": "markdown",
   "metadata": {},
   "source": [
    "Get all airports being evaluated and only get all the flights to/from these airports in *all* data for each year"
   ]
  },
  {
   "cell_type": "code",
   "execution_count": 69,
   "metadata": {},
   "outputs": [],
   "source": [
    "airports = nyc_airports\n",
    "airports.extend(dest_to_keep)"
   ]
  },
  {
   "cell_type": "code",
   "execution_count": 70,
   "metadata": {},
   "outputs": [
    {
     "data": {
      "text/plain": [
       "60"
      ]
     },
     "execution_count": 70,
     "metadata": {},
     "output_type": "execute_result"
    }
   ],
   "source": [
    "len(airports)"
   ]
  },
  {
   "cell_type": "code",
   "execution_count": 118,
   "metadata": {},
   "outputs": [],
   "source": [
    "aotp_16_new = aotp_16[aotp_16['Origin'].isin(airports) | aotp_16['Dest'].isin(airports)]"
   ]
  },
  {
   "cell_type": "code",
   "execution_count": 119,
   "metadata": {},
   "outputs": [],
   "source": [
    "aotp_17_new = aotp_17[aotp_17['Origin'].isin(airports) | aotp_17['Dest'].isin(airports)]"
   ]
  },
  {
   "cell_type": "code",
   "execution_count": 120,
   "metadata": {},
   "outputs": [],
   "source": [
    "aotp_18_new = aotp_18[aotp_18['Origin'].isin(airports) | aotp_18['Dest'].isin(airports)]"
   ]
  },
  {
   "cell_type": "code",
   "execution_count": 121,
   "metadata": {},
   "outputs": [],
   "source": [
    "aotp_16_new = aotp_16_new.reset_index()\n",
    "aotp_17_new = aotp_17_new.reset_index()\n",
    "aotp_18_new = aotp_18_new.reset_index()"
   ]
  },
  {
   "cell_type": "markdown",
   "metadata": {},
   "source": [
    "Get the number of scheduled departures for each hour for each airport for each year."
   ]
  },
  {
   "cell_type": "code",
   "execution_count": 122,
   "metadata": {},
   "outputs": [],
   "source": [
    "dephr_16 = aotp_16_new.groupby(['FlightDate', 'DepTimeBlk', 'Origin']).count()[['index']].reset_index()"
   ]
  },
  {
   "cell_type": "code",
   "execution_count": 123,
   "metadata": {},
   "outputs": [],
   "source": [
    "dephr_16.rename(columns={'index': 'DepHr', 'DepTimeBlk': 'TimeBlk', 'Origin': 'Airport'}, inplace=True)"
   ]
  },
  {
   "cell_type": "code",
   "execution_count": 124,
   "metadata": {},
   "outputs": [
    {
     "data": {
      "text/html": [
       "<div>\n",
       "<style scoped>\n",
       "    .dataframe tbody tr th:only-of-type {\n",
       "        vertical-align: middle;\n",
       "    }\n",
       "\n",
       "    .dataframe tbody tr th {\n",
       "        vertical-align: top;\n",
       "    }\n",
       "\n",
       "    .dataframe thead th {\n",
       "        text-align: right;\n",
       "    }\n",
       "</style>\n",
       "<table border=\"1\" class=\"dataframe\">\n",
       "  <thead>\n",
       "    <tr style=\"text-align: right;\">\n",
       "      <th></th>\n",
       "      <th>FlightDate</th>\n",
       "      <th>TimeBlk</th>\n",
       "      <th>Airport</th>\n",
       "      <th>DepHr</th>\n",
       "    </tr>\n",
       "  </thead>\n",
       "  <tbody>\n",
       "    <tr>\n",
       "      <th>0</th>\n",
       "      <td>2016-01-01</td>\n",
       "      <td>0001-0559</td>\n",
       "      <td>ACV</td>\n",
       "      <td>1</td>\n",
       "    </tr>\n",
       "    <tr>\n",
       "      <th>1</th>\n",
       "      <td>2016-01-01</td>\n",
       "      <td>0001-0559</td>\n",
       "      <td>ANC</td>\n",
       "      <td>7</td>\n",
       "    </tr>\n",
       "    <tr>\n",
       "      <th>2</th>\n",
       "      <td>2016-01-01</td>\n",
       "      <td>0001-0559</td>\n",
       "      <td>ATW</td>\n",
       "      <td>1</td>\n",
       "    </tr>\n",
       "    <tr>\n",
       "      <th>3</th>\n",
       "      <td>2016-01-01</td>\n",
       "      <td>0001-0559</td>\n",
       "      <td>AUS</td>\n",
       "      <td>2</td>\n",
       "    </tr>\n",
       "    <tr>\n",
       "      <th>4</th>\n",
       "      <td>2016-01-01</td>\n",
       "      <td>0001-0559</td>\n",
       "      <td>BFL</td>\n",
       "      <td>1</td>\n",
       "    </tr>\n",
       "  </tbody>\n",
       "</table>\n",
       "</div>"
      ],
      "text/plain": [
       "   FlightDate    TimeBlk Airport  DepHr\n",
       "0  2016-01-01  0001-0559     ACV      1\n",
       "1  2016-01-01  0001-0559     ANC      7\n",
       "2  2016-01-01  0001-0559     ATW      1\n",
       "3  2016-01-01  0001-0559     AUS      2\n",
       "4  2016-01-01  0001-0559     BFL      1"
      ]
     },
     "execution_count": 124,
     "metadata": {},
     "output_type": "execute_result"
    }
   ],
   "source": [
    "dephr_16.head()"
   ]
  },
  {
   "cell_type": "code",
   "execution_count": 125,
   "metadata": {},
   "outputs": [],
   "source": [
    "dephr_17 = aotp_17_new.groupby(['FlightDate', 'DepTimeBlk', 'Origin']).count()[['index']].reset_index()\n",
    "dephr_17.rename(columns = {'index': 'DepHr', 'DepTimeBlk': 'TimeBlk', 'Origin': 'Airport'}, inplace=True)"
   ]
  },
  {
   "cell_type": "code",
   "execution_count": 126,
   "metadata": {},
   "outputs": [],
   "source": [
    "dephr_18 = aotp_18_new.groupby(['FlightDate', 'DepTimeBlk', 'Origin']).count()[['index']].reset_index()\n",
    "dephr_18.rename(columns = {'index': 'DepHr', 'DepTimeBlk': 'TimeBlk', 'Origin': 'Airport'}, inplace=True)"
   ]
  },
  {
   "cell_type": "markdown",
   "metadata": {},
   "source": [
    "Now do the same for scheduled arrivals."
   ]
  },
  {
   "cell_type": "code",
   "execution_count": 127,
   "metadata": {},
   "outputs": [],
   "source": [
    "arrhr_16 = aotp_16_new.groupby(['FlightDate', 'ArrTimeBlk', 'Dest']).count()[['index']].reset_index()"
   ]
  },
  {
   "cell_type": "code",
   "execution_count": 128,
   "metadata": {},
   "outputs": [],
   "source": [
    "arrhr_16.rename(columns={'index': 'ArrHr', 'ArrTimeBlk': 'TimeBlk', 'Dest': 'Airport'}, inplace=True)"
   ]
  },
  {
   "cell_type": "code",
   "execution_count": 129,
   "metadata": {},
   "outputs": [],
   "source": [
    "arrhr_17 = aotp_17_new.groupby(['FlightDate', 'ArrTimeBlk', 'Dest']).count()[['index']].reset_index()"
   ]
  },
  {
   "cell_type": "code",
   "execution_count": 131,
   "metadata": {},
   "outputs": [],
   "source": [
    "arrhr_17.rename(columns={'index': 'ArrHr', 'ArrTimeBlk': 'TimeBlk', 'Dest': 'Airport'}, inplace=True)"
   ]
  },
  {
   "cell_type": "code",
   "execution_count": 132,
   "metadata": {},
   "outputs": [],
   "source": [
    "arrhr_18 = aotp_18_new.groupby(['FlightDate', 'ArrTimeBlk', 'Dest']).count()[['index']].reset_index()"
   ]
  },
  {
   "cell_type": "code",
   "execution_count": 133,
   "metadata": {},
   "outputs": [],
   "source": [
    "arrhr_18.rename(columns={'index': 'ArrHr', 'ArrTimeBlk': 'TimeBlk', 'Dest': 'Airport'}, inplace=True)"
   ]
  },
  {
   "cell_type": "code",
   "execution_count": 1,
   "metadata": {},
   "outputs": [],
   "source": [
    "# The following lines are likely redundant and should be removed."
   ]
  },
  {
   "cell_type": "code",
   "execution_count": 136,
   "metadata": {},
   "outputs": [],
   "source": [
    "dephr_16 = dephr_16[dephr_16['Airport'].isin(airports)]"
   ]
  },
  {
   "cell_type": "code",
   "execution_count": 137,
   "metadata": {},
   "outputs": [],
   "source": [
    "dephr_17 = dephr_17[dephr_17['Airport'].isin(airports)]\n",
    "dephr_18 = dephr_18[dephr_18['Airport'].isin(airports)]"
   ]
  },
  {
   "cell_type": "code",
   "execution_count": 138,
   "metadata": {},
   "outputs": [],
   "source": [
    "arrhr_16 = arrhr_16[arrhr_16['Airport'].isin(airports)]\n",
    "arrhr_17 = arrhr_17[arrhr_17['Airport'].isin(airports)]\n",
    "arrhr_18 = arrhr_18[arrhr_18['Airport'].isin(airports)]"
   ]
  },
  {
   "cell_type": "markdown",
   "metadata": {},
   "source": [
    "Combine the hourly scheduled departure and arrival data to get hourly scheduled volume at each airport."
   ]
  },
  {
   "cell_type": "code",
   "execution_count": 145,
   "metadata": {},
   "outputs": [],
   "source": [
    "volhr_16 = pd.merge(dephr_16, arrhr_16, how='outer')"
   ]
  },
  {
   "cell_type": "code",
   "execution_count": 147,
   "metadata": {},
   "outputs": [],
   "source": [
    "volhr_17 = pd.merge(dephr_17, arrhr_17, how='outer')"
   ]
  },
  {
   "cell_type": "code",
   "execution_count": 148,
   "metadata": {},
   "outputs": [],
   "source": [
    "volhr_18 = pd.merge(dephr_18, arrhr_18, how='outer')"
   ]
  },
  {
   "cell_type": "code",
   "execution_count": 149,
   "metadata": {},
   "outputs": [],
   "source": [
    "volhr_16.fillna(0, inplace=True)"
   ]
  },
  {
   "cell_type": "code",
   "execution_count": 150,
   "metadata": {},
   "outputs": [],
   "source": [
    "volhr_17.fillna(0, inplace=True)"
   ]
  },
  {
   "cell_type": "code",
   "execution_count": 151,
   "metadata": {},
   "outputs": [],
   "source": [
    "volhr_18.fillna(0, inplace=True)"
   ]
  },
  {
   "cell_type": "code",
   "execution_count": 155,
   "metadata": {},
   "outputs": [],
   "source": [
    "volhr_16['VolHr'] = volhr_16['DepHr'] + volhr_16['ArrHr']\n",
    "volhr_17['VolHr'] = volhr_17['DepHr'] + volhr_17['ArrHr']\n",
    "volhr_18['VolHr'] = volhr_18['DepHr'] + volhr_18['ArrHr']"
   ]
  },
  {
   "cell_type": "markdown",
   "metadata": {},
   "source": [
    "Get the maximium hourly scheduled volume at each airport for each year and save all files with scheduled hourly volume data for each airport for each year."
   ]
  },
  {
   "cell_type": "code",
   "execution_count": 163,
   "metadata": {},
   "outputs": [],
   "source": [
    "maxvolhr16 = volhr_16.groupby(['Airport'])[['VolHr']].max().reset_index()\n",
    "maxvolhr17 = volhr_17.groupby(['Airport'])[['VolHr']].max().reset_index()\n",
    "maxvolhr18 = volhr_18.groupby(['Airport'])[['VolHr']].max().reset_index()"
   ]
  },
  {
   "cell_type": "code",
   "execution_count": 166,
   "metadata": {},
   "outputs": [],
   "source": [
    "maxvolhr16.rename(columns={'VolHr': 'MaxVolHr'}, inplace=True)\n",
    "maxvolhr17.rename(columns={'VolHr': 'MaxVolHr'}, inplace=True)\n",
    "maxvolhr18.rename(columns={'VolHr': 'MaxVolHr'}, inplace=True)"
   ]
  },
  {
   "cell_type": "code",
   "execution_count": 168,
   "metadata": {},
   "outputs": [],
   "source": [
    "volhr_16 = pd.merge(volhr_16, maxvolhr16, how='left')\n",
    "volhr_17 = pd.merge(volhr_17, maxvolhr17, how='left')\n",
    "volhr_18 = pd.merge(volhr_18, maxvolhr18, how='left')"
   ]
  },
  {
   "cell_type": "code",
   "execution_count": 169,
   "metadata": {},
   "outputs": [],
   "source": [
    "with open('volhr_16.pkl', 'wb') as pickl1:\n",
    "    pickle.dump(volhr_16, pickl1)"
   ]
  },
  {
   "cell_type": "code",
   "execution_count": 170,
   "metadata": {},
   "outputs": [],
   "source": [
    "with open('volhr_17.pkl', 'wb') as pickl2:\n",
    "    pickle.dump(volhr_17, pickl2)"
   ]
  },
  {
   "cell_type": "code",
   "execution_count": 171,
   "metadata": {},
   "outputs": [],
   "source": [
    "with open('volhr_18.pkl', 'wb') as pickl3:\n",
    "    pickle.dump(volhr_18, pickl3)"
   ]
  },
  {
   "cell_type": "code",
   "execution_count": null,
   "metadata": {},
   "outputs": [],
   "source": []
  }
 ],
 "metadata": {
  "kernelspec": {
   "display_name": "Python 3",
   "language": "python",
   "name": "python3"
  },
  "language_info": {
   "codemirror_mode": {
    "name": "ipython",
    "version": 3
   },
   "file_extension": ".py",
   "mimetype": "text/x-python",
   "name": "python",
   "nbconvert_exporter": "python",
   "pygments_lexer": "ipython3",
   "version": "3.6.4"
  }
 },
 "nbformat": 4,
 "nbformat_minor": 2
}
